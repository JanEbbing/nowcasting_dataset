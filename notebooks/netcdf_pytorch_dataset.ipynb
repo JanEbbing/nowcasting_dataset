{
 "cells": [
  {
   "cell_type": "code",
   "execution_count": 1,
   "id": "1ad3f8ea-2a59-4300-b4c6-a00d9a6f3436",
   "metadata": {},
   "outputs": [],
   "source": [
    "from pathlib import Path\n",
    "import pandas as pd\n",
    "import numpy as np\n",
    "import xarray as xr\n",
    "import gcsfs\n",
    "from typing import List\n",
    "import io\n",
    "import hashlib\n",
    "import os\n",
    "import matplotlib.pyplot as plt\n",
    "\n",
    "import torch\n",
    "\n",
    "from nowcasting_dataset.example import Example, to_numpy\n",
    "import nowcasting_dataset.time as nd_time\n",
    "from nowcasting_dataset.dataset import worker_init_fn\n",
    "\n",
    "import logging\n",
    "logging.basicConfig()\n",
    "logger = logging.getLogger('nowcasting_dataset')\n",
    "logger.setLevel(logging.DEBUG)"
   ]
  },
  {
   "cell_type": "code",
   "execution_count": 2,
   "id": "72b31c2c-81fc-4bf5-a48f-b87e96e7b6a6",
   "metadata": {},
   "outputs": [],
   "source": [
    "def get_netcdf_filename(batch_idx: int) -> Path:\n",
    "    \"\"\"Generate full filename, excluding path.\n",
    "    \n",
    "    Filename includes the first 6 digits of the MD5 hash of the filename,\n",
    "    as recommended by Google Cloud in order to distribute data across\n",
    "    multiple back-end servers.\n",
    "    \"\"\"\n",
    "    filename = f'{batch_idx}.nc'\n",
    "    hash_of_filename = hashlib.md5(filename.encode()).hexdigest()\n",
    "    return f'{hash_of_filename[:6]}_{filename}'\n",
    "\n",
    "\n",
    "# Test\n",
    "assert get_netcdf_filename(10) == '77eb6f_10.nc'"
   ]
  },
  {
   "cell_type": "code",
   "execution_count": 36,
   "id": "3ed3d56d-6b6c-492c-9605-aa1e5a9ff0f5",
   "metadata": {},
   "outputs": [],
   "source": [
    "class NetCDFDataset(torch.utils.data.Dataset):\n",
    "    def __init__(self, n_batches: int, src_path: str, tmp_path: str):\n",
    "        self.n_batches = n_batches\n",
    "        self.src_path = src_path\n",
    "        self.tmp_path = tmp_path\n",
    "        \n",
    "    def per_worker_init(self, worker_id: int):\n",
    "        self.gcs = gcsfs.GCSFileSystem()\n",
    "        \n",
    "    def __len__(self):\n",
    "        return self.n_batches\n",
    "    \n",
    "    def __getitem__(self, batch_idx: int) -> Example:\n",
    "        \"\"\" \n",
    "        Returns a whole batch at once.\n",
    "        \"\"\"\n",
    "        netcdf_filename = get_netcdf_filename(batch_idx)\n",
    "        remote_netcdf_filename = os.path.join(self.src_path, netcdf_filename)\n",
    "        local_netcdf_filename = os.path.join(self.tmp_path, netcdf_filename)\n",
    "        self.gcs.get(remote_netcdf_filename, local_netcdf_filename)\n",
    "        batch = xr.load_dataset(local_netcdf_filename)\n",
    "        os.remove(local_netcdf_filename)\n",
    "        \n",
    "        example = Example(\n",
    "            sat_datetime_index=batch.sat_time_coords,\n",
    "            nwp_target_time=batch.nwp_time_coords)\n",
    "        for key in [\n",
    "            'nwp', 'nwp_x_coords', 'nwp_y_coords', \n",
    "            'sat_data', 'sat_x_coords', 'sat_y_coords', \n",
    "            'pv_yield', 'pv_system_id', 'pv_system_row_number']:\n",
    "            example[key] = batch[key]\n",
    "        example = to_numpy(example)\n",
    "        return example\n",
    "            \n",
    "        # Add datetime features\n",
    "        dt_features = []\n",
    "        for dt_index_for_example in batch.sat_time_coords.values:\n",
    "            dt_index_for_example = pd.DatetimeIndex(dt_index_for_example)\n",
    "            dt_features_for_example = nd_time.datetime_features_in_example(dt_index_for_example)\n",
    "            dt_features_for_example = to_numpy(dt_features_for_example)\n",
    "            dt_features.append(dt_features_for_example)\n",
    "        dt_features = torch.utils.data._utils.collate.default_collate(dt_features)\n",
    "        example.update(dt_features)\n",
    "        \n",
    "        return example"
   ]
  },
  {
   "cell_type": "code",
   "execution_count": 49,
   "id": "cd7e5066-5b4a-4dc7-9d8d-98b198a84a22",
   "metadata": {},
   "outputs": [
    {
     "name": "stdout",
     "output_type": "stream",
     "text": [
      "CPU times: user 12 µs, sys: 0 ns, total: 12 µs\n",
      "Wall time: 15 µs\n"
     ]
    }
   ],
   "source": [
    "%%time\n",
    "ds = NetCDFDataset(30_465, 'gs://solar-pv-nowcasting-data/prepared_ML_training_data/netcdf4/', '/home/jack/temp2/')\n",
    "#ds.per_worker_init()\n",
    "#batch = ds[1]"
   ]
  },
  {
   "cell_type": "code",
   "execution_count": 50,
   "id": "b8f0b28b-8796-493f-845a-fa992c0a559c",
   "metadata": {},
   "outputs": [],
   "source": [
    "dl = torch.utils.data.DataLoader(\n",
    "    ds,\n",
    "    pin_memory=True,\n",
    "    num_workers=30,\n",
    "    prefetch_factor=1,\n",
    "    worker_init_fn=worker_init_fn,\n",
    "    \n",
    "    # Disable automatic batching because NowcastingDataset.__iter__\n",
    "    # returns complete batches\n",
    "    batch_size=1,\n",
    "    #batch_sampler=None\n",
    ")"
   ]
  },
  {
   "cell_type": "code",
   "execution_count": 51,
   "id": "038c42e4-a804-4381-aa30-f23fcaa010a8",
   "metadata": {},
   "outputs": [],
   "source": [
    "import time"
   ]
  },
  {
   "cell_type": "code",
   "execution_count": 54,
   "id": "4378d334-fa44-4d87-9142-b607490a8c23",
   "metadata": {},
   "outputs": [
    {
     "name": "stdout",
     "output_type": "stream",
     "text": [
      "CPU times: user 5.81 s, sys: 14.9 s, total: 20.7 s\n",
      "Wall time: 25.8 s\n"
     ]
    }
   ],
   "source": [
    "%%time\n",
    "durations = []\n",
    "t0 = None\n",
    "for i, batch in enumerate(dl):\n",
    "    t1 = time.time()\n",
    "    if t0:\n",
    "        durations.append(t1 - t0)\n",
    "    t0 = t1\n",
    "    if i > 2000:\n",
    "        break"
   ]
  },
  {
   "cell_type": "code",
   "execution_count": 55,
   "id": "c3076b72-9a6d-42af-affb-c2d400a78a91",
   "metadata": {},
   "outputs": [
    {
     "data": {
      "text/plain": [
       "0.012244936467885137"
      ]
     },
     "execution_count": 55,
     "metadata": {},
     "output_type": "execute_result"
    }
   ],
   "source": [
    "np.mean(durations)"
   ]
  },
  {
   "cell_type": "code",
   "execution_count": 56,
   "id": "b998aecc-9cf0-42db-9f83-9ecc258d6efc",
   "metadata": {},
   "outputs": [],
   "source": [
    "gcs = gcsfs.GCSFileSystem()"
   ]
  },
  {
   "cell_type": "code",
   "execution_count": 57,
   "id": "c4a719f7-d1b5-4db2-b4f3-9c80dca76dcf",
   "metadata": {},
   "outputs": [
    {
     "name": "stdout",
     "output_type": "stream",
     "text": [
      "CPU times: user 46.9 s, sys: 53 ms, total: 47 s\n",
      "Wall time: 49.8 s\n"
     ]
    }
   ],
   "source": [
    "%%time\n",
    "n_bytes = gcs.du('gs://solar-pv-nowcasting-data/prepared_ML_training_data/netcdf4/')"
   ]
  },
  {
   "cell_type": "code",
   "execution_count": 59,
   "id": "1cf9c95b-cd65-46f8-90dd-4c3c6231e079",
   "metadata": {},
   "outputs": [
    {
     "data": {
      "text/plain": [
       "468.720893878"
      ]
     },
     "execution_count": 59,
     "metadata": {},
     "output_type": "execute_result"
    }
   ],
   "source": [
    "n_bytes / 1E9"
   ]
  },
  {
   "cell_type": "code",
   "execution_count": null,
   "id": "5f1910d9-6b34-42ee-ae0b-536adcfaa333",
   "metadata": {},
   "outputs": [],
   "source": [
    "%%time\n",
    "gcs.du('gs://solar-pv-nowcasting-data/prepared_ML_training_data/testing.zarr') / 1E9"
   ]
  },
  {
   "cell_type": "code",
   "execution_count": null,
   "id": "96df4d78-8f0b-4951-a18a-9443f2568214",
   "metadata": {},
   "outputs": [],
   "source": []
  }
 ],
 "metadata": {
  "kernelspec": {
   "display_name": "nowcasting_dataset",
   "language": "python",
   "name": "nowcasting_dataset"
  },
  "language_info": {
   "codemirror_mode": {
    "name": "ipython",
    "version": 3
   },
   "file_extension": ".py",
   "mimetype": "text/x-python",
   "name": "python",
   "nbconvert_exporter": "python",
   "pygments_lexer": "ipython3",
   "version": "3.9.6"
  }
 },
 "nbformat": 4,
 "nbformat_minor": 5
}
