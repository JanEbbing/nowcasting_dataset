{
 "cells": [
  {
   "cell_type": "code",
   "execution_count": null,
   "id": "52ec2212",
   "metadata": {},
   "outputs": [],
   "source": [
    "# get gsp metadata\n",
    "import urllib\n",
    "import json\n",
    "import pandas as pd\n",
    "\n",
    "from pvlive_api import PVLive\n",
    "from datetime import datetime, timedelta\n",
    "import pytz\n",
    "import plotly.graph_objects as go\n",
    "\n",
    "# call ESO website\n",
    "url = 'https://data.nationalgrideso.com/api/3/action/datastore_search?resource_id=bbe2cc72-a6c6-46e6-8f4e-48b879467368&limit=400'\n",
    "fileobj = urllib.request.urlopen(url)\n",
    "d = json.loads(fileobj.read())\n",
    "\n",
    "# make dataframe\n",
    "results = d['result']['records']\n",
    "metadata_df = pd.DataFrame(results)\n",
    "\n",
    "print(metadata_df)\n"
   ]
  },
  {
   "cell_type": "code",
   "execution_count": null,
   "id": "ace00945",
   "metadata": {},
   "outputs": [],
   "source": [
    "# plot one day of data\n",
    "\n",
    "pvl = PVLive()\n",
    "\n",
    "# test getting some data\n",
    "start = datetime(2019,1,1,tzinfo=pytz.utc)\n",
    "end = datetime(2019,1,2,tzinfo=pytz.utc)\n",
    "\n",
    "one_day_gsp_data_df = pvl.between(start, end, entity_type=\"gsp\", entity_id=0, extra_fields=\"\", dataframe=True)\n",
    "\n",
    "one_day_gsp_data_df = one_day_gsp_data_df.sort_values(by=['datetime_gmt'])\n",
    "\n",
    "fig = go.Figure(data=go.Scatter(x=one_gsp_data_df['datetime_gmt'], y=one_gsp_data_df['generation_mw']))\n",
    "fig.show()\n"
   ]
  },
  {
   "cell_type": "code",
   "execution_count": null,
   "id": "5431121d",
   "metadata": {},
   "outputs": [],
   "source": [
    "# plot one month of data\n",
    "\n",
    "pvl = PVLive()\n",
    "\n",
    "# test getting some data\n",
    "start = datetime(2019,1,1,tzinfo=pytz.utc)\n",
    "end = datetime(2019,2,1, tzinfo=pytz.utc)\n",
    "\n",
    "one_month_gsp_data_df = pvl.between(start, end, entity_type=\"gsp\", entity_id=0, extra_fields=\"\", dataframe=True)\n",
    "\n",
    "one_month_gsp_data_df = one_month_gsp_data_df.sort_values(by=['datetime_gmt'])\n",
    "\n",
    "fig = go.Figure(data=go.Scatter(x=one_month_gsp_data_df['datetime_gmt'], y=one_month_gsp_data_df['generation_mw']))\n",
    "fig.show()"
   ]
  },
  {
   "cell_type": "code",
   "execution_count": null,
   "id": "12aca41c",
   "metadata": {},
   "outputs": [],
   "source": [
    "# plot one month of data, for 10 sites\n",
    "from datetime import datetime, timedelta\n",
    "pvl = PVLive()\n",
    "\n",
    "# test getting some data\n",
    "start = datetime(2019,1,1,tzinfo=pytz.utc)\n",
    "end = datetime(2019,6,1, tzinfo=pytz.utc)\n",
    "\n",
    "N_gsp_ids = 20\n",
    "\n",
    "one_month_gsp_data_df = []\n",
    "for i in range(0,20):\n",
    "    start_chunk = start\n",
    "    end_chunk = start_chunk + timedelta(days=30)\n",
    "    while end_chunk < end:\n",
    "        print(f'Getting data for id {i} from {start_chunk} to {end_chunk}')\n",
    "        one_month_gsp_data_df.append(pvl.between(start=start_chunk, \n",
    "                                                 end=end_chunk, \n",
    "                                                 entity_type=\"gsp\", \n",
    "                                                 entity_id=i, \n",
    "                                                 extra_fields=\"\", \n",
    "                                                 dataframe=True))\n",
    "        \n",
    "        start_chunk = start_chunk + timedelta(days=30)\n",
    "        end_chunk = end_chunk + timedelta(days=30)\n",
    "        \n",
    "        \n",
    "one_month_gsp_data_df = pd.concat(one_month_gsp_data_df)"
   ]
  },
  {
   "cell_type": "code",
   "execution_count": null,
   "id": "d3506341",
   "metadata": {},
   "outputs": [],
   "source": [
    "one_month_gsp_data_df = one_month_gsp_data_df.sort_values(by=['gsp_id','datetime_gmt'])\n",
    "\n",
    "fig = go.Figure()\n",
    "for i in range(0,N_gsp_ids):\n",
    "    temp_df = one_month_gsp_data_df[one_month_gsp_data_df['gsp_id'] == i]\n",
    "    \n",
    "    fig.add_trace(go.Scatter(x=temp_df['datetime_gmt'], \n",
    "                                y=temp_df['generation_mw'], name=metadata_df.loc[i].gnode_name))\n",
    "\n",
    "fig.update_layout(title='GSP solar data')\n",
    "fig.update_yaxes(title='MW')\n",
    "fig.show()"
   ]
  },
  {
   "cell_type": "code",
   "execution_count": null,
   "id": "1f4a2d52",
   "metadata": {},
   "outputs": [],
   "source": [
    "print(metadata_df.loc[1])"
   ]
  },
  {
   "cell_type": "code",
   "execution_count": null,
   "id": "13bd38c6",
   "metadata": {},
   "outputs": [],
   "source": []
  }
 ],
 "metadata": {
  "kernelspec": {
   "display_name": "Python 3 (ipykernel)",
   "language": "python",
   "name": "python3"
  },
  "language_info": {
   "codemirror_mode": {
    "name": "ipython",
    "version": 3
   },
   "file_extension": ".py",
   "mimetype": "text/x-python",
   "name": "python",
   "nbconvert_exporter": "python",
   "pygments_lexer": "ipython3",
   "version": "3.9.6"
  }
 },
 "nbformat": 4,
 "nbformat_minor": 5
}
