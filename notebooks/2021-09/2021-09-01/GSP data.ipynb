{
 "cells": [
  {
   "cell_type": "code",
   "execution_count": null,
   "id": "3407b6ba",
   "metadata": {},
   "outputs": [],
   "source": [
    "# get data\n",
    "import urllib\n",
    "import json\n",
    "url = 'https://data.nationalgrideso.com/api/3/action/datastore_search?resource_id=bbe2cc72-a6c6-46e6-8f4e-48b879467368&limit=400'\n",
    "fileobj = urllib.request.urlopen(url)\n",
    "d = json.loads(fileobj.read())\n",
    "\n",
    "print(d)\n"
   ]
  },
  {
   "cell_type": "code",
   "execution_count": null,
   "id": "6a58b2c7",
   "metadata": {},
   "outputs": [],
   "source": [
    "# load data\n",
    "import pandas as pd\n",
    "results = d['result']['records']\n",
    "\n",
    "data_df = pd.DataFrame(results)\n",
    "print(len(data_df))\n"
   ]
  },
  {
   "cell_type": "code",
   "execution_count": null,
   "id": "cb615160",
   "metadata": {},
   "outputs": [],
   "source": [
    "# plot data\n",
    "\n",
    "import plotly.graph_objects as go\n",
    "\n",
    "fig = go.Figure(data=go.Scatter(x=data_df['gsp_lon'], y=data_df['gsp_lat'], mode='markers'))\n",
    "\n",
    "fig.show()"
   ]
  },
  {
   "cell_type": "code",
   "execution_count": null,
   "id": "ddfc9698",
   "metadata": {},
   "outputs": [],
   "source": [
    "# plot on static map\n",
    "\n",
    "import staticmaps\n",
    "from staticmaps.marker import Marker\n",
    "\n",
    "\n",
    "context = staticmaps.Context()\n",
    "\n",
    "# make bottom left and top right bounding box for map, happens to be Oxford and Norwich\n",
    "bottom_left = staticmaps.create_latlng(50, -8)\n",
    "top_right = staticmaps.create_latlng(59, 3)\n",
    "\n",
    "for i in range(len(data_df)-4):\n",
    "    row = data_df.iloc[i]\n",
    "    context.add_object(Marker(staticmaps.create_latlng(row.gnode_lat, row.gnode_lon), size=3))\n",
    "    \n",
    "    \n",
    "# make clean map\n",
    "m = context.make_clean_map_from_bounding_box(bottom_left=bottom_left, top_right=top_right, width=1000, height=1000)\n",
    "\n",
    "m.show()\n",
    "m.save('GSP.png')"
   ]
  },
  {
   "cell_type": "code",
   "execution_count": null,
   "id": "d5e08e2d",
   "metadata": {},
   "outputs": [],
   "source": [
    "# plot using plotly\n",
    "import numpy as np\n",
    "import plotly.graph_objects as go\n",
    "\n",
    "m = np.array(m)\n",
    "print(m.shape)\n",
    "\n",
    "x = (data_df['gnode_lon'] +8) / 11 * m.shape[1]\n",
    "y = (59-data_df['gnode_lat']) / 9 * m.shape[0]\n",
    "\n",
    "trace_map = go.Image(z=m)\n",
    "\n",
    "layout = go.Layout(\n",
    "    paper_bgcolor='rgba(0,0,0,0)',\n",
    "    plot_bgcolor='rgba(0,0,0,0)'\n",
    ")\n",
    "\n",
    "fig = go.Figure(data=[trace_map, go.Scatter(x=x, y=y, mode='markers', text=data_df['gnode_name'],  \n",
    "                                            marker=dict(color='LightSkyBlue'))],\n",
    "               layout=layout)\n",
    "\n",
    "fig.update_yaxes(showticklabels=False)\n",
    "fig.update_xaxes(showticklabels=False)\n",
    "\n",
    "\n",
    "\n",
    "fig.show()\n",
    "\n",
    "### This doesnt quite work, due to curitual of the world\n",
    "\n"
   ]
  },
  {
   "cell_type": "code",
   "execution_count": null,
   "id": "c4bffdb2",
   "metadata": {},
   "outputs": [],
   "source": []
  },
  {
   "cell_type": "code",
   "execution_count": null,
   "id": "2548a7da",
   "metadata": {},
   "outputs": [],
   "source": []
  },
  {
   "cell_type": "code",
   "execution_count": null,
   "id": "3ad608b5",
   "metadata": {},
   "outputs": [],
   "source": []
  },
  {
   "cell_type": "code",
   "execution_count": null,
   "id": "9087e598",
   "metadata": {},
   "outputs": [],
   "source": []
  }
 ],
 "metadata": {
  "kernelspec": {
   "display_name": "Python 3 (ipykernel)",
   "language": "python",
   "name": "python3"
  },
  "language_info": {
   "codemirror_mode": {
    "name": "ipython",
    "version": 3
   },
   "file_extension": ".py",
   "mimetype": "text/x-python",
   "name": "python",
   "nbconvert_exporter": "python",
   "pygments_lexer": "ipython3",
   "version": "3.9.6"
  }
 },
 "nbformat": 4,
 "nbformat_minor": 5
}
