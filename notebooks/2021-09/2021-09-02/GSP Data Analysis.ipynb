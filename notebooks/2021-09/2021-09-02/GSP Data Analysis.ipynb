{
 "cells": [
  {
   "cell_type": "code",
   "execution_count": null,
   "id": "7d30935b",
   "metadata": {},
   "outputs": [],
   "source": [
    "from nowcasting_dataset.data_sources.pv_gsp_data_source import load_solar_pv_gsp_data_from_gcs\n",
    "import plotly.graph_objects as go\n",
    "from datetime import datetime\n",
    "import numpy as np\n"
   ]
  },
  {
   "cell_type": "code",
   "execution_count": null,
   "id": "0cea418b",
   "metadata": {},
   "outputs": [],
   "source": [
    "# lets load the data from gcp\n",
    "# filename = \"/Users/peterdudfield/Documents/Github/nowcasting_dataset/notebooks/2021-09/2021-09-02/pv_gsp.zarr\"\n",
    "filename = \"gs://solar-pv-nowcasting-data/PV/GSP/v0/pv_gsp.zarr/\"\n",
    "\n",
    "data = load_solar_pv_gsp_data_from_gcs(\n",
    "    from_gcs=False,\n",
    "    filename=filename,\n",
    ")\n",
    "\n"
   ]
  },
  {
   "cell_type": "code",
   "execution_count": null,
   "id": "0662e70c",
   "metadata": {},
   "outputs": [],
   "source": [
    "# plot first 10 systems\n",
    "fig = go.Figure()\n",
    "for i in range(1, 10):\n",
    "    fig.add_trace(go.Scatter(x=data.index, y=data[i]))\n",
    "fig.update_layout(\n",
    "    title=\"GSP PV of 10 systems\",\n",
    "    yaxis_title=\"GSP PV [MW]\",\n",
    "    xaxis_title=\"Time\",\n",
    ")\n",
    "fig.show()"
   ]
  },
  {
   "cell_type": "code",
   "execution_count": null,
   "id": "b135024a",
   "metadata": {},
   "outputs": [],
   "source": [
    "# lets pick out one day and plot all the systems in that day\n",
    "start_dt = datetime(2019, 4, 1)\n",
    "end_dt = datetime(2019, 4, 2)\n",
    "data_one_day = data[(data.index <= end_dt) & (data.index >= start_dt)]\n",
    "\n",
    "# plot\n",
    "fig = go.Figure()\n",
    "for col in data_one_day.columns:\n",
    "    fig.add_trace(go.Scatter(x=data_one_day.index, y=data_one_day[col]))\n",
    "fig.update_layout(\n",
    "    title=\"GSP PV on 2019-04-01\",\n",
    "    yaxis_title=\"GSP PV [MW]\",\n",
    "    xaxis_title=\"Time\",\n",
    ")\n",
    "fig.show()\n",
    "# shows one day, with the max about 350 MW"
   ]
  },
  {
   "cell_type": "code",
   "execution_count": null,
   "id": "e638d0cc",
   "metadata": {},
   "outputs": [],
   "source": [
    "# lets look at the distributions of the peaks on that day\n",
    "max_pv = data_one_day.max()\n",
    "fig = go.Figure(data=[go.Histogram(x=max_pv)])\n",
    "fig.update_layout(\n",
    "    title=\"Historgram of max GSP PV on 2019-04-01\",\n",
    "    xaxis_title=\"GSP PV [MW]\",\n",
    "    yaxis_title=\"count\",\n",
    ")\n",
    "fig.show()\n",
    "\n",
    "# 60% of gsp systems are producing less than 5 MW\n",
    "\n",
    "# lets plot cdf\n",
    "from statsmodels.distributions.empirical_distribution import ECDF\n",
    "\n",
    "fig = go.Figure()\n",
    "fig.add_scatter(x=np.unique(max_pv), y=ECDF(max_pv)(np.unique(max_pv)), line_shape='hv')\n",
    "fig.update_layout(\n",
    "    title=\"CDF of max GSP PV on 2019-04-01\",\n",
    "    xaxis_title=\"GSP PV [MW]\",\n",
    "    yaxis_title=\"CDF\",\n",
    ")\n",
    "fig.show()\n",
    "\n",
    "# 60% of gsp systems are producing less than 5 MW\n",
    "# 70% of gsp systems are producing less than 10 MW\n",
    "# 80% of gsp systems are producing less than 36 MW\n",
    "# 90% of gsp systems are producing less than 78 MW\n",
    "# means 10 % of gsp systems ~38 produce around 8000 MW, average of ~200MW each\n",
    "\n",
    "\n"
   ]
  },
  {
   "cell_type": "code",
   "execution_count": null,
   "id": "853d671a",
   "metadata": {},
   "outputs": [],
   "source": []
  }
 ],
 "metadata": {
  "kernelspec": {
   "display_name": "Python 3 (ipykernel)",
   "language": "python",
   "name": "python3"
  },
  "language_info": {
   "codemirror_mode": {
    "name": "ipython",
    "version": 3
   },
   "file_extension": ".py",
   "mimetype": "text/x-python",
   "name": "python",
   "nbconvert_exporter": "python",
   "pygments_lexer": "ipython3",
   "version": "3.9.6"
  }
 },
 "nbformat": 4,
 "nbformat_minor": 5
}
