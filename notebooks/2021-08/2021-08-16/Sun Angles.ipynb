{
 "cells": [
  {
   "cell_type": "markdown",
   "id": "3499760d",
   "metadata": {},
   "source": [
    "Idea is to try out 'pysolar' package. https://pysolar.readthedocs.io/en/latest/. This data could be used to enhance dataset. \n",
    "\n",
    "\n",
    "<img src=\"./angles.png\" alt=\"drawing\" width=\"400\"/>"
   ]
  },
  {
   "cell_type": "code",
   "execution_count": 17,
   "id": "fc4fe679",
   "metadata": {},
   "outputs": [
    {
     "name": "stdout",
     "output_type": "stream",
     "text": [
      "Altitude angle right now is 39.0512676824061\n",
      "Mid-summer altitude angle is 62.43594192126586\n",
      "Mid-winter altitude angle is 15.620331125576355\n"
     ]
    },
    {
     "name": "stderr",
     "output_type": "stream",
     "text": [
      "/Users/peterdudfield/miniconda3/lib/python3.9/site-packages/pysolar/solartime.py:110: UserWarning: I don't know about leap seconds after 2020\n",
      "  warnings.warn \\\n"
     ]
    }
   ],
   "source": [
    "from pysolar import solar\n",
    "import datetime\n",
    "\n",
    "# roughly london cooridnates\n",
    "latitude = 51\n",
    "longitude = 0\n",
    "\n",
    "# get the altitude angle right now\n",
    "date = datetime.datetime.now(datetime.timezone.utc)\n",
    "a = solar.get_altitude(latitude, longitude, date)\n",
    "print(f'Altitude angle right now is {a}')\n",
    "\n",
    "# get the altitude angle at 12.00 on midsummer\n",
    "date = datetime.datetime(2021,6,22,12,tzinfo=datetime.timezone.utc)\n",
    "a = solar.get_altitude(latitude, longitude, date)\n",
    "print(f'Mid-summer altitude angle is {a}')\n",
    "\n",
    "# get the altitude angle at 12.00 on mid winter\n",
    "date = datetime.datetime(2021,12,22,12,tzinfo=datetime.timezone.utc)\n",
    "a = solar.get_altitude(latitude, longitude, date)\n",
    "print(f'Mid-winter altitude angle is {a}')"
   ]
  },
  {
   "cell_type": "code",
   "execution_count": 11,
   "id": "7346776a",
   "metadata": {},
   "outputs": [
    {
     "name": "stdout",
     "output_type": "stream",
     "text": [
      "Mid-winter azimuth angle is 180.33261684527582\n",
      "Mid-winter azimuth angle is 0.8153803179842214 at 0 hours\n",
      "Mid-winter azimuth angle is 29.145159449446993 at 1 hours\n",
      "Mid-winter azimuth angle is 51.8515681739288 at 2 hours\n",
      "Mid-winter azimuth angle is 69.02755191178824 at 3 hours\n",
      "Mid-winter azimuth angle is 82.71328071923766 at 4 hours\n",
      "Mid-winter azimuth angle is 94.53313692070014 at 5 hours\n",
      "Mid-winter azimuth angle is 105.53413678796936 at 6 hours\n",
      "Mid-winter azimuth angle is 116.4101074342384 at 7 hours\n",
      "Mid-winter azimuth angle is 127.65326347530785 at 8 hours\n",
      "Mid-winter azimuth angle is 139.60911204460584 at 9 hours\n",
      "Mid-winter azimuth angle is 152.45582436419454 at 10 hours\n",
      "Mid-winter azimuth angle is 166.13922539463377 at 11 hours\n",
      "Mid-winter azimuth angle is 180.33261684527582 at 12 hours\n",
      "Mid-winter azimuth angle is 194.5130741106809 at 13 hours\n",
      "Mid-winter azimuth angle is 208.16296140182246 at 14 hours\n",
      "Mid-winter azimuth angle is 220.96769616945144 at 15 hours\n",
      "Mid-winter azimuth angle is 232.88533601170636 at 16 hours\n",
      "Mid-winter azimuth angle is 244.10311402295162 at 17 hours\n",
      "Mid-winter azimuth angle is 254.9733333878303 at 18 hours\n",
      "Mid-winter azimuth angle is 265.99573311572397 at 19 hours\n",
      "Mid-winter azimuth angle is 277.87641495154554 at 20 hours\n",
      "Mid-winter azimuth angle is 291.6841880611827 at 21 hours\n",
      "Mid-winter azimuth angle is 309.0734963477422 at 22 hours\n",
      "Mid-winter azimuth angle is 332.07231088468143 at 23 hours\n"
     ]
    }
   ],
   "source": [
    "# azimuth angle of the sun\n",
    "\n",
    "# get the altitude angle at 12.00 on mid winter\n",
    "date = datetime.datetime(2021,12,22,12,tzinfo=datetime.timezone.utc)\n",
    "a = solar.get_azimuth(latitude, longitude, date)\n",
    "print(f'Mid-winter azimuth angle is {a}')\n",
    "\n",
    "# loop over hours in the day\n",
    "for hour in range(0,24):\n",
    "    date = datetime.datetime(2021,12,22,hour,tzinfo=datetime.timezone.utc)\n",
    "    a = solar.get_azimuth(latitude, longitude, date)\n",
    "    print(f'Mid-winter azimuth angle is {a} at {hour} hours')\n",
    "    \n"
   ]
  },
  {
   "cell_type": "code",
   "execution_count": 49,
   "id": "0ae9ea14",
   "metadata": {},
   "outputs": [
    {
     "name": "stdout",
     "output_type": "stream",
     "text": [
      "Took 2.7064759731292725 seconds to make 1153 data points\n",
      "                            latitude   longitude                 datestamp  \\\n",
      "2021-01-01 00:00:00+00:00   0.834009  172.420297 2021-01-01 00:00:00+00:00   \n",
      "2021-01-01 00:05:00+00:00  13.949034 -155.088192 2021-01-01 00:05:00+00:00   \n",
      "2021-01-01 00:10:00+00:00  14.682011 -108.658959 2021-01-01 00:10:00+00:00   \n",
      "2021-01-01 00:15:00+00:00 -28.723342    5.082953 2021-01-01 00:15:00+00:00   \n",
      "2021-01-01 00:20:00+00:00 -62.363635  -74.302603 2021-01-01 00:20:00+00:00   \n",
      "\n",
      "                            altitude     azimuth  \n",
      "2021-01-01 00:00:00+00:00  64.802818  161.534120  \n",
      "2021-01-01 00:05:00+00:00  45.526560  214.172977  \n",
      "2021-01-01 00:10:00+00:00   9.381081  243.120716  \n",
      "2021-01-01 00:15:00+00:00 -37.709818  170.697741  \n",
      "2021-01-01 00:20:00+00:00  11.678957  242.115167  \n"
     ]
    }
   ],
   "source": [
    "# Working this out for a pandas series\n",
    "import pandas as pd\n",
    "import numpy as np\n",
    "import time\n",
    "\n",
    "# create fake data\n",
    "data = pd.DataFrame(index=pd.date_range(start='2021-01-01', end='2021-01-05', tz='UTC', freq='5T'))\n",
    "data['latitude'] = np.random.uniform(-90,90,len(data))  \n",
    "data['longitude'] = np.random.uniform(-180,180,len(data))\n",
    "data['datestamp'] = data.index.to_pydatetime()\n",
    "\n",
    "t = time.time()\n",
    "data['altitude'] = data.apply(\n",
    "      lambda row: solar.get_altitude(row.latitude, \n",
    "                                     row.longitude, \n",
    "                                     row.datestamp.to_pydatetime()), axis=1)\n",
    "\n",
    "data['azimuth'] = data.apply(\n",
    "      lambda row: solar.get_azimuth(row.latitude, \n",
    "                                     row.longitude, \n",
    "                                     row.datestamp.to_pydatetime()), axis=1)\n",
    "\n",
    "# seems to take about 2 seconds per 1000 datapoints. Is this fast enough?\n",
    "print(f'Took {time.time()-t} seconds to make {len(data)} data points')\n",
    "print(data.head())\n",
    "\n"
   ]
  },
  {
   "cell_type": "code",
   "execution_count": 65,
   "id": "96c422c7",
   "metadata": {},
   "outputs": [
    {
     "name": "stdout",
     "output_type": "stream",
     "text": [
      "                           apparent_zenith      zenith  apparent_elevation  \\\n",
      "2021-01-01 00:00:00+00:00       126.155548  126.155548          -36.155548   \n",
      "2021-01-01 00:05:00+00:00       125.059834  125.059834          -35.059834   \n",
      "2021-01-01 00:10:00+00:00       123.959754  123.959754          -33.959754   \n",
      "2021-01-01 00:15:00+00:00       122.855592  122.855592          -32.855592   \n",
      "2021-01-01 00:20:00+00:00       121.747615  121.747615          -31.747615   \n",
      "\n",
      "                           elevation     azimuth  equation_of_time  \n",
      "2021-01-01 00:00:00+00:00 -36.155548  118.940350         -3.431294  \n",
      "2021-01-01 00:05:00+00:00 -35.059834  118.509945         -3.432928  \n",
      "2021-01-01 00:10:00+00:00 -33.959754  118.102241         -3.434562  \n",
      "2021-01-01 00:15:00+00:00 -32.855592  117.716144         -3.436196  \n",
      "2021-01-01 00:20:00+00:00 -31.747615  117.350639         -3.437830  \n",
      "Took 0.03498125076293945 seconds to make 1152 data points\n"
     ]
    }
   ],
   "source": [
    "from pvlib import solarposition\n",
    "\n",
    "tz = 'UTC'\n",
    "lat, lon = 0, 51\n",
    "# create fake data\n",
    "times = pd.date_range('2021-01-01 00:00:00', '2021-01-05', closed='left',\n",
    "                      freq='5T', tz=tz)\n",
    "\n",
    "t = time.time()\n",
    "solpos = solarposition.get_solarposition(times, lat, lon)\n",
    "print(solpos.head())\n",
    "\n",
    "# seems to take about 0.03 seconds per 1000 datapoints. Is this fast enough?\n",
    "print(f'Took {time.time()-t} seconds to make {len(times)} data points')\n",
    "\n",
    "# Note that this takes constant lat and lon in. \n"
   ]
  },
  {
   "cell_type": "code",
   "execution_count": null,
   "id": "b8fc3693",
   "metadata": {},
   "outputs": [],
   "source": []
  }
 ],
 "metadata": {
  "kernelspec": {
   "display_name": "Python 3 (ipykernel)",
   "language": "python",
   "name": "python3"
  },
  "language_info": {
   "codemirror_mode": {
    "name": "ipython",
    "version": 3
   },
   "file_extension": ".py",
   "mimetype": "text/x-python",
   "name": "python",
   "nbconvert_exporter": "python",
   "pygments_lexer": "ipython3",
   "version": "3.9.6"
  }
 },
 "nbformat": 4,
 "nbformat_minor": 5
}
