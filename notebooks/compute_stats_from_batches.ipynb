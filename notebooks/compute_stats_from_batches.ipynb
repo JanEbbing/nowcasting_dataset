{
 "cells": [
  {
   "cell_type": "code",
   "execution_count": 1,
   "id": "93b67994-55fb-4671-ad0d-bf8dc05fae2b",
   "metadata": {},
   "outputs": [],
   "source": [
    "import xarray as xr\n",
    "from pathlib import Path\n",
    "import pandas as pd\n",
    "import numpy as np"
   ]
  },
  {
   "cell_type": "code",
   "execution_count": 2,
   "id": "ec61d0fa-ea20-42d8-9f2c-81da79a7c242",
   "metadata": {},
   "outputs": [],
   "source": [
    "BASE_PATH = Path(\"/mnt/storage_ssd_4tb/data/ocf/solar_pv_nowcasting/nowcasting_dataset_pipeline/prepared_ML_training_data/v15/train\")\n",
    "DATA_SOURCE_NAMES = (\"gsp\", \"hrvsatellite\", \"nwp\", \"pv\", \"satellite\", \"sun\", \"topographic\")"
   ]
  },
  {
   "cell_type": "code",
   "execution_count": 23,
   "id": "8b439824-fad2-42c5-a2ce-e5be7a0a3829",
   "metadata": {},
   "outputs": [],
   "source": [
    "def compute_accumulators(data_array: xr.DataArray) -> pd.DataFrame:\n",
    "    dims_to_aggregate_over = set(data_array.dims) - set(['channels_index'])\n",
    "    data_array = data_array.astype(np.float64)  # Minimise numerical instability.\n",
    "    _count = data_array.count(dim=dims_to_aggregate_over).to_series()\n",
    "    _sum = data_array.sum(dim=dims_to_aggregate_over).to_series()\n",
    "    _sum_of_squares = (data_array ** 2).sum(dim=dims_to_aggregate_over).to_series()\n",
    "    return pd.DataFrame({\n",
    "        'count': _count,\n",
    "        'sum': _sum.astype(np.float128),\n",
    "        'sum_of_squares': _sum_of_squares.astype(np.float128)\n",
    "    })"
   ]
  },
  {
   "cell_type": "code",
   "execution_count": 24,
   "id": "f762a247-f9c8-461a-a18a-418a576e3fba",
   "metadata": {},
   "outputs": [],
   "source": [
    "def compute_std(accumulators: pd.DataFrame):\n",
    "    return np.sqrt(\n",
    "        (accumulators['count'] * accumulators['sum_of_squares'] - accumulators['sum'] * accumulators['sum'])\n",
    "        / \n",
    "        (accumulators['count'] * (accumulators['count'] - 1))\n",
    "    )"
   ]
  },
  {
   "cell_type": "code",
   "execution_count": 30,
   "id": "7432d7d1-9875-476f-bbd9-b69d466b4de4",
   "metadata": {},
   "outputs": [],
   "source": [
    "def compute_mean(accumulators: pd.DataFrame):\n",
    "    return accumulators['sum'] / accumulators['count']"
   ]
  },
  {
   "cell_type": "code",
   "execution_count": 25,
   "id": "848a9f9c-8864-46ae-8697-673283968455",
   "metadata": {},
   "outputs": [],
   "source": [
    "def load_and_check_batch(filename: Path) -> pd.DataFrame:\n",
    "    \"\"\"Loads a batch NetCDF file. Computes stats. Returns pd.Series mapping stat name to stat value.\"\"\"\n",
    "    dataset = xr.load_dataset(filename, mode=\"r\")\n",
    "    data_array = dataset['data']\n",
    "    \n",
    "    # Validation checks:\n",
    "    assert np.isfinite(data_array).all()\n",
    "    #assert (data_array >= 0).all()\n",
    "    #assert (data_array <= 1023).all()\n",
    "    \n",
    "    # Compute accumulators for standard deviation and mean:\n",
    "    return compute_accumulators(data_array)"
   ]
  },
  {
   "cell_type": "code",
   "execution_count": 26,
   "id": "51fc29bb-177d-48c2-ad7a-e89f8d68fa7e",
   "metadata": {},
   "outputs": [
    {
     "name": "stdout",
     "output_type": "stream",
     "text": [
      "10 filenames found\n",
      "   10/   10: /mnt/storage_ssd_4tb/data/ocf/solar_pv_nowcasting/nowcasting_dataset_pipeline/prepared_ML_training_data/v15/train/nwp/000009.nc\r"
     ]
    }
   ],
   "source": [
    "def run_on_all_files():\n",
    "    filenames = (BASE_PATH / \"nwp\").glob(\"*.nc\")\n",
    "    filenames = np.sort(list(filenames))[:10]\n",
    "    n = len(filenames)\n",
    "    print(n, \"filenames found\")\n",
    "    accumulators = None\n",
    "    for i, filename in enumerate(filenames):\n",
    "        print(f\"{i+1:5,d}/{n:5,d}: {filename}\\r\", flush=True, end=\"\")\n",
    "        accumulators_for_filename = load_and_check_batch(filename)\n",
    "        if accumulators is None:\n",
    "            accumulators = accumulators_for_filename\n",
    "        else:\n",
    "            accumulators += accumulators_for_filename\n",
    "            \n",
    "    return accumulators\n",
    "\n",
    "accumulators = run_on_all_files()"
   ]
  },
  {
   "cell_type": "code",
   "execution_count": 38,
   "id": "d1d36a65-2c0a-4e4f-aa19-d6c2f78f954b",
   "metadata": {},
   "outputs": [],
   "source": [
    "accumulators.to_csv(\"accumulators.csv\")"
   ]
  },
  {
   "cell_type": "code",
   "execution_count": 39,
   "id": "21e8400c-384b-495f-bba4-d790ff8e114e",
   "metadata": {},
   "outputs": [],
   "source": [
    "compute_std(accumulators).to_csv(\"std.csv\")"
   ]
  },
  {
   "cell_type": "code",
   "execution_count": 40,
   "id": "82fc548b-1da0-4145-a9b7-c5eb3689a9d7",
   "metadata": {},
   "outputs": [],
   "source": [
    "compute_mean(accumulators).to_csv(\"mean.csv\")"
   ]
  },
  {
   "cell_type": "code",
   "execution_count": null,
   "id": "a6660979-8594-4e6b-924a-44421794f03d",
   "metadata": {},
   "outputs": [],
   "source": []
  }
 ],
 "metadata": {
  "kernelspec": {
   "display_name": "nowcasting_dataset",
   "language": "python",
   "name": "nowcasting_dataset"
  },
  "language_info": {
   "codemirror_mode": {
    "name": "ipython",
    "version": 3
   },
   "file_extension": ".py",
   "mimetype": "text/x-python",
   "name": "python",
   "nbconvert_exporter": "python",
   "pygments_lexer": "ipython3",
   "version": "3.9.7"
  }
 },
 "nbformat": 4,
 "nbformat_minor": 5
}
