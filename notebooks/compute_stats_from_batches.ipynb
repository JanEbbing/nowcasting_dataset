{
 "cells": [
  {
   "cell_type": "code",
   "execution_count": 6,
   "id": "93b67994-55fb-4671-ad0d-bf8dc05fae2b",
   "metadata": {},
   "outputs": [],
   "source": [
    "import xarray as xr\n",
    "from pathlib import Path\n",
    "import pandas as pd"
   ]
  },
  {
   "cell_type": "code",
   "execution_count": 8,
   "id": "ec61d0fa-ea20-42d8-9f2c-81da79a7c242",
   "metadata": {},
   "outputs": [],
   "source": [
    "BASE_PATH = Path(\"/mnt/storage_ssd_4tb/data/ocf/solar_pv_nowcasting/nowcasting_dataset_pipeline/prepared_ML_training_data/v15/train\")\n",
    "DATA_SOURCE_NAMES = (\"gsp\", \"hrvsatellite\", \"nwp\", \"pv\", \"satellite\", \"sun\", \"topographic\")"
   ]
  },
  {
   "cell_type": "code",
   "execution_count": 7,
   "id": "848a9f9c-8864-46ae-8697-673283968455",
   "metadata": {},
   "outputs": [],
   "source": [
    "def load_and_check_batch(filename: Path) -> pd.Series:\n",
    "    \"\"\"Loads a batch NetCDF file. Computes stats. Returns pd.Series mapping stat name to stat value.\"\"\"\n",
    "    dataset = xr.load_dataset(filename, mode=\"r\")\n",
    "    "
   ]
  },
  {
   "cell_type": "code",
   "execution_count": null,
   "id": "51fc29bb-177d-48c2-ad7a-e89f8d68fa7e",
   "metadata": {},
   "outputs": [],
   "source": [
    "def main():\n",
    "    # Use multiprocessing.Pool.map to load load_and_check_batch for each filename."
   ]
  },
  {
   "cell_type": "code",
   "execution_count": null,
   "id": "891f3cbc-9e44-4140-b4b7-1c0988dde684",
   "metadata": {},
   "outputs": [],
   "source": [
    "%%time\n",
    "filename = BASE_PATH / \"nwp\" / \"000000.nc\"\n",
    "dataset = xr.load_dataset(filename, mode=\"r\")"
   ]
  },
  {
   "cell_type": "code",
   "execution_count": null,
   "id": "4f35c607-2f55-4b0b-adfe-0b3b403c7aad",
   "metadata": {},
   "outputs": [],
   "source": []
  }
 ],
 "metadata": {
  "kernelspec": {
   "display_name": "nowcasting_dataset",
   "language": "python",
   "name": "nowcasting_dataset"
  },
  "language_info": {
   "codemirror_mode": {
    "name": "ipython",
    "version": 3
   },
   "file_extension": ".py",
   "mimetype": "text/x-python",
   "name": "python",
   "nbconvert_exporter": "python",
   "pygments_lexer": "ipython3",
   "version": "3.9.7"
  }
 },
 "nbformat": 4,
 "nbformat_minor": 5
}
