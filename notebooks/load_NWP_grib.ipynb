{
 "cells": [
  {
   "cell_type": "code",
   "execution_count": 1,
   "id": "cf9b8624-4cc8-42fa-aaee-b17df33e7438",
   "metadata": {},
   "outputs": [],
   "source": [
    "from pathlib import Path\n",
    "import cfgrib\n",
    "import matplotlib.pyplot as plt\n",
    "import numpy as np\n",
    "import pandas as pd\n",
    "import re\n",
    "import datetime\n",
    "import xarray as xr\n",
    "from typing import Union, Tuple\n",
    "import numcodecs\n",
    "import multiprocessing"
   ]
  },
  {
   "cell_type": "markdown",
   "id": "04452225-cb01-4988-b870-9907f96447fc",
   "metadata": {},
   "source": [
    "This notebook is research for [GitHub issue #344: Convert NWP grib files to Zarr intermediate](https://github.com/openclimatefix/nowcasting_dataset/issues/344).\n",
    "\n",
    "Useful links:\n",
    "\n",
    "* [Met Office's data docs](http://cedadocs.ceda.ac.uk/1334/1/uk_model_data_sheet_lores1.pdf)\n",
    "\n",
    "Known differences between the old Zarr (UKV__2018-01_to_2019-12__chunks__variable10__init_time1__step1__x548__y704__.zarr) and the new zarr:\n",
    "\n",
    "* Images in the old zarr were top-to-bottom.  Images in the new Zarr follow the ordering in the grib files: bottom-to-top.\n",
    "* The x and y coordinates are different by 1km each.\n",
    "* The new Zarr is float16?\n",
    "* The new Zarr has a few more variables.\n",
    "\n",
    "Done:\n",
    "\n",
    "* Merge Wholesale1 and 2 (2 includes dswrf, lcc, mcc, and hcc)\n",
    "* Remove dimensions we don't care about (e.g. select temperature at 1 meter, not 0 meters)\n",
    "* Reshape images from 1D to 2D.\n",
    "* Do we really need to convert datetimes to unix epochs before appending to zarr?  If no, submit a bug report.\n",
    "* eccodes takes ages to load multiple datasets from each grib.  Maybe it'd be faster to pre-load each grib into ramdisk?  UPDATE: Nope, it's not faster!  What does give a big speedup, though, is using an idx file!\n",
    "* Reshaping is pretty slow.  Maybe go back to using `np.reshape`?\n",
    "* Experiment with when it might be fastest to load data into memory.\n",
    "* Remove `wholesale_file_number`.  And then use a `pd.Series` instead of a DF.\n",
    "* Zarr chunk size and compression.\n",
    "* Write to leonardo's SSD\n",
    "* Do we need to combine all the DataArrays into a single DataArray (with \"variable\" being a dimension?).  The upside is that then a single Zarr chunk can include multiple variables.  The downside is that we lose the metadata (but that's not a huge problem, maybe?)\n",
    "* Convert to float16? UPDATE: Nope, float16 results in dswrf being inf.\n",
    "* Parallelise\n",
    "\n",
    "Some outstanding questions / Todo items\n",
    "\n",
    "\n",
    "* Experiment with compression\n",
    "* Load some data to make sure float16 is fine!\n",
    "* Separately log \"bad files\" to a CSV file?\n",
    "* Restart from last `time` in existing Zarr.\n",
    "* Check for NaNs.  cdcb has NaNs.\n",
    "* Convert to script\n",
    "* Use click to set source and target directories\n",
    "\n"
   ]
  },
  {
   "cell_type": "code",
   "execution_count": 2,
   "id": "89fc49d7-2806-4277-9019-c33d4e6a3963",
   "metadata": {},
   "outputs": [],
   "source": [
    "# Define geographical domain for UKV.\n",
    "# Taken from page 4 of http://cedadocs.ceda.ac.uk/1334/1/uk_model_data_sheet_lores1.pdf\n",
    "# To quote the PDF:\n",
    "# \"The United Kingdom domain is a 1,096km x 1,408km ~2km resolution grid.\n",
    "# The OS National Grid corners of the domain are:\"\n",
    "\n",
    "DY_METERS = DX_METERS = 2_000\n",
    "NORTH = 1223_000\n",
    "SOUTH = -185_000\n",
    "WEST = -239_000 \n",
    "EAST = 857_000\n",
    "\n",
    "# Note that the UKV NWPs y is top-to-bottom\n",
    "NORTHING = np.arange(start=NORTH, stop=SOUTH, step=-DY_METERS, dtype=np.int32)\n",
    "EASTING = np.arange(start=WEST, stop=EAST, step=DX_METERS, dtype=np.int32)\n",
    "\n",
    "NUM_ROWS = len(NORTHING)\n",
    "NUM_COLS = len(EASTING)"
   ]
  },
  {
   "cell_type": "code",
   "execution_count": 3,
   "id": "c703f9a0-12a9-4a40-b64e-8958efdd267f",
   "metadata": {},
   "outputs": [],
   "source": [
    "# NWP_PATH = Path(\"/home/jack/Data/NWP/01\")\n",
    "#NWP_PATH = Path(\"/media/jack/128GB_USB/NWPs\")  # Must not include trailing slash!!!\n",
    "NWP_PATH = Path(\"/mnt/storage_b/data/ocf/solar_pv_nowcasting/nowcasting_dataset_pipeline/NWP/UK_Met_Office/UKV/native\")"
   ]
  },
  {
   "cell_type": "code",
   "execution_count": 4,
   "id": "26672e96-73da-43a9-af05-bebb160ad46f",
   "metadata": {},
   "outputs": [],
   "source": [
    "assert NWP_PATH.exists()"
   ]
  },
  {
   "cell_type": "code",
   "execution_count": 5,
   "id": "2be8d35b-0212-4513-afd7-b070a41692ea",
   "metadata": {},
   "outputs": [
    {
     "name": "stdout",
     "output_type": "stream",
     "text": [
      "Getting list of all filenames...\n"
     ]
    }
   ],
   "source": [
    "print(\"Getting list of all filenames...\")"
   ]
  },
  {
   "cell_type": "code",
   "execution_count": 6,
   "id": "0c8d33a5-5300-4393-b9f7-4842e0ea0364",
   "metadata": {},
   "outputs": [],
   "source": [
    "filenames = list(NWP_PATH.glob(\"*/*/*/*Wholesale[12].grib\"))"
   ]
  },
  {
   "cell_type": "code",
   "execution_count": 7,
   "id": "4ee7b391-4e8b-4584-af3c-f42d68cd69e2",
   "metadata": {},
   "outputs": [
    {
     "name": "stdout",
     "output_type": "stream",
     "text": [
      "Got 57 filenames\n"
     ]
    }
   ],
   "source": [
    "print(\"Got\", len(filenames), \"filenames\")"
   ]
  },
  {
   "cell_type": "code",
   "execution_count": 8,
   "id": "2b4c0761-d45e-496b-8c11-da446daa410f",
   "metadata": {},
   "outputs": [],
   "source": [
    "def grib_filename_to_datetime(full_filename: Path) -> datetime.datetime:\n",
    "    \"\"\"Parse the grib filename and return the datetime encoded in the filename.\n",
    "    \n",
    "    Returns a datetime.\n",
    "      For example, if the filename is '202101010000_u1096_ng_umqv_Wholesale1.grib',\n",
    "      then the returned datetime will be datetime(year=2021, month=1, day=1, hour=0, minute=0).\n",
    "      \n",
    "    Raises RuntimeError if the filename does not match the expected regex pattern.\n",
    "    \"\"\"\n",
    "    # Get the base_filename, which will be of the form '202101010000_u1096_ng_umqv_Wholesale1.grib'\n",
    "    base_filename = full_filename.name\n",
    "\n",
    "    # Use regex to match the year, month, day, hour, minute and wholesale_number.  i.e., group the filename like this:\n",
    "    # '(2021)(01)(01)(00)(00)_u1096_ng_umqv_Wholesale(1)'.\n",
    "    # A quick guide to the relevant regex operators:\n",
    "    #   ^ matches the beginning of the string.\n",
    "    #   () defines a group.\n",
    "    #   (?P<name>...) names the group.  We can access the group with `regex_match.groupdict()[name]`.\n",
    "    #   \\d matches a single digit.\n",
    "    #   {n} matches the preceding item n times.\n",
    "    #   . matches any character.\n",
    "    #   $ matches the end of the string.\n",
    "    regex_pattern_string = (\n",
    "        '^'  # Match the beginning of the string.\n",
    "        '(?P<year>\\d{4})'  # Match the year.\n",
    "        '(?P<month>\\d{2})'  # Match the month.\n",
    "        '(?P<day>\\d{2})'  # Match the day.\n",
    "        '(?P<hour>\\d{2})'  # Match the hour.\n",
    "        '(?P<minute>\\d{2})'  # Match the minute.\n",
    "        '_u1096_ng_umqv_Wholesale\\d\\.grib$'  # Match the end of the string (escape the fullstop).\n",
    "    )\n",
    "    regex_pattern = re.compile(regex_pattern_string)\n",
    "    regex_match = regex_pattern.match(base_filename)\n",
    "    if regex_match is None:\n",
    "        raise RuntimeError(f\"Filename '{full_filename}' does not conform to expected regex pattern '{regex_pattern_string}'!\")\n",
    "\n",
    "    # Convert strings to ints:\n",
    "    regex_groups = {key: int(value) for key, value in regex_match.groupdict().items()}\n",
    "\n",
    "    return datetime.datetime(**regex_groups)"
   ]
  },
  {
   "cell_type": "code",
   "execution_count": 9,
   "id": "775e59b0-4d52-4700-8ca6-e92c5e7db02c",
   "metadata": {},
   "outputs": [],
   "source": [
    "def decode_and_group_grib_filenames(filenames: list[Path], n_grib_files_per_nwp_init_time: int=2) -> pd.Series:\n",
    "    \"\"\"Returns a pd.Series where the index is the datetime of the NWP init time.\n",
    "    \n",
    "    And the values are the full_filename of each grib file.\n",
    "    \"\"\"\n",
    "    n_filenames = len(filenames)\n",
    "    nwp_init_datetimes = np.full(shape=n_filenames, fill_value=np.NaN, dtype='datetime64[ns]')\n",
    "    for i, filename in enumerate(filenames):\n",
    "        nwp_init_datetimes[i] = grib_filename_to_datetime(filename)\n",
    "\n",
    "    # Swap index and values\n",
    "    map_datetime_to_filename = pd.Series(filenames, index=nwp_init_datetimes)\n",
    "    del nwp_init_datetimes\n",
    "    map_datetime_to_filename = map_datetime_to_filename.sort_index()\n",
    "    \n",
    "    # Select only rows where there are exactly n_grib_files_per_nwp_init_time:\n",
    "    filter_func = lambda group: group.count() == n_grib_files_per_nwp_init_time\n",
    "    return map_datetime_to_filename.groupby(level=0).filter(filter_func)"
   ]
  },
  {
   "cell_type": "code",
   "execution_count": 10,
   "id": "34867f22-9980-44f8-8e46-25ae79f2eba6",
   "metadata": {},
   "outputs": [],
   "source": [
    "def load_grib_file(full_filename: Union[Path, str], verbose: bool=False) -> xr.Dataset:\n",
    "    \"\"\"Merges and loads all contiguous xr.Datasets from the grib file.\n",
    "    \n",
    "    Removes unnecessary variables.  Picks heightAboveGround=1meter for temperature.\n",
    "    \n",
    "    Returns an xr.Dataset which has been loaded from disk.  Loading from disk at this point\n",
    "    takes about 2 seconds for a 250 MB grib file, but speeds up reshape_1d_to_2d\n",
    "    from about 7 seconds to 0.5 seconds :)\n",
    "    \n",
    "    Args:\n",
    "      full_filename:  The full filename (including the path) of a single grib file.\n",
    "      verbose:  If True then print out some useful debugging information.\n",
    "    \"\"\"\n",
    "    # The grib files are \"heterogeneous\", so we use cfgrib.open_datasets\n",
    "    # to return a list of contiguous xr.Datasets.\n",
    "    # See https://github.com/ecmwf/cfgrib#automatic-filtering\n",
    "    datasets_from_grib = cfgrib.open_datasets(full_filename)\n",
    "    n_datasets = len(datasets_from_grib)\n",
    "\n",
    "    # Get each dataset into the right shape for merging:\n",
    "    # Loop round the datasets using an index (instead of `for ds in datasets_from_grib`)\n",
    "    # because we will be modifying each dataset:\n",
    "    for i in range(n_datasets):\n",
    "        ds = datasets_from_grib[i]\n",
    "\n",
    "        if verbose:\n",
    "            print(\"\\nDataset\", i, \"before processing:\\n\", ds, \"\\n\")\n",
    "        \n",
    "        # For temperature, we want the temperature at 1 meter above ground,\n",
    "        # not at 0 meters above ground.  The early NWPs (definitely in the 2016-03-22 NWPs),\n",
    "        # heightAboveGround only has 1 entry (\"1\" meter above ground) and `heightAboveGround` isn't set as a dimension for `t`.\n",
    "        # In later NWPs, 'heightAboveGround' has 2 values (0, 1) is a dimension for `t`.\n",
    "        if 't' in ds and 'heightAboveGround' in ds['t'].dims:\n",
    "            ds = ds.sel(heightAboveGround=1)\n",
    "\n",
    "        # Delete unnecessary variables.\n",
    "        vars_to_delete = [\n",
    "            'unknown', 'valid_time', 'heightAboveGround', 'heightAboveGroundLayer',\n",
    "            'atmosphere', 'cloudBase', 'surface', 'meanSea', 'level']\n",
    "        for var_name in vars_to_delete:\n",
    "            try:\n",
    "                del ds[var_name]\n",
    "            except KeyError as e:\n",
    "                if verbose:\n",
    "                    print('var name not in dataset:', e)\n",
    "            else:\n",
    "                if verbose:\n",
    "                    print('Deleted', var_name)\n",
    "\n",
    "        if verbose:\n",
    "            print(\"\\nDataset\", i, \"after processing:\\n\", ds, \"\\n\")\n",
    "            print(\"**************************************************\")\n",
    "            \n",
    "        datasets_from_grib[i] = ds\n",
    "        del ds\n",
    "    \n",
    "    merged_ds = xr.merge(datasets_from_grib)\n",
    "    del datasets_from_grib  # Save memory\n",
    "    print(\"Loading...\")\n",
    "    return merged_ds.load()"
   ]
  },
  {
   "cell_type": "code",
   "execution_count": 11,
   "id": "bd66015d-b4db-4e01-a82e-72726bbc6a71",
   "metadata": {},
   "outputs": [],
   "source": [
    "def reshape_1d_to_2d(dataset: xr.Dataset) -> xr.Dataset:\n",
    "    \"\"\"Convert 1D into 2D array.\n",
    "    \n",
    "    For each `step`, the pixel values in the grib files represent a 2D image.  But, in the grib,\n",
    "    the values are in a flat 1D array (indexed by the `values` dimension).\n",
    "    The ordering of the pixels in the grib are left to right, bottom to top.\n",
    "\n",
    "    We reshape every data variable at once using this trick.\n",
    "    \"\"\"\n",
    "    # Adapted from https://stackoverflow.com/a/62667154\n",
    "    \n",
    "    # Don't reshape yet.  Instead just create new coordinates,\n",
    "    # which give the `x` and `y` position of each position in the `values` dimension:\n",
    "    dataset = dataset.assign_coords(\n",
    "        {\n",
    "            'x': ('values', np.tile(EASTING, reps=NUM_ROWS)), \n",
    "            'y': ('values', np.repeat(NORTHING, repeats=NUM_COLS))\n",
    "        })\n",
    "    \n",
    "    # Now set \"values\" to be a MultiIndex, indexed by `y` and `x`:\n",
    "    dataset = dataset.set_index(values=(\"y\", \"x\"))\n",
    "    \n",
    "    # Now unstack.  This gets rid of the `values` dimension and indexes\n",
    "    # the data variables using `y` and `x`.\n",
    "    return dataset.unstack(\"values\")"
   ]
  },
  {
   "cell_type": "code",
   "execution_count": 12,
   "id": "e42183be-67de-4ced-8a72-4ec61b3b8999",
   "metadata": {},
   "outputs": [],
   "source": [
    "def dataset_has_variables(dataset: xr.Dataset) -> bool:\n",
    "    \"\"\"Return True if `dataset` has at least one variable.\"\"\"\n",
    "    return len(dataset.variables) > 0"
   ]
  },
  {
   "cell_type": "code",
   "execution_count": 34,
   "id": "ee838a32-f85e-4381-a943-c6a5a3c6ed75",
   "metadata": {},
   "outputs": [],
   "source": [
    "def post_process_dataset(dataset: xr.Dataset) -> xr.Dataset:\n",
    "    print(\"Post-processing dataset...\")\n",
    "    return (\n",
    "        dataset\n",
    "        .to_array(dim=\"variable\", name=\"UKV\")\n",
    "        .to_dataset()\n",
    "        #.astype(np.float16)\n",
    "        .rename({'time': 'init_time'})\n",
    "        .chunk({\n",
    "            \"init_time\": 1, \n",
    "            \"step\": 1, \n",
    "            \"y\": len(dataset.y) // 2,\n",
    "            \"x\": len(dataset.x) // 2,\n",
    "            \"variable\": -1\n",
    "        })\n",
    "    )"
   ]
  },
  {
   "cell_type": "code",
   "execution_count": 35,
   "id": "52b89ce1-7d2d-4bc0-b7f5-462ae40eb4f5",
   "metadata": {},
   "outputs": [],
   "source": [
    "def append_to_zarr(dataset: xr.Dataset, zarr_path: Union[str, Path]):\n",
    "    print(\"Writing to disk...\")\n",
    "    zarr_path = Path(zarr_path)\n",
    "    if zarr_path.exists():\n",
    "        to_zarr_kwargs = dict(\n",
    "            append_dim = \"init_time\",\n",
    "        )\n",
    "    else:\n",
    "        to_zarr_kwargs = dict(\n",
    "            # Need to manually set the time units otherwise xarray defaults to using\n",
    "            # units of *days* (and hence cannot represent sub-day temporal resolution), which corrupts\n",
    "            # the `time` values when we appending to Zarr.  See:\n",
    "            # https://github.com/pydata/xarray/issues/5969 and\n",
    "            # http://xarray.pydata.org/en/stable/user-guide/io.html#time-units\n",
    "            encoding={\n",
    "                'init_time': {\n",
    "                    'units': 'nanoseconds since 1970-01-01'\n",
    "                },\n",
    "                \"UKV\": {\n",
    "                    \"compressor\": numcodecs.Blosc(cname=\"zstd\", clevel=5), \n",
    "                }\n",
    "            },\n",
    "        )\n",
    "\n",
    "    dataset.to_zarr(zarr_path, **to_zarr_kwargs)"
   ]
  },
  {
   "cell_type": "code",
   "execution_count": 36,
   "id": "6aff43d0-3e8b-4491-b781-a53f2da113eb",
   "metadata": {},
   "outputs": [],
   "source": [
    "def load_grib_files_for_single_nwp_init_time(full_filenames: list[Path]) -> xr.Dataset:\n",
    "    datasets_for_nwp_init_datetime = []\n",
    "    for full_filename in full_filenames:\n",
    "        print('Opening', full_filename)\n",
    "        try:\n",
    "            dataset_for_filename = load_grib_file(full_filename)\n",
    "        except EOFError as e:\n",
    "            print(e, f\"Filesize = {full_filename.stat().st_size:,d} bytes\")\n",
    "            # If any of the files associated with this nwp_init_datetime is broken then\n",
    "            # skip all, because we don't want incomplete data for an init_datetime.\n",
    "            datasets_for_nwp_init_datetime = []\n",
    "            break\n",
    "        else:\n",
    "            if dataset_has_variables(dataset_for_filename):\n",
    "                datasets_for_nwp_init_datetime.append(dataset_for_filename)\n",
    "    if len(datasets_for_nwp_init_datetime) == 0:\n",
    "        print(\"No valid data found for\", full_filenames)\n",
    "        return\n",
    "    print(\"Merging...\")\n",
    "    dataset_for_nwp_init_datetime = xr.merge(datasets_for_nwp_init_datetime)\n",
    "    del datasets_for_nwp_init_datetime\n",
    "    print(\"Reshaping...\")\n",
    "    dataset_for_nwp_init_datetime = reshape_1d_to_2d(dataset_for_nwp_init_datetime)\n",
    "    dataset_for_nwp_init_datetime = dataset_for_nwp_init_datetime.expand_dims(\"time\", axis=0)\n",
    "    dataset_for_nwp_init_datetime = post_process_dataset(dataset_for_nwp_init_datetime)\n",
    "    return dataset_for_nwp_init_datetime"
   ]
  },
  {
   "cell_type": "code",
   "execution_count": 37,
   "id": "e46a1a8f-7d19-4bbd-9cb9-37ff95e7d701",
   "metadata": {},
   "outputs": [],
   "source": [
    "def load_grib_files_from_groupby_tuple(groupby_tuple: tuple[pd.Timestamp, pd.Series]) -> xr.Dataset:\n",
    "    full_grib_filenames = groupby_tuple[1]\n",
    "    return load_grib_files_for_single_nwp_init_time(full_grib_filenames)"
   ]
  },
  {
   "cell_type": "code",
   "execution_count": 38,
   "id": "a39717ed-e5ed-4b79-8375-47f0315fb24f",
   "metadata": {},
   "outputs": [],
   "source": [
    "map_datetime_to_grib_filename = decode_and_group_grib_filenames(filenames)"
   ]
  },
  {
   "cell_type": "code",
   "execution_count": 40,
   "id": "7b662713-562b-4537-a28d-37034c0a9618",
   "metadata": {},
   "outputs": [
    {
     "name": "stdout",
     "output_type": "stream",
     "text": [
      "After pool.imap!\n",
      "OpeningOpening  /media/jack/128GB_USB/NWPs/2017/01/06/201701060000_u1096_ng_umqv_Wholesale1.grib/media/jack/128GB_USB/NWPs/2016/03/22/201603222100_u1096_ng_umqv_Wholesale1.grib\n",
      "\n"
     ]
    },
    {
     "name": "stderr",
     "output_type": "stream",
     "text": [
      "Can't create file '/media/jack/128GB_USB/NWPs/2017/01/06/201701060000_u1096_ng_umqv_Wholesale1.grib.923a8.idx'\n",
      "Traceback (most recent call last):\n",
      "  File \"/home/jack/miniconda3/envs/nowcasting_dataset/lib/python3.9/site-packages/cfgrib/messages.py\", line 239, in __iter__\n",
      "    yield self.message_from_file(file, errors=self.errors)\n",
      "  File \"/home/jack/miniconda3/envs/nowcasting_dataset/lib/python3.9/site-packages/cfgrib/messages.py\", line 255, in message_from_file\n",
      "    return self.message_class.from_file(file, offset, **kwargs)\n",
      "  File \"/home/jack/miniconda3/envs/nowcasting_dataset/lib/python3.9/site-packages/cfgrib/messages.py\", line 102, in from_file\n",
      "    raise EOFError(\"End of file: %r\" % file)\n",
      "EOFError: End of file: <_io.BufferedReader name='/media/jack/128GB_USB/NWPs/2017/01/06/201701060000_u1096_ng_umqv_Wholesale1.grib'>\n",
      "\n",
      "During handling of the above exception, another exception occurred:\n",
      "\n",
      "Traceback (most recent call last):\n",
      "  File \"/home/jack/miniconda3/envs/nowcasting_dataset/lib/python3.9/site-packages/cfgrib/messages.py\", line 349, in from_indexpath_or_filestream\n",
      "    self = cls.from_filestream(filestream, index_keys)\n",
      "  File \"/home/jack/miniconda3/envs/nowcasting_dataset/lib/python3.9/site-packages/cfgrib/messages.py\", line 298, in from_filestream\n",
      "    for message in filestream:\n",
      "  File \"/home/jack/miniconda3/envs/nowcasting_dataset/lib/python3.9/site-packages/cfgrib/messages.py\", line 243, in __iter__\n",
      "    raise EOFError(\"No valid message found in file: %r\" % self.path)\n",
      "EOFError: No valid message found in file: '/media/jack/128GB_USB/NWPs/2017/01/06/201701060000_u1096_ng_umqv_Wholesale1.grib'\n",
      "Can't read index file '/media/jack/128GB_USB/NWPs/2017/01/06/201701060000_u1096_ng_umqv_Wholesale1.grib.923a8.idx'\n",
      "Traceback (most recent call last):\n",
      "  File \"/home/jack/miniconda3/envs/nowcasting_dataset/lib/python3.9/site-packages/cfgrib/messages.py\", line 358, in from_indexpath_or_filestream\n",
      "    index_mtime = os.path.getmtime(indexpath)\n",
      "  File \"/home/jack/miniconda3/envs/nowcasting_dataset/lib/python3.9/genericpath.py\", line 55, in getmtime\n",
      "    return os.stat(filename).st_mtime\n",
      "FileNotFoundError: [Errno 2] No such file or directory: '/media/jack/128GB_USB/NWPs/2017/01/06/201701060000_u1096_ng_umqv_Wholesale1.grib.923a8.idx'\n"
     ]
    },
    {
     "name": "stdout",
     "output_type": "stream",
     "text": [
      "No valid message found in file: '/media/jack/128GB_USB/NWPs/2017/01/06/201701060000_u1096_ng_umqv_Wholesale1.grib' Filesize = 0 bytes\n",
      "No valid data found for 2017-01-06    /media/jack/128GB_USB/NWPs/2017/01/06/20170106...\n",
      "2017-01-06    /media/jack/128GB_USB/NWPs/2017/01/06/20170106...\n",
      "dtype: object\n",
      "Opening /media/jack/128GB_USB/NWPs/2017/01/06/201701060300_u1096_ng_umqv_Wholesale1.grib\n"
     ]
    },
    {
     "name": "stderr",
     "output_type": "stream",
     "text": [
      "Can't create file '/media/jack/128GB_USB/NWPs/2017/01/06/201701060300_u1096_ng_umqv_Wholesale1.grib.923a8.idx'\n",
      "Traceback (most recent call last):\n",
      "  File \"/home/jack/miniconda3/envs/nowcasting_dataset/lib/python3.9/site-packages/cfgrib/messages.py\", line 239, in __iter__\n",
      "    yield self.message_from_file(file, errors=self.errors)\n",
      "  File \"/home/jack/miniconda3/envs/nowcasting_dataset/lib/python3.9/site-packages/cfgrib/messages.py\", line 255, in message_from_file\n",
      "    return self.message_class.from_file(file, offset, **kwargs)\n",
      "  File \"/home/jack/miniconda3/envs/nowcasting_dataset/lib/python3.9/site-packages/cfgrib/messages.py\", line 102, in from_file\n",
      "    raise EOFError(\"End of file: %r\" % file)\n",
      "EOFError: End of file: <_io.BufferedReader name='/media/jack/128GB_USB/NWPs/2017/01/06/201701060300_u1096_ng_umqv_Wholesale1.grib'>\n",
      "\n",
      "During handling of the above exception, another exception occurred:\n",
      "\n",
      "Traceback (most recent call last):\n",
      "  File \"/home/jack/miniconda3/envs/nowcasting_dataset/lib/python3.9/site-packages/cfgrib/messages.py\", line 349, in from_indexpath_or_filestream\n",
      "    self = cls.from_filestream(filestream, index_keys)\n",
      "  File \"/home/jack/miniconda3/envs/nowcasting_dataset/lib/python3.9/site-packages/cfgrib/messages.py\", line 298, in from_filestream\n",
      "    for message in filestream:\n",
      "  File \"/home/jack/miniconda3/envs/nowcasting_dataset/lib/python3.9/site-packages/cfgrib/messages.py\", line 243, in __iter__\n",
      "    raise EOFError(\"No valid message found in file: %r\" % self.path)\n",
      "EOFError: No valid message found in file: '/media/jack/128GB_USB/NWPs/2017/01/06/201701060300_u1096_ng_umqv_Wholesale1.grib'\n",
      "Can't read index file '/media/jack/128GB_USB/NWPs/2017/01/06/201701060300_u1096_ng_umqv_Wholesale1.grib.923a8.idx'\n",
      "Traceback (most recent call last):\n",
      "  File \"/home/jack/miniconda3/envs/nowcasting_dataset/lib/python3.9/site-packages/cfgrib/messages.py\", line 358, in from_indexpath_or_filestream\n",
      "    index_mtime = os.path.getmtime(indexpath)\n",
      "  File \"/home/jack/miniconda3/envs/nowcasting_dataset/lib/python3.9/genericpath.py\", line 55, in getmtime\n",
      "    return os.stat(filename).st_mtime\n",
      "FileNotFoundError: [Errno 2] No such file or directory: '/media/jack/128GB_USB/NWPs/2017/01/06/201701060300_u1096_ng_umqv_Wholesale1.grib.923a8.idx'\n"
     ]
    },
    {
     "name": "stdout",
     "output_type": "stream",
     "text": [
      "No valid message found in file: '/media/jack/128GB_USB/NWPs/2017/01/06/201701060300_u1096_ng_umqv_Wholesale1.grib' Filesize = 0 bytes\n",
      "No valid data found for 2017-01-06 03:00:00    /media/jack/128GB_USB/NWPs/2017/01/06/20170106...\n",
      "2017-01-06 03:00:00    /media/jack/128GB_USB/NWPs/2017/01/06/20170106...\n",
      "dtype: object\n",
      "Opening /media/jack/128GB_USB/NWPs/2017/01/06/201701060600_u1096_ng_umqv_Wholesale1.grib\n"
     ]
    },
    {
     "name": "stderr",
     "output_type": "stream",
     "text": [
      "ecCodes provides no latitudes/longitudes for gridType='transverse_mercator'\n",
      "ecCodes provides no latitudes/longitudes for gridType='transverse_mercator'\n",
      "ecCodes provides no latitudes/longitudes for gridType='transverse_mercator'\n",
      "ecCodes provides no latitudes/longitudes for gridType='transverse_mercator'\n",
      "ecCodes provides no latitudes/longitudes for gridType='transverse_mercator'\n",
      "ecCodes provides no latitudes/longitudes for gridType='transverse_mercator'\n",
      "ecCodes provides no latitudes/longitudes for gridType='transverse_mercator'\n",
      "ecCodes provides no latitudes/longitudes for gridType='transverse_mercator'\n",
      "ecCodes provides no latitudes/longitudes for gridType='transverse_mercator'\n",
      "ecCodes provides no latitudes/longitudes for gridType='transverse_mercator'\n",
      "ecCodes provides no latitudes/longitudes for gridType='transverse_mercator'\n",
      "ecCodes provides no latitudes/longitudes for gridType='transverse_mercator'\n",
      "ecCodes provides no latitudes/longitudes for gridType='transverse_mercator'\n",
      "ecCodes provides no latitudes/longitudes for gridType='transverse_mercator'\n",
      "ecCodes provides no latitudes/longitudes for gridType='transverse_mercator'\n",
      "ecCodes provides no latitudes/longitudes for gridType='transverse_mercator'\n",
      "ecCodes provides no latitudes/longitudes for gridType='transverse_mercator'\n",
      "ecCodes provides no latitudes/longitudes for gridType='transverse_mercator'\n",
      "ecCodes provides no latitudes/longitudes for gridType='transverse_mercator'\n"
     ]
    },
    {
     "name": "stdout",
     "output_type": "stream",
     "text": [
      "Loading...\n"
     ]
    },
    {
     "name": "stderr",
     "output_type": "stream",
     "text": [
      "ecCodes provides no latitudes/longitudes for gridType='transverse_mercator'\n"
     ]
    },
    {
     "name": "stdout",
     "output_type": "stream",
     "text": [
      "Loading...\n",
      "Opening /media/jack/128GB_USB/NWPs/2016/03/22/201603222100_u1096_ng_umqv_Wholesale2.grib\n",
      "Opening /media/jack/128GB_USB/NWPs/2017/01/06/201701060600_u1096_ng_umqv_Wholesale2.grib\n"
     ]
    },
    {
     "name": "stderr",
     "output_type": "stream",
     "text": [
      "ecCodes provides no latitudes/longitudes for gridType='transverse_mercator'\n",
      "ecCodes provides no latitudes/longitudes for gridType='transverse_mercator'\n",
      "ecCodes provides no latitudes/longitudes for gridType='transverse_mercator'\n",
      "ecCodes provides no latitudes/longitudes for gridType='transverse_mercator'\n",
      "ecCodes provides no latitudes/longitudes for gridType='transverse_mercator'\n",
      "ecCodes provides no latitudes/longitudes for gridType='transverse_mercator'\n",
      "ecCodes provides no latitudes/longitudes for gridType='transverse_mercator'\n",
      "ecCodes provides no latitudes/longitudes for gridType='transverse_mercator'\n",
      "ecCodes provides no latitudes/longitudes for gridType='transverse_mercator'\n",
      "ecCodes provides no latitudes/longitudes for gridType='transverse_mercator'\n",
      "ecCodes provides no latitudes/longitudes for gridType='transverse_mercator'\n",
      "ecCodes provides no latitudes/longitudes for gridType='transverse_mercator'\n",
      "ecCodes provides no latitudes/longitudes for gridType='transverse_mercator'\n",
      "ecCodes provides no latitudes/longitudes for gridType='transverse_mercator'\n",
      "ecCodes provides no latitudes/longitudes for gridType='transverse_mercator'\n",
      "ecCodes provides no latitudes/longitudes for gridType='transverse_mercator'\n",
      "ecCodes provides no latitudes/longitudes for gridType='transverse_mercator'\n",
      "ecCodes provides no latitudes/longitudes for gridType='transverse_mercator'\n",
      "ecCodes provides no latitudes/longitudes for gridType='transverse_mercator'\n",
      "ecCodes provides no latitudes/longitudes for gridType='transverse_mercator'\n",
      "ecCodes provides no latitudes/longitudes for gridType='transverse_mercator'\n",
      "ecCodes provides no latitudes/longitudes for gridType='transverse_mercator'\n"
     ]
    },
    {
     "name": "stdout",
     "output_type": "stream",
     "text": [
      "Loading...\n",
      "Loading...\n",
      "Merging...\n",
      "Reshaping...\n",
      "Merging...\n",
      "Reshaping...\n",
      "Post-processing dataset...\n",
      "Post-processing dataset...\n",
      "Opening /media/jack/128GB_USB/NWPs/2017/01/06/201701060900_u1096_ng_umqv_Wholesale2.grib\n"
     ]
    },
    {
     "name": "stderr",
     "output_type": "stream",
     "text": [
      "Can't create file '/media/jack/128GB_USB/NWPs/2017/01/06/201701060900_u1096_ng_umqv_Wholesale2.grib.923a8.idx'\n",
      "Traceback (most recent call last):\n",
      "  File \"/home/jack/miniconda3/envs/nowcasting_dataset/lib/python3.9/site-packages/cfgrib/messages.py\", line 239, in __iter__\n",
      "    yield self.message_from_file(file, errors=self.errors)\n",
      "  File \"/home/jack/miniconda3/envs/nowcasting_dataset/lib/python3.9/site-packages/cfgrib/messages.py\", line 255, in message_from_file\n",
      "    return self.message_class.from_file(file, offset, **kwargs)\n",
      "  File \"/home/jack/miniconda3/envs/nowcasting_dataset/lib/python3.9/site-packages/cfgrib/messages.py\", line 102, in from_file\n",
      "    raise EOFError(\"End of file: %r\" % file)\n",
      "EOFError: End of file: <_io.BufferedReader name='/media/jack/128GB_USB/NWPs/2017/01/06/201701060900_u1096_ng_umqv_Wholesale2.grib'>\n",
      "\n",
      "During handling of the above exception, another exception occurred:\n",
      "\n",
      "Traceback (most recent call last):\n",
      "  File \"/home/jack/miniconda3/envs/nowcasting_dataset/lib/python3.9/site-packages/cfgrib/messages.py\", line 349, in from_indexpath_or_filestream\n",
      "    self = cls.from_filestream(filestream, index_keys)\n",
      "  File \"/home/jack/miniconda3/envs/nowcasting_dataset/lib/python3.9/site-packages/cfgrib/messages.py\", line 298, in from_filestream\n",
      "    for message in filestream:\n",
      "  File \"/home/jack/miniconda3/envs/nowcasting_dataset/lib/python3.9/site-packages/cfgrib/messages.py\", line 243, in __iter__\n",
      "    raise EOFError(\"No valid message found in file: %r\" % self.path)\n",
      "EOFError: No valid message found in file: '/media/jack/128GB_USB/NWPs/2017/01/06/201701060900_u1096_ng_umqv_Wholesale2.grib'\n",
      "Can't read index file '/media/jack/128GB_USB/NWPs/2017/01/06/201701060900_u1096_ng_umqv_Wholesale2.grib.923a8.idx'\n",
      "Traceback (most recent call last):\n",
      "  File \"/home/jack/miniconda3/envs/nowcasting_dataset/lib/python3.9/site-packages/cfgrib/messages.py\", line 358, in from_indexpath_or_filestream\n",
      "    index_mtime = os.path.getmtime(indexpath)\n",
      "  File \"/home/jack/miniconda3/envs/nowcasting_dataset/lib/python3.9/genericpath.py\", line 55, in getmtime\n",
      "    return os.stat(filename).st_mtime\n",
      "FileNotFoundError: [Errno 2] No such file or directory: '/media/jack/128GB_USB/NWPs/2017/01/06/201701060900_u1096_ng_umqv_Wholesale2.grib.923a8.idx'\n"
     ]
    },
    {
     "name": "stdout",
     "output_type": "stream",
     "text": [
      "No valid message found in file: '/media/jack/128GB_USB/NWPs/2017/01/06/201701060900_u1096_ng_umqv_Wholesale2.grib' Filesize = 0 bytes\n",
      "No valid data found for 2017-01-06 09:00:00    /media/jack/128GB_USB/NWPs/2017/01/06/20170106...\n",
      "2017-01-06 09:00:00    /media/jack/128GB_USB/NWPs/2017/01/06/20170106...\n",
      "dtype: object\n",
      "Opening /media/jack/128GB_USB/NWPs/2017/01/06/201701061200_u1096_ng_umqv_Wholesale1.grib\n"
     ]
    },
    {
     "name": "stderr",
     "output_type": "stream",
     "text": [
      "Can't create file '/media/jack/128GB_USB/NWPs/2017/01/06/201701061200_u1096_ng_umqv_Wholesale1.grib.923a8.idx'\n",
      "Traceback (most recent call last):\n",
      "  File \"/home/jack/miniconda3/envs/nowcasting_dataset/lib/python3.9/site-packages/cfgrib/messages.py\", line 239, in __iter__\n",
      "    yield self.message_from_file(file, errors=self.errors)\n",
      "  File \"/home/jack/miniconda3/envs/nowcasting_dataset/lib/python3.9/site-packages/cfgrib/messages.py\", line 255, in message_from_file\n",
      "    return self.message_class.from_file(file, offset, **kwargs)\n",
      "  File \"/home/jack/miniconda3/envs/nowcasting_dataset/lib/python3.9/site-packages/cfgrib/messages.py\", line 102, in from_file\n",
      "    raise EOFError(\"End of file: %r\" % file)\n",
      "EOFError: End of file: <_io.BufferedReader name='/media/jack/128GB_USB/NWPs/2017/01/06/201701061200_u1096_ng_umqv_Wholesale1.grib'>\n",
      "\n",
      "During handling of the above exception, another exception occurred:\n",
      "\n",
      "Traceback (most recent call last):\n",
      "  File \"/home/jack/miniconda3/envs/nowcasting_dataset/lib/python3.9/site-packages/cfgrib/messages.py\", line 349, in from_indexpath_or_filestream\n",
      "    self = cls.from_filestream(filestream, index_keys)\n",
      "  File \"/home/jack/miniconda3/envs/nowcasting_dataset/lib/python3.9/site-packages/cfgrib/messages.py\", line 298, in from_filestream\n",
      "    for message in filestream:\n",
      "  File \"/home/jack/miniconda3/envs/nowcasting_dataset/lib/python3.9/site-packages/cfgrib/messages.py\", line 243, in __iter__\n",
      "    raise EOFError(\"No valid message found in file: %r\" % self.path)\n",
      "EOFError: No valid message found in file: '/media/jack/128GB_USB/NWPs/2017/01/06/201701061200_u1096_ng_umqv_Wholesale1.grib'\n",
      "Can't read index file '/media/jack/128GB_USB/NWPs/2017/01/06/201701061200_u1096_ng_umqv_Wholesale1.grib.923a8.idx'\n",
      "Traceback (most recent call last):\n",
      "  File \"/home/jack/miniconda3/envs/nowcasting_dataset/lib/python3.9/site-packages/cfgrib/messages.py\", line 358, in from_indexpath_or_filestream\n",
      "    index_mtime = os.path.getmtime(indexpath)\n",
      "  File \"/home/jack/miniconda3/envs/nowcasting_dataset/lib/python3.9/genericpath.py\", line 55, in getmtime\n",
      "    return os.stat(filename).st_mtime\n",
      "FileNotFoundError: [Errno 2] No such file or directory: '/media/jack/128GB_USB/NWPs/2017/01/06/201701061200_u1096_ng_umqv_Wholesale1.grib.923a8.idx'\n"
     ]
    },
    {
     "name": "stdout",
     "output_type": "stream",
     "text": [
      "No valid message found in file: '/media/jack/128GB_USB/NWPs/2017/01/06/201701061200_u1096_ng_umqv_Wholesale1.grib' Filesize = 0 bytes\n",
      "No valid data found for 2017-01-06 12:00:00    /media/jack/128GB_USB/NWPs/2017/01/06/20170106...\n",
      "2017-01-06 12:00:00    /media/jack/128GB_USB/NWPs/2017/01/06/20170106...\n",
      "dtype: object\n",
      "OpeningOpening  /media/jack/128GB_USB/NWPs/2017/01/06/201701061500_u1096_ng_umqv_Wholesale1.grib/media/jack/128GB_USB/NWPs/2017/01/06/201701061800_u1096_ng_umqv_Wholesale2.grib\n",
      "\n"
     ]
    },
    {
     "name": "stderr",
     "output_type": "stream",
     "text": [
      "Can't create file '/media/jack/128GB_USB/NWPs/2017/01/06/201701061500_u1096_ng_umqv_Wholesale1.grib.923a8.idx'\n",
      "Traceback (most recent call last):\n",
      "  File \"/home/jack/miniconda3/envs/nowcasting_dataset/lib/python3.9/site-packages/cfgrib/messages.py\", line 239, in __iter__\n",
      "    yield self.message_from_file(file, errors=self.errors)\n",
      "  File \"/home/jack/miniconda3/envs/nowcasting_dataset/lib/python3.9/site-packages/cfgrib/messages.py\", line 255, in message_from_file\n",
      "    return self.message_class.from_file(file, offset, **kwargs)\n",
      "  File \"/home/jack/miniconda3/envs/nowcasting_dataset/lib/python3.9/site-packages/cfgrib/messages.py\", line 102, in from_file\n",
      "    raise EOFError(\"End of file: %r\" % file)\n",
      "EOFError: End of file: <_io.BufferedReader name='/media/jack/128GB_USB/NWPs/2017/01/06/201701061500_u1096_ng_umqv_Wholesale1.grib'>\n",
      "\n",
      "During handling of the above exception, another exception occurred:\n",
      "\n",
      "Traceback (most recent call last):\n",
      "  File \"/home/jack/miniconda3/envs/nowcasting_dataset/lib/python3.9/site-packages/cfgrib/messages.py\", line 349, in from_indexpath_or_filestream\n",
      "    self = cls.from_filestream(filestream, index_keys)\n",
      "  File \"/home/jack/miniconda3/envs/nowcasting_dataset/lib/python3.9/site-packages/cfgrib/messages.py\", line 298, in from_filestream\n",
      "    for message in filestream:\n",
      "  File \"/home/jack/miniconda3/envs/nowcasting_dataset/lib/python3.9/site-packages/cfgrib/messages.py\", line 243, in __iter__\n",
      "    raise EOFError(\"No valid message found in file: %r\" % self.path)\n",
      "EOFError: No valid message found in file: '/media/jack/128GB_USB/NWPs/2017/01/06/201701061500_u1096_ng_umqv_Wholesale1.grib'\n",
      "Can't read index file '/media/jack/128GB_USB/NWPs/2017/01/06/201701061500_u1096_ng_umqv_Wholesale1.grib.923a8.idx'\n",
      "Traceback (most recent call last):\n",
      "  File \"/home/jack/miniconda3/envs/nowcasting_dataset/lib/python3.9/site-packages/cfgrib/messages.py\", line 358, in from_indexpath_or_filestream\n",
      "    index_mtime = os.path.getmtime(indexpath)\n",
      "  File \"/home/jack/miniconda3/envs/nowcasting_dataset/lib/python3.9/genericpath.py\", line 55, in getmtime\n",
      "    return os.stat(filename).st_mtime\n",
      "FileNotFoundError: [Errno 2] No such file or directory: '/media/jack/128GB_USB/NWPs/2017/01/06/201701061500_u1096_ng_umqv_Wholesale1.grib.923a8.idx'\n"
     ]
    },
    {
     "name": "stdout",
     "output_type": "stream",
     "text": [
      "No valid message found in file: '/media/jack/128GB_USB/NWPs/2017/01/06/201701061500_u1096_ng_umqv_Wholesale1.grib' Filesize = 0 bytes\n",
      "No valid data found for 2017-01-06 15:00:00    /media/jack/128GB_USB/NWPs/2017/01/06/20170106...\n",
      "2017-01-06 15:00:00    /media/jack/128GB_USB/NWPs/2017/01/06/20170106...\n",
      "dtype: object\n",
      "Opening /media/jack/128GB_USB/NWPs/2017/01/06/201701062100_u1096_ng_umqv_Wholesale1.grib\n"
     ]
    },
    {
     "name": "stderr",
     "output_type": "stream",
     "text": [
      "Can't create file '/media/jack/128GB_USB/NWPs/2017/01/06/201701062100_u1096_ng_umqv_Wholesale1.grib.923a8.idx'\n",
      "Traceback (most recent call last):\n",
      "  File \"/home/jack/miniconda3/envs/nowcasting_dataset/lib/python3.9/site-packages/cfgrib/messages.py\", line 239, in __iter__\n",
      "    yield self.message_from_file(file, errors=self.errors)\n",
      "  File \"/home/jack/miniconda3/envs/nowcasting_dataset/lib/python3.9/site-packages/cfgrib/messages.py\", line 255, in message_from_file\n",
      "    return self.message_class.from_file(file, offset, **kwargs)\n",
      "  File \"/home/jack/miniconda3/envs/nowcasting_dataset/lib/python3.9/site-packages/cfgrib/messages.py\", line 102, in from_file\n",
      "    raise EOFError(\"End of file: %r\" % file)\n",
      "EOFError: End of file: <_io.BufferedReader name='/media/jack/128GB_USB/NWPs/2017/01/06/201701062100_u1096_ng_umqv_Wholesale1.grib'>\n",
      "\n",
      "During handling of the above exception, another exception occurred:\n",
      "\n",
      "Traceback (most recent call last):\n",
      "  File \"/home/jack/miniconda3/envs/nowcasting_dataset/lib/python3.9/site-packages/cfgrib/messages.py\", line 349, in from_indexpath_or_filestream\n",
      "    self = cls.from_filestream(filestream, index_keys)\n",
      "  File \"/home/jack/miniconda3/envs/nowcasting_dataset/lib/python3.9/site-packages/cfgrib/messages.py\", line 298, in from_filestream\n",
      "    for message in filestream:\n",
      "  File \"/home/jack/miniconda3/envs/nowcasting_dataset/lib/python3.9/site-packages/cfgrib/messages.py\", line 243, in __iter__\n",
      "    raise EOFError(\"No valid message found in file: %r\" % self.path)\n",
      "EOFError: No valid message found in file: '/media/jack/128GB_USB/NWPs/2017/01/06/201701062100_u1096_ng_umqv_Wholesale1.grib'\n",
      "Can't read index file '/media/jack/128GB_USB/NWPs/2017/01/06/201701062100_u1096_ng_umqv_Wholesale1.grib.923a8.idx'\n",
      "Traceback (most recent call last):\n",
      "  File \"/home/jack/miniconda3/envs/nowcasting_dataset/lib/python3.9/site-packages/cfgrib/messages.py\", line 358, in from_indexpath_or_filestream\n",
      "    index_mtime = os.path.getmtime(indexpath)\n",
      "  File \"/home/jack/miniconda3/envs/nowcasting_dataset/lib/python3.9/genericpath.py\", line 55, in getmtime\n",
      "    return os.stat(filename).st_mtime\n",
      "FileNotFoundError: [Errno 2] No such file or directory: '/media/jack/128GB_USB/NWPs/2017/01/06/201701062100_u1096_ng_umqv_Wholesale1.grib.923a8.idx'\n"
     ]
    },
    {
     "name": "stdout",
     "output_type": "stream",
     "text": [
      "No valid message found in file: '/media/jack/128GB_USB/NWPs/2017/01/06/201701062100_u1096_ng_umqv_Wholesale1.grib' Filesize = 0 bytes\n",
      "No valid data found for"
     ]
    },
    {
     "name": "stderr",
     "output_type": "stream",
     "text": [
      "ecCodes provides no latitudes/longitudes for gridType='transverse_mercator'\n"
     ]
    },
    {
     "name": "stdout",
     "output_type": "stream",
     "text": [
      " 2017-01-06 21:00:00    /media/jack/128GB_USB/NWPs/2017/01/06/20170106...\n",
      "2017-01-06 21:00:00    /media/jack/128GB_USB/NWPs/2017/01/06/20170106...\n",
      "dtype: object\n",
      "Opening /media/jack/128GB_USB/NWPs/2018/12/31/201812310000_u1096_ng_umqv_Wholesale2.grib\n"
     ]
    },
    {
     "name": "stderr",
     "output_type": "stream",
     "text": [
      "Can't create file '/media/jack/128GB_USB/NWPs/2018/12/31/201812310000_u1096_ng_umqv_Wholesale2.grib.923a8.idx'\n",
      "Traceback (most recent call last):\n",
      "  File \"/home/jack/miniconda3/envs/nowcasting_dataset/lib/python3.9/site-packages/cfgrib/messages.py\", line 239, in __iter__\n",
      "    yield self.message_from_file(file, errors=self.errors)\n",
      "  File \"/home/jack/miniconda3/envs/nowcasting_dataset/lib/python3.9/site-packages/cfgrib/messages.py\", line 255, in message_from_file\n",
      "    return self.message_class.from_file(file, offset, **kwargs)\n",
      "  File \"/home/jack/miniconda3/envs/nowcasting_dataset/lib/python3.9/site-packages/cfgrib/messages.py\", line 102, in from_file\n",
      "    raise EOFError(\"End of file: %r\" % file)\n",
      "EOFError: End of file: <_io.BufferedReader name='/media/jack/128GB_USB/NWPs/2018/12/31/201812310000_u1096_ng_umqv_Wholesale2.grib'>\n",
      "\n",
      "During handling of the above exception, another exception occurred:\n",
      "\n",
      "Traceback (most recent call last):\n",
      "  File \"/home/jack/miniconda3/envs/nowcasting_dataset/lib/python3.9/site-packages/cfgrib/messages.py\", line 349, in from_indexpath_or_filestream\n",
      "    self = cls.from_filestream(filestream, index_keys)\n",
      "  File \"/home/jack/miniconda3/envs/nowcasting_dataset/lib/python3.9/site-packages/cfgrib/messages.py\", line 298, in from_filestream\n",
      "    for message in filestream:\n",
      "  File \"/home/jack/miniconda3/envs/nowcasting_dataset/lib/python3.9/site-packages/cfgrib/messages.py\", line 243, in __iter__\n",
      "    raise EOFError(\"No valid message found in file: %r\" % self.path)\n",
      "EOFError: No valid message found in file: '/media/jack/128GB_USB/NWPs/2018/12/31/201812310000_u1096_ng_umqv_Wholesale2.grib'\n",
      "Can't read index file '/media/jack/128GB_USB/NWPs/2018/12/31/201812310000_u1096_ng_umqv_Wholesale2.grib.923a8.idx'\n",
      "Traceback (most recent call last):\n",
      "  File \"/home/jack/miniconda3/envs/nowcasting_dataset/lib/python3.9/site-packages/cfgrib/messages.py\", line 358, in from_indexpath_or_filestream\n",
      "    index_mtime = os.path.getmtime(indexpath)\n",
      "  File \"/home/jack/miniconda3/envs/nowcasting_dataset/lib/python3.9/genericpath.py\", line 55, in getmtime\n",
      "    return os.stat(filename).st_mtime\n",
      "FileNotFoundError: [Errno 2] No such file or directory: '/media/jack/128GB_USB/NWPs/2018/12/31/201812310000_u1096_ng_umqv_Wholesale2.grib.923a8.idx'\n"
     ]
    },
    {
     "name": "stdout",
     "output_type": "stream",
     "text": [
      "No valid message found in file: '/media/jack/128GB_USB/NWPs/2018/12/31/201812310000_u1096_ng_umqv_Wholesale2.grib' Filesize = 0 bytes\n",
      "No valid data found for 2018-12-31    /media/jack/128GB_USB/NWPs/2018/12/31/20181231...\n",
      "2018-12-31    /media/jack/128GB_USB/NWPs/2018/12/31/20181231...\n",
      "dtype: object\n",
      "Opening /media/jack/128GB_USB/NWPs/2018/12/31/201812310300_u1096_ng_umqv_Wholesale1.grib\n"
     ]
    },
    {
     "name": "stderr",
     "output_type": "stream",
     "text": [
      "Can't create file '/media/jack/128GB_USB/NWPs/2018/12/31/201812310300_u1096_ng_umqv_Wholesale1.grib.923a8.idx'\n",
      "Traceback (most recent call last):\n",
      "  File \"/home/jack/miniconda3/envs/nowcasting_dataset/lib/python3.9/site-packages/cfgrib/messages.py\", line 239, in __iter__\n",
      "    yield self.message_from_file(file, errors=self.errors)\n",
      "  File \"/home/jack/miniconda3/envs/nowcasting_dataset/lib/python3.9/site-packages/cfgrib/messages.py\", line 255, in message_from_file\n",
      "    return self.message_class.from_file(file, offset, **kwargs)\n",
      "  File \"/home/jack/miniconda3/envs/nowcasting_dataset/lib/python3.9/site-packages/cfgrib/messages.py\", line 102, in from_file\n",
      "    raise EOFError(\"End of file: %r\" % file)\n",
      "EOFError: End of file: <_io.BufferedReader name='/media/jack/128GB_USB/NWPs/2018/12/31/201812310300_u1096_ng_umqv_Wholesale1.grib'>\n",
      "\n",
      "During handling of the above exception, another exception occurred:\n",
      "\n",
      "Traceback (most recent call last):\n",
      "  File \"/home/jack/miniconda3/envs/nowcasting_dataset/lib/python3.9/site-packages/cfgrib/messages.py\", line 349, in from_indexpath_or_filestream\n",
      "    self = cls.from_filestream(filestream, index_keys)\n",
      "  File \"/home/jack/miniconda3/envs/nowcasting_dataset/lib/python3.9/site-packages/cfgrib/messages.py\", line 298, in from_filestream\n",
      "    for message in filestream:\n",
      "  File \"/home/jack/miniconda3/envs/nowcasting_dataset/lib/python3.9/site-packages/cfgrib/messages.py\", line 243, in __iter__\n",
      "    raise EOFError(\"No valid message found in file: %r\" % self.path)\n",
      "EOFError: No valid message found in file: '/media/jack/128GB_USB/NWPs/2018/12/31/201812310300_u1096_ng_umqv_Wholesale1.grib'\n",
      "Can't read index file '/media/jack/128GB_USB/NWPs/2018/12/31/201812310300_u1096_ng_umqv_Wholesale1.grib.923a8.idx'\n",
      "Traceback (most recent call last):\n",
      "  File \"/home/jack/miniconda3/envs/nowcasting_dataset/lib/python3.9/site-packages/cfgrib/messages.py\", line 358, in from_indexpath_or_filestream\n",
      "    index_mtime = os.path.getmtime(indexpath)\n",
      "  File \"/home/jack/miniconda3/envs/nowcasting_dataset/lib/python3.9/genericpath.py\", line 55, in getmtime\n",
      "    return os.stat(filename).st_mtime\n",
      "FileNotFoundError: [Errno 2] No such file or directory: '/media/jack/128GB_USB/NWPs/2018/12/31/201812310300_u1096_ng_umqv_Wholesale1.grib.923a8.idx'\n"
     ]
    },
    {
     "name": "stdout",
     "output_type": "stream",
     "text": [
      "No valid message found in file: '/media/jack/128GB_USB/NWPs/2018/12/31/201812310300_u1096_ng_umqv_Wholesale1.grib' Filesize = 0 bytes\n",
      "No valid data found for "
     ]
    },
    {
     "name": "stderr",
     "output_type": "stream",
     "text": [
      "ecCodes provides no latitudes/longitudes for gridType='transverse_mercator'\n"
     ]
    },
    {
     "name": "stdout",
     "output_type": "stream",
     "text": [
      "2018-12-31 03:00:00    /media/jack/128GB_USB/NWPs/2018/12/31/20181231...\n",
      "2018-12-31 03:00:00    /media/jack/128GB_USB/NWPs/2018/12/31/20181231...\n",
      "dtype: object\n",
      "Opening /media/jack/128GB_USB/NWPs/2018/12/31/201812310600_u1096_ng_umqv_Wholesale1.grib\n"
     ]
    },
    {
     "name": "stderr",
     "output_type": "stream",
     "text": [
      "ecCodes provides no latitudes/longitudes for gridType='transverse_mercator'\n",
      "ecCodes provides no latitudes/longitudes for gridType='transverse_mercator'\n",
      "ecCodes provides no latitudes/longitudes for gridType='transverse_mercator'\n",
      "ecCodes provides no latitudes/longitudes for gridType='transverse_mercator'\n",
      "ecCodes provides no latitudes/longitudes for gridType='transverse_mercator'\n",
      "ecCodes provides no latitudes/longitudes for gridType='transverse_mercator'\n",
      "ecCodes provides no latitudes/longitudes for gridType='transverse_mercator'\n",
      "ecCodes provides no latitudes/longitudes for gridType='transverse_mercator'\n",
      "ecCodes provides no latitudes/longitudes for gridType='transverse_mercator'\n",
      "ecCodes provides no latitudes/longitudes for gridType='transverse_mercator'\n",
      "ecCodes provides no latitudes/longitudes for gridType='transverse_mercator'\n",
      "ecCodes provides no latitudes/longitudes for gridType='transverse_mercator'\n",
      "ecCodes provides no latitudes/longitudes for gridType='transverse_mercator'\n",
      "ecCodes provides no latitudes/longitudes for gridType='transverse_mercator'\n",
      "ecCodes provides no latitudes/longitudes for gridType='transverse_mercator'\n",
      "ecCodes provides no latitudes/longitudes for gridType='transverse_mercator'\n",
      "ecCodes provides no latitudes/longitudes for gridType='transverse_mercator'\n",
      "ecCodes provides no latitudes/longitudes for gridType='transverse_mercator'\n"
     ]
    },
    {
     "name": "stdout",
     "output_type": "stream",
     "text": [
      "Loading...\n"
     ]
    },
    {
     "name": "stderr",
     "output_type": "stream",
     "text": [
      "ecCodes provides no latitudes/longitudes for gridType='transverse_mercator'\n"
     ]
    },
    {
     "name": "stdout",
     "output_type": "stream",
     "text": [
      "Loading...\n",
      "Writing to disk...\n",
      "Writing to disk...\n",
      "Opening /media/jack/128GB_USB/NWPs/2018/12/31/201812310600_u1096_ng_umqv_Wholesale2.grib\n"
     ]
    },
    {
     "name": "stderr",
     "output_type": "stream",
     "text": [
      "ecCodes provides no latitudes/longitudes for gridType='transverse_mercator'\n",
      "ecCodes provides no latitudes/longitudes for gridType='transverse_mercator'\n",
      "ecCodes provides no latitudes/longitudes for gridType='transverse_mercator'\n",
      "ecCodes provides no latitudes/longitudes for gridType='transverse_mercator'\n",
      "ecCodes provides no latitudes/longitudes for gridType='transverse_mercator'\n",
      "ecCodes provides no latitudes/longitudes for gridType='transverse_mercator'\n",
      "ecCodes provides no latitudes/longitudes for gridType='transverse_mercator'\n",
      "ecCodes provides no latitudes/longitudes for gridType='transverse_mercator'\n",
      "ecCodes provides no latitudes/longitudes for gridType='transverse_mercator'\n",
      "ecCodes provides no latitudes/longitudes for gridType='transverse_mercator'\n",
      "ecCodes provides no latitudes/longitudes for gridType='transverse_mercator'\n"
     ]
    },
    {
     "name": "stdout",
     "output_type": "stream",
     "text": [
      "Loading...\n",
      "Opening /media/jack/128GB_USB/NWPs/2017/01/06/201701061800_u1096_ng_umqv_Wholesale1.grib\n"
     ]
    },
    {
     "name": "stderr",
     "output_type": "stream",
     "text": [
      "ecCodes provides no latitudes/longitudes for gridType='transverse_mercator'\n",
      "ecCodes provides no latitudes/longitudes for gridType='transverse_mercator'\n",
      "ecCodes provides no latitudes/longitudes for gridType='transverse_mercator'\n",
      "ecCodes provides no latitudes/longitudes for gridType='transverse_mercator'\n",
      "ecCodes provides no latitudes/longitudes for gridType='transverse_mercator'\n",
      "ecCodes provides no latitudes/longitudes for gridType='transverse_mercator'\n",
      "ecCodes provides no latitudes/longitudes for gridType='transverse_mercator'\n",
      "ecCodes provides no latitudes/longitudes for gridType='transverse_mercator'\n",
      "ecCodes provides no latitudes/longitudes for gridType='transverse_mercator'\n",
      "ecCodes provides no latitudes/longitudes for gridType='transverse_mercator'\n"
     ]
    },
    {
     "name": "stdout",
     "output_type": "stream",
     "text": [
      "Loading...\n",
      "Merging...\n",
      "Reshaping...\n",
      "Merging...\n",
      "Reshaping...\n",
      "Post-processing dataset...\n",
      "Post-processing dataset...\n",
      "Opening /media/jack/128GB_USB/NWPs/2018/12/31/201812310900_u1096_ng_umqv_Wholesale2.grib\n"
     ]
    },
    {
     "name": "stderr",
     "output_type": "stream",
     "text": [
      "Can't create file '/media/jack/128GB_USB/NWPs/2018/12/31/201812310900_u1096_ng_umqv_Wholesale2.grib.923a8.idx'\n",
      "Traceback (most recent call last):\n",
      "  File \"/home/jack/miniconda3/envs/nowcasting_dataset/lib/python3.9/site-packages/cfgrib/messages.py\", line 239, in __iter__\n",
      "    yield self.message_from_file(file, errors=self.errors)\n",
      "  File \"/home/jack/miniconda3/envs/nowcasting_dataset/lib/python3.9/site-packages/cfgrib/messages.py\", line 255, in message_from_file\n",
      "    return self.message_class.from_file(file, offset, **kwargs)\n",
      "  File \"/home/jack/miniconda3/envs/nowcasting_dataset/lib/python3.9/site-packages/cfgrib/messages.py\", line 102, in from_file\n",
      "    raise EOFError(\"End of file: %r\" % file)\n",
      "EOFError: End of file: <_io.BufferedReader name='/media/jack/128GB_USB/NWPs/2018/12/31/201812310900_u1096_ng_umqv_Wholesale2.grib'>\n",
      "\n",
      "During handling of the above exception, another exception occurred:\n",
      "\n",
      "Traceback (most recent call last):\n",
      "  File \"/home/jack/miniconda3/envs/nowcasting_dataset/lib/python3.9/site-packages/cfgrib/messages.py\", line 349, in from_indexpath_or_filestream\n",
      "    self = cls.from_filestream(filestream, index_keys)\n",
      "  File \"/home/jack/miniconda3/envs/nowcasting_dataset/lib/python3.9/site-packages/cfgrib/messages.py\", line 298, in from_filestream\n",
      "    for message in filestream:\n",
      "  File \"/home/jack/miniconda3/envs/nowcasting_dataset/lib/python3.9/site-packages/cfgrib/messages.py\", line 243, in __iter__\n",
      "    raise EOFError(\"No valid message found in file: %r\" % self.path)\n",
      "EOFError: No valid message found in file: '/media/jack/128GB_USB/NWPs/2018/12/31/201812310900_u1096_ng_umqv_Wholesale2.grib'\n",
      "Can't read index file '/media/jack/128GB_USB/NWPs/2018/12/31/201812310900_u1096_ng_umqv_Wholesale2.grib.923a8.idx'\n",
      "Traceback (most recent call last):\n",
      "  File \"/home/jack/miniconda3/envs/nowcasting_dataset/lib/python3.9/site-packages/cfgrib/messages.py\", line 358, in from_indexpath_or_filestream\n",
      "    index_mtime = os.path.getmtime(indexpath)\n",
      "  File \"/home/jack/miniconda3/envs/nowcasting_dataset/lib/python3.9/genericpath.py\", line 55, in getmtime\n",
      "    return os.stat(filename).st_mtime\n",
      "FileNotFoundError: [Errno 2] No such file or directory: '/media/jack/128GB_USB/NWPs/2018/12/31/201812310900_u1096_ng_umqv_Wholesale2.grib.923a8.idx'\n"
     ]
    },
    {
     "name": "stdout",
     "output_type": "stream",
     "text": [
      "No valid message found in file: '/media/jack/128GB_USB/NWPs/2018/12/31/201812310900_u1096_ng_umqv_Wholesale2.grib' Filesize = 0 bytes\n",
      "No valid data found for 2018-12-31 09:00:00    /media/jack/128GB_USB/NWPs/2018/12/31/20181231...\n",
      "2018-12-31 09:00:00    /media/jack/128GB_USB/NWPs/2018/12/31/20181231...\n",
      "dtype: object\n",
      "Opening /media/jack/128GB_USB/NWPs/2018/12/31/201812311200_u1096_ng_umqv_Wholesale1.grib\n"
     ]
    },
    {
     "name": "stderr",
     "output_type": "stream",
     "text": [
      "Can't create file '/media/jack/128GB_USB/NWPs/2018/12/31/201812311200_u1096_ng_umqv_Wholesale1.grib.923a8.idx'\n",
      "Traceback (most recent call last):\n",
      "  File \"/home/jack/miniconda3/envs/nowcasting_dataset/lib/python3.9/site-packages/cfgrib/messages.py\", line 239, in __iter__\n",
      "    yield self.message_from_file(file, errors=self.errors)\n",
      "  File \"/home/jack/miniconda3/envs/nowcasting_dataset/lib/python3.9/site-packages/cfgrib/messages.py\", line 255, in message_from_file\n",
      "    return self.message_class.from_file(file, offset, **kwargs)\n",
      "  File \"/home/jack/miniconda3/envs/nowcasting_dataset/lib/python3.9/site-packages/cfgrib/messages.py\", line 102, in from_file\n",
      "    raise EOFError(\"End of file: %r\" % file)\n",
      "EOFError: End of file: <_io.BufferedReader name='/media/jack/128GB_USB/NWPs/2018/12/31/201812311200_u1096_ng_umqv_Wholesale1.grib'>\n",
      "\n",
      "During handling of the above exception, another exception occurred:\n",
      "\n",
      "Traceback (most recent call last):\n",
      "  File \"/home/jack/miniconda3/envs/nowcasting_dataset/lib/python3.9/site-packages/cfgrib/messages.py\", line 349, in from_indexpath_or_filestream\n",
      "    self = cls.from_filestream(filestream, index_keys)\n",
      "  File \"/home/jack/miniconda3/envs/nowcasting_dataset/lib/python3.9/site-packages/cfgrib/messages.py\", line 298, in from_filestream\n",
      "    for message in filestream:\n",
      "  File \"/home/jack/miniconda3/envs/nowcasting_dataset/lib/python3.9/site-packages/cfgrib/messages.py\", line 243, in __iter__\n",
      "    raise EOFError(\"No valid message found in file: %r\" % self.path)\n",
      "EOFError: No valid message found in file: '/media/jack/128GB_USB/NWPs/2018/12/31/201812311200_u1096_ng_umqv_Wholesale1.grib'\n",
      "Can't read index file '/media/jack/128GB_USB/NWPs/2018/12/31/201812311200_u1096_ng_umqv_Wholesale1.grib.923a8.idx'\n",
      "Traceback (most recent call last):\n",
      "  File \"/home/jack/miniconda3/envs/nowcasting_dataset/lib/python3.9/site-packages/cfgrib/messages.py\", line 358, in from_indexpath_or_filestream\n",
      "    index_mtime = os.path.getmtime(indexpath)\n",
      "  File \"/home/jack/miniconda3/envs/nowcasting_dataset/lib/python3.9/genericpath.py\", line 55, in getmtime\n",
      "    return os.stat(filename).st_mtime\n",
      "FileNotFoundError: [Errno 2] No such file or directory: '/media/jack/128GB_USB/NWPs/2018/12/31/201812311200_u1096_ng_umqv_Wholesale1.grib.923a8.idx'\n"
     ]
    },
    {
     "name": "stdout",
     "output_type": "stream",
     "text": [
      "No valid message found in file: '/media/jack/128GB_USB/NWPs/2018/12/31/201812311200_u1096_ng_umqv_Wholesale1.grib' Filesize = 0 bytes\n",
      "No valid data found for 2018-12-31 12:00:00    /media/jack/128GB_USB/NWPs/2018/12/31/20181231...\n",
      "2018-12-31 12:00:00    /media/jack/128GB_USB/NWPs/2018/12/31/20181231...\n",
      "dtype: object\n",
      "Opening /media/jack/128GB_USB/NWPs/2018/12/31/201812311500_u1096_ng_umqv_Wholesale2.grib\n"
     ]
    },
    {
     "name": "stderr",
     "output_type": "stream",
     "text": [
      "Can't create file '/media/jack/128GB_USB/NWPs/2018/12/31/201812311500_u1096_ng_umqv_Wholesale2.grib.923a8.idx'\n",
      "Traceback (most recent call last):\n",
      "  File \"/home/jack/miniconda3/envs/nowcasting_dataset/lib/python3.9/site-packages/cfgrib/messages.py\", line 239, in __iter__\n",
      "    yield self.message_from_file(file, errors=self.errors)\n",
      "  File \"/home/jack/miniconda3/envs/nowcasting_dataset/lib/python3.9/site-packages/cfgrib/messages.py\", line 255, in message_from_file\n",
      "    return self.message_class.from_file(file, offset, **kwargs)\n",
      "  File \"/home/jack/miniconda3/envs/nowcasting_dataset/lib/python3.9/site-packages/cfgrib/messages.py\", line 102, in from_file\n",
      "    raise EOFError(\"End of file: %r\" % file)\n",
      "EOFError: End of file: <_io.BufferedReader name='/media/jack/128GB_USB/NWPs/2018/12/31/201812311500_u1096_ng_umqv_Wholesale2.grib'>\n",
      "\n",
      "During handling of the above exception, another exception occurred:\n",
      "\n",
      "Traceback (most recent call last):\n",
      "  File \"/home/jack/miniconda3/envs/nowcasting_dataset/lib/python3.9/site-packages/cfgrib/messages.py\", line 349, in from_indexpath_or_filestream\n",
      "    self = cls.from_filestream(filestream, index_keys)\n",
      "  File \"/home/jack/miniconda3/envs/nowcasting_dataset/lib/python3.9/site-packages/cfgrib/messages.py\", line 298, in from_filestream\n",
      "    for message in filestream:\n",
      "  File \"/home/jack/miniconda3/envs/nowcasting_dataset/lib/python3.9/site-packages/cfgrib/messages.py\", line 243, in __iter__\n",
      "    raise EOFError(\"No valid message found in file: %r\" % self.path)\n",
      "EOFError: No valid message found in file: '/media/jack/128GB_USB/NWPs/2018/12/31/201812311500_u1096_ng_umqv_Wholesale2.grib'\n",
      "Can't read index file '/media/jack/128GB_USB/NWPs/2018/12/31/201812311500_u1096_ng_umqv_Wholesale2.grib.923a8.idx'\n",
      "Traceback (most recent call last):\n",
      "  File \"/home/jack/miniconda3/envs/nowcasting_dataset/lib/python3.9/site-packages/cfgrib/messages.py\", line 358, in from_indexpath_or_filestream\n",
      "    index_mtime = os.path.getmtime(indexpath)\n",
      "  File \"/home/jack/miniconda3/envs/nowcasting_dataset/lib/python3.9/genericpath.py\", line 55, in getmtime\n",
      "    return os.stat(filename).st_mtime\n",
      "FileNotFoundError: [Errno 2] No such file or directory: '/media/jack/128GB_USB/NWPs/2018/12/31/201812311500_u1096_ng_umqv_Wholesale2.grib.923a8.idx'\n"
     ]
    },
    {
     "name": "stdout",
     "output_type": "stream",
     "text": [
      "No valid message found in file: '/media/jack/128GB_USB/NWPs/2018/12/31/201812311500_u1096_ng_umqv_Wholesale2.grib' Filesize = 0 bytes\n",
      "No valid data found for 2018-12-31 15:00:00    /media/jack/128GB_USB/NWPs/2018/12/31/20181231...\n",
      "2018-12-31 15:00:00    /media/jack/128GB_USB/NWPs/2018/12/31/20181231...\n",
      "dtype: object\n",
      "Opening /media/jack/128GB_USB/NWPs/2018/12/31/201812311800_u1096_ng_umqv_Wholesale2.grib\n"
     ]
    },
    {
     "name": "stderr",
     "output_type": "stream",
     "text": [
      "ecCodes provides no latitudes/longitudes for gridType='transverse_mercator'\n",
      "ecCodes provides no latitudes/longitudes for gridType='transverse_mercator'\n"
     ]
    },
    {
     "name": "stdout",
     "output_type": "stream",
     "text": [
      "Opening /media/jack/128GB_USB/NWPs/2018/12/31/201812312100_u1096_ng_umqv_Wholesale1.grib\n"
     ]
    },
    {
     "name": "stderr",
     "output_type": "stream",
     "text": [
      "Can't create file '/media/jack/128GB_USB/NWPs/2018/12/31/201812312100_u1096_ng_umqv_Wholesale1.grib.923a8.idx'\n",
      "Traceback (most recent call last):\n",
      "  File \"/home/jack/miniconda3/envs/nowcasting_dataset/lib/python3.9/site-packages/cfgrib/messages.py\", line 239, in __iter__\n",
      "    yield self.message_from_file(file, errors=self.errors)\n",
      "  File \"/home/jack/miniconda3/envs/nowcasting_dataset/lib/python3.9/site-packages/cfgrib/messages.py\", line 255, in message_from_file\n",
      "    return self.message_class.from_file(file, offset, **kwargs)\n",
      "  File \"/home/jack/miniconda3/envs/nowcasting_dataset/lib/python3.9/site-packages/cfgrib/messages.py\", line 102, in from_file\n",
      "    raise EOFError(\"End of file: %r\" % file)\n",
      "EOFError: End of file: <_io.BufferedReader name='/media/jack/128GB_USB/NWPs/2018/12/31/201812312100_u1096_ng_umqv_Wholesale1.grib'>\n",
      "\n",
      "During handling of the above exception, another exception occurred:\n",
      "\n",
      "Traceback (most recent call last):\n",
      "  File \"/home/jack/miniconda3/envs/nowcasting_dataset/lib/python3.9/site-packages/cfgrib/messages.py\", line 349, in from_indexpath_or_filestream\n",
      "    self = cls.from_filestream(filestream, index_keys)\n",
      "  File \"/home/jack/miniconda3/envs/nowcasting_dataset/lib/python3.9/site-packages/cfgrib/messages.py\", line 298, in from_filestream\n",
      "    for message in filestream:\n",
      "  File \"/home/jack/miniconda3/envs/nowcasting_dataset/lib/python3.9/site-packages/cfgrib/messages.py\", line 243, in __iter__\n",
      "    raise EOFError(\"No valid message found in file: %r\" % self.path)\n",
      "EOFError: No valid message found in file: '/media/jack/128GB_USB/NWPs/2018/12/31/201812312100_u1096_ng_umqv_Wholesale1.grib'\n",
      "Can't read index file '/media/jack/128GB_USB/NWPs/2018/12/31/201812312100_u1096_ng_umqv_Wholesale1.grib.923a8.idx'\n",
      "Traceback (most recent call last):\n",
      "  File \"/home/jack/miniconda3/envs/nowcasting_dataset/lib/python3.9/site-packages/cfgrib/messages.py\", line 358, in from_indexpath_or_filestream\n",
      "    index_mtime = os.path.getmtime(indexpath)\n",
      "  File \"/home/jack/miniconda3/envs/nowcasting_dataset/lib/python3.9/genericpath.py\", line 55, in getmtime\n",
      "    return os.stat(filename).st_mtime\n",
      "FileNotFoundError: [Errno 2] No such file or directory: '/media/jack/128GB_USB/NWPs/2018/12/31/201812312100_u1096_ng_umqv_Wholesale1.grib.923a8.idx'\n"
     ]
    },
    {
     "name": "stdout",
     "output_type": "stream",
     "text": [
      "No valid message found in file: '/media/jack/128GB_USB/NWPs/2018/12/31/201812312100_u1096_ng_umqv_Wholesale1.grib' "
     ]
    },
    {
     "name": "stderr",
     "output_type": "stream",
     "text": [
      "ecCodes provides no latitudes/longitudes for gridType='transverse_mercator'\n"
     ]
    },
    {
     "name": "stdout",
     "output_type": "stream",
     "text": [
      "Filesize = 0 bytes\n",
      "No valid data found for 2018-12-31 21:00:00    /media/jack/128GB_USB/NWPs/2018/12/31/20181231...\n",
      "2018-12-31 21:00:00    /media/jack/128GB_USB/NWPs/2018/12/31/20181231...\n",
      "dtype: object\n"
     ]
    },
    {
     "name": "stderr",
     "output_type": "stream",
     "text": [
      "ecCodes provides no latitudes/longitudes for gridType='transverse_mercator'\n"
     ]
    },
    {
     "name": "stdout",
     "output_type": "stream",
     "text": [
      "Opening /media/jack/128GB_USB/NWPs/2019/06/15/201906150000_u1096_ng_umqv_Wholesale1.grib\n"
     ]
    },
    {
     "name": "stderr",
     "output_type": "stream",
     "text": [
      "Can't create file '/media/jack/128GB_USB/NWPs/2019/06/15/201906150000_u1096_ng_umqv_Wholesale1.grib.923a8.idx'\n",
      "Traceback (most recent call last):\n",
      "  File \"/home/jack/miniconda3/envs/nowcasting_dataset/lib/python3.9/site-packages/cfgrib/messages.py\", line 239, in __iter__\n",
      "    yield self.message_from_file(file, errors=self.errors)\n",
      "  File \"/home/jack/miniconda3/envs/nowcasting_dataset/lib/python3.9/site-packages/cfgrib/messages.py\", line 255, in message_from_file\n",
      "    return self.message_class.from_file(file, offset, **kwargs)\n",
      "  File \"/home/jack/miniconda3/envs/nowcasting_dataset/lib/python3.9/site-packages/cfgrib/messages.py\", line 102, in from_file\n",
      "    raise EOFError(\"End of file: %r\" % file)\n",
      "EOFError: End of file: <_io.BufferedReader name='/media/jack/128GB_USB/NWPs/2019/06/15/201906150000_u1096_ng_umqv_Wholesale1.grib'>\n",
      "\n",
      "During handling of the above exception, another exception occurred:\n",
      "\n",
      "Traceback (most recent call last):\n",
      "  File \"/home/jack/miniconda3/envs/nowcasting_dataset/lib/python3.9/site-packages/cfgrib/messages.py\", line 349, in from_indexpath_or_filestream\n",
      "    self = cls.from_filestream(filestream, index_keys)\n",
      "  File \"/home/jack/miniconda3/envs/nowcasting_dataset/lib/python3.9/site-packages/cfgrib/messages.py\", line 298, in from_filestream\n",
      "    for message in filestream:\n",
      "  File \"/home/jack/miniconda3/envs/nowcasting_dataset/lib/python3.9/site-packages/cfgrib/messages.py\", line 243, in __iter__\n",
      "    raise EOFError(\"No valid message found in file: %r\" % self.path)\n",
      "EOFError: No valid message found in file: '/media/jack/128GB_USB/NWPs/2019/06/15/201906150000_u1096_ng_umqv_Wholesale1.grib'\n",
      "Can't read index file '/media/jack/128GB_USB/NWPs/2019/06/15/201906150000_u1096_ng_umqv_Wholesale1.grib.923a8.idx'\n",
      "Traceback (most recent call last):\n",
      "  File \"/home/jack/miniconda3/envs/nowcasting_dataset/lib/python3.9/site-packages/cfgrib/messages.py\", line 358, in from_indexpath_or_filestream\n",
      "    index_mtime = os.path.getmtime(indexpath)\n",
      "  File \"/home/jack/miniconda3/envs/nowcasting_dataset/lib/python3.9/genericpath.py\", line 55, in getmtime\n",
      "    return os.stat(filename).st_mtime\n",
      "FileNotFoundError: [Errno 2] No such file or directory: '/media/jack/128GB_USB/NWPs/2019/06/15/201906150000_u1096_ng_umqv_Wholesale1.grib.923a8.idx'\n"
     ]
    },
    {
     "name": "stdout",
     "output_type": "stream",
     "text": [
      "No valid message found in file: '/media/jack/128GB_USB/NWPs/2019/06/15/201906150000_u1096_ng_umqv_Wholesale1.grib' Filesize = 0 bytes\n",
      "No valid data found for 2019-06-15    /media/jack/128GB_USB/NWPs/2019/06/15/20190615...\n",
      "2019-06-15    /media/jack/128GB_USB/NWPs/2019/06/15/20190615...\n",
      "dtype: object\n",
      "Opening /media/jack/128GB_USB/NWPs/2019/06/15/201906150300_u1096_ng_umqv_Wholesale1.grib\n"
     ]
    },
    {
     "name": "stderr",
     "output_type": "stream",
     "text": [
      "Can't create file '/media/jack/128GB_USB/NWPs/2019/06/15/201906150300_u1096_ng_umqv_Wholesale1.grib.923a8.idx'\n",
      "Traceback (most recent call last):\n",
      "  File \"/home/jack/miniconda3/envs/nowcasting_dataset/lib/python3.9/site-packages/cfgrib/messages.py\", line 239, in __iter__\n",
      "    yield self.message_from_file(file, errors=self.errors)\n",
      "  File \"/home/jack/miniconda3/envs/nowcasting_dataset/lib/python3.9/site-packages/cfgrib/messages.py\", line 255, in message_from_file\n",
      "    return self.message_class.from_file(file, offset, **kwargs)\n",
      "  File \"/home/jack/miniconda3/envs/nowcasting_dataset/lib/python3.9/site-packages/cfgrib/messages.py\", line 102, in from_file\n",
      "    raise EOFError(\"End of file: %r\" % file)\n",
      "EOFError: End of file: <_io.BufferedReader name='/media/jack/128GB_USB/NWPs/2019/06/15/201906150300_u1096_ng_umqv_Wholesale1.grib'>\n",
      "\n",
      "During handling of the above exception, another exception occurred:\n",
      "\n",
      "Traceback (most recent call last):\n",
      "  File \"/home/jack/miniconda3/envs/nowcasting_dataset/lib/python3.9/site-packages/cfgrib/messages.py\", line 349, in from_indexpath_or_filestream\n",
      "    self = cls.from_filestream(filestream, index_keys)\n",
      "  File \"/home/jack/miniconda3/envs/nowcasting_dataset/lib/python3.9/site-packages/cfgrib/messages.py\", line 298, in from_filestream\n",
      "    for message in filestream:\n",
      "  File \"/home/jack/miniconda3/envs/nowcasting_dataset/lib/python3.9/site-packages/cfgrib/messages.py\", line 243, in __iter__\n",
      "    raise EOFError(\"No valid message found in file: %r\" % self.path)\n",
      "EOFError: No valid message found in file: '/media/jack/128GB_USB/NWPs/2019/06/15/201906150300_u1096_ng_umqv_Wholesale1.grib'\n",
      "Can't read index file '/media/jack/128GB_USB/NWPs/2019/06/15/201906150300_u1096_ng_umqv_Wholesale1.grib.923a8.idx'\n",
      "Traceback (most recent call last):\n",
      "  File \"/home/jack/miniconda3/envs/nowcasting_dataset/lib/python3.9/site-packages/cfgrib/messages.py\", line 358, in from_indexpath_or_filestream\n",
      "    index_mtime = os.path.getmtime(indexpath)\n",
      "  File \"/home/jack/miniconda3/envs/nowcasting_dataset/lib/python3.9/genericpath.py\", line 55, in getmtime\n",
      "    return os.stat(filename).st_mtime\n",
      "FileNotFoundError: [Errno 2] No such file or directory: '/media/jack/128GB_USB/NWPs/2019/06/15/201906150300_u1096_ng_umqv_Wholesale1.grib.923a8.idx'\n",
      "ecCodes provides no latitudes/longitudes for gridType='transverse_mercator'\n"
     ]
    },
    {
     "name": "stdout",
     "output_type": "stream",
     "text": [
      "No valid message found in file: '/media/jack/128GB_USB/NWPs/2019/06/15/201906150300_u1096_ng_umqv_Wholesale1.grib' Filesize = 0 bytes\n",
      "No valid data found for 2019-06-15 03:00:00    /media/jack/128GB_USB/NWPs/2019/06/15/20190615...\n",
      "2019-06-15 03:00:00    /media/jack/128GB_USB/NWPs/2019/06/15/20190615...\n",
      "dtype: object\n",
      "Opening /media/jack/128GB_USB/NWPs/2019/06/15/201906150600_u1096_ng_umqv_Wholesale2.grib\n"
     ]
    },
    {
     "name": "stderr",
     "output_type": "stream",
     "text": [
      "Can't create file '/media/jack/128GB_USB/NWPs/2019/06/15/201906150600_u1096_ng_umqv_Wholesale2.grib.923a8.idx'\n",
      "Traceback (most recent call last):\n",
      "  File \"/home/jack/miniconda3/envs/nowcasting_dataset/lib/python3.9/site-packages/cfgrib/messages.py\", line 239, in __iter__\n",
      "    yield self.message_from_file(file, errors=self.errors)\n",
      "  File \"/home/jack/miniconda3/envs/nowcasting_dataset/lib/python3.9/site-packages/cfgrib/messages.py\", line 255, in message_from_file\n",
      "    return self.message_class.from_file(file, offset, **kwargs)\n",
      "  File \"/home/jack/miniconda3/envs/nowcasting_dataset/lib/python3.9/site-packages/cfgrib/messages.py\", line 102, in from_file\n",
      "    raise EOFError(\"End of file: %r\" % file)\n",
      "EOFError: End of file: <_io.BufferedReader name='/media/jack/128GB_USB/NWPs/2019/06/15/201906150600_u1096_ng_umqv_Wholesale2.grib'>\n",
      "\n",
      "During handling of the above exception, another exception occurred:\n",
      "\n",
      "Traceback (most recent call last):\n",
      "  File \"/home/jack/miniconda3/envs/nowcasting_dataset/lib/python3.9/site-packages/cfgrib/messages.py\", line 349, in from_indexpath_or_filestream\n",
      "    self = cls.from_filestream(filestream, index_keys)\n",
      "  File \"/home/jack/miniconda3/envs/nowcasting_dataset/lib/python3.9/site-packages/cfgrib/messages.py\", line 298, in from_filestream\n",
      "    for message in filestream:\n",
      "  File \"/home/jack/miniconda3/envs/nowcasting_dataset/lib/python3.9/site-packages/cfgrib/messages.py\", line 243, in __iter__\n",
      "    raise EOFError(\"No valid message found in file: %r\" % self.path)\n",
      "EOFError: No valid message found in file: '/media/jack/128GB_USB/NWPs/2019/06/15/201906150600_u1096_ng_umqv_Wholesale2.grib'\n",
      "Can't read index file '/media/jack/128GB_USB/NWPs/2019/06/15/201906150600_u1096_ng_umqv_Wholesale2.grib.923a8.idx'\n",
      "Traceback (most recent call last):\n",
      "  File \"/home/jack/miniconda3/envs/nowcasting_dataset/lib/python3.9/site-packages/cfgrib/messages.py\", line 358, in from_indexpath_or_filestream\n",
      "    index_mtime = os.path.getmtime(indexpath)\n",
      "  File \"/home/jack/miniconda3/envs/nowcasting_dataset/lib/python3.9/genericpath.py\", line 55, in getmtime\n",
      "    return os.stat(filename).st_mtime\n",
      "FileNotFoundError: [Errno 2] No such file or directory: '/media/jack/128GB_USB/NWPs/2019/06/15/201906150600_u1096_ng_umqv_Wholesale2.grib.923a8.idx'\n"
     ]
    },
    {
     "name": "stdout",
     "output_type": "stream",
     "text": [
      "No valid message found in file: '/media/jack/128GB_USB/NWPs/2019/06/15/201906150600_u1096_ng_umqv_Wholesale2.grib' Filesize = 0 bytes"
     ]
    },
    {
     "name": "stderr",
     "output_type": "stream",
     "text": [
      "ecCodes provides no latitudes/longitudes for gridType='transverse_mercator'\n"
     ]
    },
    {
     "name": "stdout",
     "output_type": "stream",
     "text": [
      "\n",
      "No valid data found for 2019-06-15 06:00:00    /media/jack/128GB_USB/NWPs/2019/06/15/20190615...\n",
      "2019-06-15 06:00:00    /media/jack/128GB_USB/NWPs/2019/06/15/20190615...\n",
      "dtype: object\n",
      "Opening /media/jack/128GB_USB/NWPs/2019/06/15/201906150900_u1096_ng_umqv_Wholesale1.grib\n"
     ]
    },
    {
     "name": "stderr",
     "output_type": "stream",
     "text": [
      "ecCodes provides no latitudes/longitudes for gridType='transverse_mercator'\n",
      "ecCodes provides no latitudes/longitudes for gridType='transverse_mercator'\n",
      "ecCodes provides no latitudes/longitudes for gridType='transverse_mercator'\n",
      "ecCodes provides no latitudes/longitudes for gridType='transverse_mercator'\n",
      "ecCodes provides no latitudes/longitudes for gridType='transverse_mercator'\n",
      "ecCodes provides no latitudes/longitudes for gridType='transverse_mercator'\n",
      "ecCodes provides no latitudes/longitudes for gridType='transverse_mercator'\n",
      "ecCodes provides no latitudes/longitudes for gridType='transverse_mercator'\n",
      "ecCodes provides no latitudes/longitudes for gridType='transverse_mercator'\n",
      "ecCodes provides no latitudes/longitudes for gridType='transverse_mercator'\n",
      "ecCodes provides no latitudes/longitudes for gridType='transverse_mercator'\n",
      "ecCodes provides no latitudes/longitudes for gridType='transverse_mercator'\n",
      "ecCodes provides no latitudes/longitudes for gridType='transverse_mercator'\n",
      "ecCodes provides no latitudes/longitudes for gridType='transverse_mercator'\n"
     ]
    },
    {
     "name": "stdout",
     "output_type": "stream",
     "text": [
      "Loading..."
     ]
    },
    {
     "name": "stderr",
     "output_type": "stream",
     "text": [
      "ecCodes provides no latitudes/longitudes for gridType='transverse_mercator'\n"
     ]
    },
    {
     "name": "stdout",
     "output_type": "stream",
     "text": [
      "\n",
      "Loading...\n",
      "Writing to disk...\n",
      "Opening /media/jack/128GB_USB/NWPs/2019/06/15/201906150900_u1096_ng_umqv_Wholesale2.grib\n"
     ]
    },
    {
     "name": "stderr",
     "output_type": "stream",
     "text": [
      "Can't create file '/media/jack/128GB_USB/NWPs/2019/06/15/201906150900_u1096_ng_umqv_Wholesale2.grib.923a8.idx'\n",
      "Traceback (most recent call last):\n",
      "  File \"/home/jack/miniconda3/envs/nowcasting_dataset/lib/python3.9/site-packages/cfgrib/messages.py\", line 239, in __iter__\n",
      "    yield self.message_from_file(file, errors=self.errors)\n",
      "  File \"/home/jack/miniconda3/envs/nowcasting_dataset/lib/python3.9/site-packages/cfgrib/messages.py\", line 255, in message_from_file\n",
      "    return self.message_class.from_file(file, offset, **kwargs)\n",
      "  File \"/home/jack/miniconda3/envs/nowcasting_dataset/lib/python3.9/site-packages/cfgrib/messages.py\", line 102, in from_file\n",
      "    raise EOFError(\"End of file: %r\" % file)\n",
      "EOFError: End of file: <_io.BufferedReader name='/media/jack/128GB_USB/NWPs/2019/06/15/201906150900_u1096_ng_umqv_Wholesale2.grib'>\n",
      "\n",
      "During handling of the above exception, another exception occurred:\n",
      "\n",
      "Traceback (most recent call last):\n",
      "  File \"/home/jack/miniconda3/envs/nowcasting_dataset/lib/python3.9/site-packages/cfgrib/messages.py\", line 349, in from_indexpath_or_filestream\n",
      "    self = cls.from_filestream(filestream, index_keys)\n",
      "  File \"/home/jack/miniconda3/envs/nowcasting_dataset/lib/python3.9/site-packages/cfgrib/messages.py\", line 298, in from_filestream\n",
      "    for message in filestream:\n",
      "  File \"/home/jack/miniconda3/envs/nowcasting_dataset/lib/python3.9/site-packages/cfgrib/messages.py\", line 243, in __iter__\n",
      "    raise EOFError(\"No valid message found in file: %r\" % self.path)\n",
      "EOFError: No valid message found in file: '/media/jack/128GB_USB/NWPs/2019/06/15/201906150900_u1096_ng_umqv_Wholesale2.grib'\n",
      "Can't read index file '/media/jack/128GB_USB/NWPs/2019/06/15/201906150900_u1096_ng_umqv_Wholesale2.grib.923a8.idx'\n",
      "Traceback (most recent call last):\n",
      "  File \"/home/jack/miniconda3/envs/nowcasting_dataset/lib/python3.9/site-packages/cfgrib/messages.py\", line 358, in from_indexpath_or_filestream\n",
      "    index_mtime = os.path.getmtime(indexpath)\n",
      "  File \"/home/jack/miniconda3/envs/nowcasting_dataset/lib/python3.9/genericpath.py\", line 55, in getmtime\n",
      "    return os.stat(filename).st_mtime\n",
      "FileNotFoundError: [Errno 2] No such file or directory: '/media/jack/128GB_USB/NWPs/2019/06/15/201906150900_u1096_ng_umqv_Wholesale2.grib.923a8.idx'\n"
     ]
    },
    {
     "name": "stdout",
     "output_type": "stream",
     "text": [
      "No valid message found in file: '/media/jack/128GB_USB/NWPs/2019/06/15/201906150900_u1096_ng_umqv_Wholesale2.grib' Filesize = 0 bytes\n",
      "No valid data found for 2019-06-15 09:00:00    /media/jack/128GB_USB/NWPs/2019/06/15/20190615...\n",
      "2019-06-15 09:00:00    /media/jack/128GB_USB/NWPs/2019/06/15/20190615...\n",
      "dtype: object\n",
      "Opening /media/jack/128GB_USB/NWPs/2019/06/15/201906151200_u1096_ng_umqv_Wholesale1.grib\n"
     ]
    },
    {
     "name": "stderr",
     "output_type": "stream",
     "text": [
      "Can't create file '/media/jack/128GB_USB/NWPs/2019/06/15/201906151200_u1096_ng_umqv_Wholesale1.grib.923a8.idx'\n",
      "Traceback (most recent call last):\n",
      "  File \"/home/jack/miniconda3/envs/nowcasting_dataset/lib/python3.9/site-packages/cfgrib/messages.py\", line 239, in __iter__\n",
      "    yield self.message_from_file(file, errors=self.errors)\n",
      "  File \"/home/jack/miniconda3/envs/nowcasting_dataset/lib/python3.9/site-packages/cfgrib/messages.py\", line 255, in message_from_file\n",
      "    return self.message_class.from_file(file, offset, **kwargs)\n",
      "  File \"/home/jack/miniconda3/envs/nowcasting_dataset/lib/python3.9/site-packages/cfgrib/messages.py\", line 102, in from_file\n",
      "    raise EOFError(\"End of file: %r\" % file)\n",
      "EOFError: End of file: <_io.BufferedReader name='/media/jack/128GB_USB/NWPs/2019/06/15/201906151200_u1096_ng_umqv_Wholesale1.grib'>\n",
      "\n",
      "During handling of the above exception, another exception occurred:\n",
      "\n",
      "Traceback (most recent call last):\n",
      "  File \"/home/jack/miniconda3/envs/nowcasting_dataset/lib/python3.9/site-packages/cfgrib/messages.py\", line 349, in from_indexpath_or_filestream\n",
      "    self = cls.from_filestream(filestream, index_keys)\n",
      "  File \"/home/jack/miniconda3/envs/nowcasting_dataset/lib/python3.9/site-packages/cfgrib/messages.py\", line 298, in from_filestream\n",
      "    for message in filestream:\n",
      "  File \"/home/jack/miniconda3/envs/nowcasting_dataset/lib/python3.9/site-packages/cfgrib/messages.py\", line 243, in __iter__\n",
      "    raise EOFError(\"No valid message found in file: %r\" % self.path)\n",
      "EOFError: No valid message found in file: '/media/jack/128GB_USB/NWPs/2019/06/15/201906151200_u1096_ng_umqv_Wholesale1.grib'\n",
      "Can't read index file '/media/jack/128GB_USB/NWPs/2019/06/15/201906151200_u1096_ng_umqv_Wholesale1.grib.923a8.idx'\n",
      "Traceback (most recent call last):\n",
      "  File \"/home/jack/miniconda3/envs/nowcasting_dataset/lib/python3.9/site-packages/cfgrib/messages.py\", line 358, in from_indexpath_or_filestream\n",
      "    index_mtime = os.path.getmtime(indexpath)\n",
      "  File \"/home/jack/miniconda3/envs/nowcasting_dataset/lib/python3.9/genericpath.py\", line 55, in getmtime\n",
      "    return os.stat(filename).st_mtime\n",
      "FileNotFoundError: [Errno 2] No such file or directory: '/media/jack/128GB_USB/NWPs/2019/06/15/201906151200_u1096_ng_umqv_Wholesale1.grib.923a8.idx'\n"
     ]
    },
    {
     "name": "stdout",
     "output_type": "stream",
     "text": [
      "No valid message found in file: '/media/jack/128GB_USB/NWPs/2019/06/15/201906151200_u1096_ng_umqv_Wholesale1.grib' Filesize = 0 bytes\n",
      "No valid data found for 2019-06-15 12:00:00    /media/jack/128GB_USB/NWPs/2019/06/15/20190615...\n",
      "2019-06-15 12:00:00    /media/jack/128GB_USB/NWPs/2019/06/15/20190615...\n",
      "dtype: object\n",
      "Opening /media/jack/128GB_USB/NWPs/2019/06/15/201906151500_u1096_ng_umqv_Wholesale1.grib\n"
     ]
    },
    {
     "name": "stderr",
     "output_type": "stream",
     "text": [
      "Can't create file '/media/jack/128GB_USB/NWPs/2019/06/15/201906151500_u1096_ng_umqv_Wholesale1.grib.923a8.idx'\n",
      "Traceback (most recent call last):\n",
      "  File \"/home/jack/miniconda3/envs/nowcasting_dataset/lib/python3.9/site-packages/cfgrib/messages.py\", line 239, in __iter__\n",
      "    yield self.message_from_file(file, errors=self.errors)\n",
      "  File \"/home/jack/miniconda3/envs/nowcasting_dataset/lib/python3.9/site-packages/cfgrib/messages.py\", line 255, in message_from_file\n",
      "    return self.message_class.from_file(file, offset, **kwargs)\n",
      "  File \"/home/jack/miniconda3/envs/nowcasting_dataset/lib/python3.9/site-packages/cfgrib/messages.py\", line 102, in from_file\n",
      "    raise EOFError(\"End of file: %r\" % file)\n",
      "EOFError: End of file: <_io.BufferedReader name='/media/jack/128GB_USB/NWPs/2019/06/15/201906151500_u1096_ng_umqv_Wholesale1.grib'>\n",
      "\n",
      "During handling of the above exception, another exception occurred:\n",
      "\n",
      "Traceback (most recent call last):\n",
      "  File \"/home/jack/miniconda3/envs/nowcasting_dataset/lib/python3.9/site-packages/cfgrib/messages.py\", line 349, in from_indexpath_or_filestream\n",
      "    self = cls.from_filestream(filestream, index_keys)\n",
      "  File \"/home/jack/miniconda3/envs/nowcasting_dataset/lib/python3.9/site-packages/cfgrib/messages.py\", line 298, in from_filestream\n",
      "    for message in filestream:\n",
      "  File \"/home/jack/miniconda3/envs/nowcasting_dataset/lib/python3.9/site-packages/cfgrib/messages.py\", line 243, in __iter__\n",
      "    raise EOFError(\"No valid message found in file: %r\" % self.path)\n",
      "EOFError: No valid message found in file: '/media/jack/128GB_USB/NWPs/2019/06/15/201906151500_u1096_ng_umqv_Wholesale1.grib'\n",
      "Can't read index file '/media/jack/128GB_USB/NWPs/2019/06/15/201906151500_u1096_ng_umqv_Wholesale1.grib.923a8.idx'\n",
      "Traceback (most recent call last):\n",
      "  File \"/home/jack/miniconda3/envs/nowcasting_dataset/lib/python3.9/site-packages/cfgrib/messages.py\", line 358, in from_indexpath_or_filestream\n",
      "    index_mtime = os.path.getmtime(indexpath)\n",
      "  File \"/home/jack/miniconda3/envs/nowcasting_dataset/lib/python3.9/genericpath.py\", line 55, in getmtime\n",
      "    return os.stat(filename).st_mtime\n",
      "FileNotFoundError: [Errno 2] No such file or directory: '/media/jack/128GB_USB/NWPs/2019/06/15/201906151500_u1096_ng_umqv_Wholesale1.grib.923a8.idx'\n"
     ]
    },
    {
     "name": "stdout",
     "output_type": "stream",
     "text": [
      "No valid message found in file: '/media/jack/128GB_USB/NWPs/2019/06/15/201906151500_u1096_ng_umqv_Wholesale1.grib' Filesize = 0 bytes\n",
      "No valid data found for 2019-06-15 15:00:00    /media/jack/128GB_USB/NWPs/2019/06/15/20190615...\n",
      "2019-06-15 15:00:00    /media/jack/128GB_USB/NWPs/2019/06/15/20190615...\n",
      "dtype: object\n",
      "Opening /media/jack/128GB_USB/NWPs/2019/06/15/201906151800_u1096_ng_umqv_Wholesale2.grib\n"
     ]
    },
    {
     "name": "stderr",
     "output_type": "stream",
     "text": [
      "Can't create file '/media/jack/128GB_USB/NWPs/2019/06/15/201906151800_u1096_ng_umqv_Wholesale2.grib.923a8.idx'\n",
      "Traceback (most recent call last):\n",
      "  File \"/home/jack/miniconda3/envs/nowcasting_dataset/lib/python3.9/site-packages/cfgrib/messages.py\", line 239, in __iter__\n",
      "    yield self.message_from_file(file, errors=self.errors)\n",
      "  File \"/home/jack/miniconda3/envs/nowcasting_dataset/lib/python3.9/site-packages/cfgrib/messages.py\", line 255, in message_from_file\n",
      "    return self.message_class.from_file(file, offset, **kwargs)\n",
      "  File \"/home/jack/miniconda3/envs/nowcasting_dataset/lib/python3.9/site-packages/cfgrib/messages.py\", line 102, in from_file\n",
      "    raise EOFError(\"End of file: %r\" % file)\n",
      "EOFError: End of file: <_io.BufferedReader name='/media/jack/128GB_USB/NWPs/2019/06/15/201906151800_u1096_ng_umqv_Wholesale2.grib'>\n",
      "\n",
      "During handling of the above exception, another exception occurred:\n",
      "\n",
      "Traceback (most recent call last):\n",
      "  File \"/home/jack/miniconda3/envs/nowcasting_dataset/lib/python3.9/site-packages/cfgrib/messages.py\", line 349, in from_indexpath_or_filestream\n",
      "    self = cls.from_filestream(filestream, index_keys)\n",
      "  File \"/home/jack/miniconda3/envs/nowcasting_dataset/lib/python3.9/site-packages/cfgrib/messages.py\", line 298, in from_filestream\n",
      "    for message in filestream:\n",
      "  File \"/home/jack/miniconda3/envs/nowcasting_dataset/lib/python3.9/site-packages/cfgrib/messages.py\", line 243, in __iter__\n",
      "    raise EOFError(\"No valid message found in file: %r\" % self.path)\n",
      "EOFError: No valid message found in file: '/media/jack/128GB_USB/NWPs/2019/06/15/201906151800_u1096_ng_umqv_Wholesale2.grib'\n",
      "Can't read index file '/media/jack/128GB_USB/NWPs/2019/06/15/201906151800_u1096_ng_umqv_Wholesale2.grib.923a8.idx'\n",
      "Traceback (most recent call last):\n",
      "  File \"/home/jack/miniconda3/envs/nowcasting_dataset/lib/python3.9/site-packages/cfgrib/messages.py\", line 358, in from_indexpath_or_filestream\n",
      "    index_mtime = os.path.getmtime(indexpath)\n",
      "  File \"/home/jack/miniconda3/envs/nowcasting_dataset/lib/python3.9/genericpath.py\", line 55, in getmtime\n",
      "    return os.stat(filename).st_mtime\n",
      "FileNotFoundError: [Errno 2] No such file or directory: '/media/jack/128GB_USB/NWPs/2019/06/15/201906151800_u1096_ng_umqv_Wholesale2.grib.923a8.idx'\n"
     ]
    },
    {
     "name": "stdout",
     "output_type": "stream",
     "text": [
      "No valid message found in file: '/media/jack/128GB_USB/NWPs/2019/06/15/201906151800_u1096_ng_umqv_Wholesale2.grib' Filesize = 0 bytes\n",
      "No valid data found for 2019-06-15 18:00:00    /media/jack/128GB_USB/NWPs/2019/06/15/20190615...\n",
      "2019-06-15 18:00:00    /media/jack/128GB_USB/NWPs/2019/06/15/20190615...\n",
      "dtype: object\n",
      "Opening /media/jack/128GB_USB/NWPs/2019/06/15/201906152100_u1096_ng_umqv_Wholesale1.grib\n"
     ]
    },
    {
     "name": "stderr",
     "output_type": "stream",
     "text": [
      "ecCodes provides no latitudes/longitudes for gridType='transverse_mercator'\n",
      "ecCodes provides no latitudes/longitudes for gridType='transverse_mercator'\n",
      "ecCodes provides no latitudes/longitudes for gridType='transverse_mercator'\n",
      "ecCodes provides no latitudes/longitudes for gridType='transverse_mercator'\n",
      "ecCodes provides no latitudes/longitudes for gridType='transverse_mercator'\n",
      "ecCodes provides no latitudes/longitudes for gridType='transverse_mercator'\n",
      "ecCodes provides no latitudes/longitudes for gridType='transverse_mercator'\n",
      "ecCodes provides no latitudes/longitudes for gridType='transverse_mercator'\n",
      "ecCodes provides no latitudes/longitudes for gridType='transverse_mercator'\n",
      "ecCodes provides no latitudes/longitudes for gridType='transverse_mercator'\n"
     ]
    },
    {
     "name": "stdout",
     "output_type": "stream",
     "text": [
      "Loading...\n",
      "Opening /media/jack/128GB_USB/NWPs/2018/12/31/201812311800_u1096_ng_umqv_Wholesale1.grib\n"
     ]
    },
    {
     "name": "stderr",
     "output_type": "stream",
     "text": [
      "ecCodes provides no latitudes/longitudes for gridType='transverse_mercator'\n",
      "ecCodes provides no latitudes/longitudes for gridType='transverse_mercator'\n",
      "ecCodes provides no latitudes/longitudes for gridType='transverse_mercator'\n",
      "ecCodes provides no latitudes/longitudes for gridType='transverse_mercator'\n",
      "ecCodes provides no latitudes/longitudes for gridType='transverse_mercator'\n",
      "ecCodes provides no latitudes/longitudes for gridType='transverse_mercator'\n",
      "ecCodes provides no latitudes/longitudes for gridType='transverse_mercator'\n",
      "ecCodes provides no latitudes/longitudes for gridType='transverse_mercator'\n",
      "ecCodes provides no latitudes/longitudes for gridType='transverse_mercator'\n",
      "ecCodes provides no latitudes/longitudes for gridType='transverse_mercator'\n"
     ]
    },
    {
     "name": "stdout",
     "output_type": "stream",
     "text": [
      "Loading...\n",
      "Writing to disk...\n",
      "Opening /media/jack/128GB_USB/NWPs/2019/06/15/201906152100_u1096_ng_umqv_Wholesale2.grib\n"
     ]
    },
    {
     "name": "stderr",
     "output_type": "stream",
     "text": [
      "ecCodes provides no latitudes/longitudes for gridType='transverse_mercator'\n",
      "ecCodes provides no latitudes/longitudes for gridType='transverse_mercator'\n",
      "ecCodes provides no latitudes/longitudes for gridType='transverse_mercator'\n",
      "ecCodes provides no latitudes/longitudes for gridType='transverse_mercator'\n",
      "ecCodes provides no latitudes/longitudes for gridType='transverse_mercator'\n",
      "ecCodes provides no latitudes/longitudes for gridType='transverse_mercator'\n",
      "ecCodes provides no latitudes/longitudes for gridType='transverse_mercator'\n",
      "ecCodes provides no latitudes/longitudes for gridType='transverse_mercator'\n",
      "ecCodes provides no latitudes/longitudes for gridType='transverse_mercator'\n",
      "ecCodes provides no latitudes/longitudes for gridType='transverse_mercator'\n",
      "ecCodes provides no latitudes/longitudes for gridType='transverse_mercator'\n"
     ]
    },
    {
     "name": "stdout",
     "output_type": "stream",
     "text": [
      "Loading...\n",
      "Merging...\n",
      "Reshaping...\n",
      "Post-processing dataset...\n",
      "Merging...\n",
      "Reshaping...\n",
      "Post-processing dataset...\n",
      "Opening /media/jack/128GB_USB/NWPs/2021/09/30/202109300000_u1096_ng_umqv_Wholesale2.grib\n"
     ]
    },
    {
     "name": "stderr",
     "output_type": "stream",
     "text": [
      "ecCodes provides no latitudes/longitudes for gridType='transverse_mercator'\n",
      "ecCodes provides no latitudes/longitudes for gridType='transverse_mercator'\n",
      "ecCodes provides no latitudes/longitudes for gridType='transverse_mercator'\n",
      "ecCodes provides no latitudes/longitudes for gridType='transverse_mercator'\n",
      "ecCodes provides no latitudes/longitudes for gridType='transverse_mercator'\n",
      "ecCodes provides no latitudes/longitudes for gridType='transverse_mercator'\n",
      "ecCodes provides no latitudes/longitudes for gridType='transverse_mercator'\n",
      "ecCodes provides no latitudes/longitudes for gridType='transverse_mercator'\n",
      "ecCodes provides no latitudes/longitudes for gridType='transverse_mercator'\n",
      "ecCodes provides no latitudes/longitudes for gridType='transverse_mercator'\n",
      "ecCodes provides no latitudes/longitudes for gridType='transverse_mercator'\n"
     ]
    },
    {
     "name": "stdout",
     "output_type": "stream",
     "text": [
      "Loading...\n",
      "Writing to disk...\n",
      "Opening /media/jack/128GB_USB/NWPs/2021/09/30/202109300000_u1096_ng_umqv_Wholesale1.grib\n"
     ]
    },
    {
     "name": "stderr",
     "output_type": "stream",
     "text": [
      "ecCodes provides no latitudes/longitudes for gridType='transverse_mercator'\n",
      "ecCodes provides no latitudes/longitudes for gridType='transverse_mercator'\n",
      "ecCodes provides no latitudes/longitudes for gridType='transverse_mercator'\n",
      "ecCodes provides no latitudes/longitudes for gridType='transverse_mercator'\n",
      "ecCodes provides no latitudes/longitudes for gridType='transverse_mercator'\n",
      "ecCodes provides no latitudes/longitudes for gridType='transverse_mercator'\n",
      "ecCodes provides no latitudes/longitudes for gridType='transverse_mercator'\n",
      "ecCodes provides no latitudes/longitudes for gridType='transverse_mercator'\n",
      "ecCodes provides no latitudes/longitudes for gridType='transverse_mercator'\n",
      "ecCodes provides no latitudes/longitudes for gridType='transverse_mercator'\n"
     ]
    },
    {
     "name": "stdout",
     "output_type": "stream",
     "text": [
      "Loading...\n",
      "Opening /media/jack/128GB_USB/NWPs/2021/09/30/202109300300_u1096_ng_umqv_Wholesale2.grib\n"
     ]
    },
    {
     "name": "stderr",
     "output_type": "stream",
     "text": [
      "Can't create file '/media/jack/128GB_USB/NWPs/2021/09/30/202109300300_u1096_ng_umqv_Wholesale2.grib.923a8.idx'\n",
      "Traceback (most recent call last):\n",
      "  File \"/home/jack/miniconda3/envs/nowcasting_dataset/lib/python3.9/site-packages/cfgrib/messages.py\", line 239, in __iter__\n",
      "    yield self.message_from_file(file, errors=self.errors)\n",
      "  File \"/home/jack/miniconda3/envs/nowcasting_dataset/lib/python3.9/site-packages/cfgrib/messages.py\", line 255, in message_from_file\n",
      "    return self.message_class.from_file(file, offset, **kwargs)\n",
      "  File \"/home/jack/miniconda3/envs/nowcasting_dataset/lib/python3.9/site-packages/cfgrib/messages.py\", line 102, in from_file\n",
      "    raise EOFError(\"End of file: %r\" % file)\n",
      "EOFError: End of file: <_io.BufferedReader name='/media/jack/128GB_USB/NWPs/2021/09/30/202109300300_u1096_ng_umqv_Wholesale2.grib'>\n",
      "\n",
      "During handling of the above exception, another exception occurred:\n",
      "\n",
      "Traceback (most recent call last):\n",
      "  File \"/home/jack/miniconda3/envs/nowcasting_dataset/lib/python3.9/site-packages/cfgrib/messages.py\", line 349, in from_indexpath_or_filestream\n",
      "    self = cls.from_filestream(filestream, index_keys)\n",
      "  File \"/home/jack/miniconda3/envs/nowcasting_dataset/lib/python3.9/site-packages/cfgrib/messages.py\", line 298, in from_filestream\n",
      "    for message in filestream:\n",
      "  File \"/home/jack/miniconda3/envs/nowcasting_dataset/lib/python3.9/site-packages/cfgrib/messages.py\", line 243, in __iter__\n",
      "    raise EOFError(\"No valid message found in file: %r\" % self.path)\n",
      "EOFError: No valid message found in file: '/media/jack/128GB_USB/NWPs/2021/09/30/202109300300_u1096_ng_umqv_Wholesale2.grib'\n",
      "Can't read index file '/media/jack/128GB_USB/NWPs/2021/09/30/202109300300_u1096_ng_umqv_Wholesale2.grib.923a8.idx'\n",
      "Traceback (most recent call last):\n",
      "  File \"/home/jack/miniconda3/envs/nowcasting_dataset/lib/python3.9/site-packages/cfgrib/messages.py\", line 358, in from_indexpath_or_filestream\n",
      "    index_mtime = os.path.getmtime(indexpath)\n",
      "  File \"/home/jack/miniconda3/envs/nowcasting_dataset/lib/python3.9/genericpath.py\", line 55, in getmtime\n",
      "    return os.stat(filename).st_mtime\n",
      "FileNotFoundError: [Errno 2] No such file or directory: '/media/jack/128GB_USB/NWPs/2021/09/30/202109300300_u1096_ng_umqv_Wholesale2.grib.923a8.idx'\n"
     ]
    },
    {
     "name": "stdout",
     "output_type": "stream",
     "text": [
      "No valid message found in file: '/media/jack/128GB_USB/NWPs/2021/09/30/202109300300_u1096_ng_umqv_Wholesale2.grib' Filesize = 0 bytes\n",
      "No valid data found for 2021-09-30 03:00:00    /media/jack/128GB_USB/NWPs/2021/09/30/20210930...\n",
      "2021-09-30 03:00:00    /media/jack/128GB_USB/NWPs/2021/09/30/20210930...\n",
      "dtype: object\n",
      "Opening /media/jack/128GB_USB/NWPs/2021/09/30/202109300600_u1096_ng_umqv_Wholesale1.grib\n"
     ]
    },
    {
     "name": "stderr",
     "output_type": "stream",
     "text": [
      "Can't create file '/media/jack/128GB_USB/NWPs/2021/09/30/202109300600_u1096_ng_umqv_Wholesale1.grib.923a8.idx'\n",
      "Traceback (most recent call last):\n",
      "  File \"/home/jack/miniconda3/envs/nowcasting_dataset/lib/python3.9/site-packages/cfgrib/messages.py\", line 239, in __iter__\n",
      "    yield self.message_from_file(file, errors=self.errors)\n",
      "  File \"/home/jack/miniconda3/envs/nowcasting_dataset/lib/python3.9/site-packages/cfgrib/messages.py\", line 255, in message_from_file\n",
      "    return self.message_class.from_file(file, offset, **kwargs)\n",
      "  File \"/home/jack/miniconda3/envs/nowcasting_dataset/lib/python3.9/site-packages/cfgrib/messages.py\", line 102, in from_file\n",
      "    raise EOFError(\"End of file: %r\" % file)\n",
      "EOFError: End of file: <_io.BufferedReader name='/media/jack/128GB_USB/NWPs/2021/09/30/202109300600_u1096_ng_umqv_Wholesale1.grib'>\n",
      "\n",
      "During handling of the above exception, another exception occurred:\n",
      "\n",
      "Traceback (most recent call last):\n",
      "  File \"/home/jack/miniconda3/envs/nowcasting_dataset/lib/python3.9/site-packages/cfgrib/messages.py\", line 349, in from_indexpath_or_filestream\n",
      "    self = cls.from_filestream(filestream, index_keys)\n",
      "  File \"/home/jack/miniconda3/envs/nowcasting_dataset/lib/python3.9/site-packages/cfgrib/messages.py\", line 298, in from_filestream\n",
      "    for message in filestream:\n",
      "  File \"/home/jack/miniconda3/envs/nowcasting_dataset/lib/python3.9/site-packages/cfgrib/messages.py\", line 243, in __iter__\n",
      "    raise EOFError(\"No valid message found in file: %r\" % self.path)\n",
      "EOFError: No valid message found in file: '/media/jack/128GB_USB/NWPs/2021/09/30/202109300600_u1096_ng_umqv_Wholesale1.grib'\n",
      "Can't read index file '/media/jack/128GB_USB/NWPs/2021/09/30/202109300600_u1096_ng_umqv_Wholesale1.grib.923a8.idx'\n",
      "Traceback (most recent call last):\n",
      "  File \"/home/jack/miniconda3/envs/nowcasting_dataset/lib/python3.9/site-packages/cfgrib/messages.py\", line 358, in from_indexpath_or_filestream\n",
      "    index_mtime = os.path.getmtime(indexpath)\n",
      "  File \"/home/jack/miniconda3/envs/nowcasting_dataset/lib/python3.9/genericpath.py\", line 55, in getmtime\n",
      "    return os.stat(filename).st_mtime\n",
      "FileNotFoundError: [Errno 2] No such file or directory: '/media/jack/128GB_USB/NWPs/2021/09/30/202109300600_u1096_ng_umqv_Wholesale1.grib.923a8.idx'\n"
     ]
    },
    {
     "name": "stdout",
     "output_type": "stream",
     "text": [
      "No valid message found in file: '/media/jack/128GB_USB/NWPs/2021/09/30/202109300600_u1096_ng_umqv_Wholesale1.grib' Filesize = 0 bytes\n",
      "No valid data found for 2021-09-30 06:00:00    /media/jack/128GB_USB/NWPs/2021/09/30/20210930...\n",
      "2021-09-30 06:00:00    /media/jack/128GB_USB/NWPs/2021/09/30/20210930...\n",
      "dtype: object\n",
      "Writing to disk...\n",
      "Merging...\n",
      "Reshaping...\n",
      "Post-processing dataset...\n",
      "Writing to disk...\n"
     ]
    }
   ],
   "source": [
    "with multiprocessing.Pool(processes=2) as pool:\n",
    "    result_iterator = pool.imap(load_grib_files_from_groupby_tuple, map_datetime_to_grib_filename.groupby(level=0))\n",
    "    print(\"After pool.imap!\", flush=True)\n",
    "    for dataset in result_iterator:\n",
    "        print(\"Got dataset from iterator!\", flush=True)\n",
    "        if dataset is None:\n",
    "            continue\n",
    "        append_to_zarr(\n",
    "            dataset, \n",
    "            #\"/home/jack/data/nwp.zarr\"\n",
    "            \"/mnt/storage_ssd/data/ocf/solar_pv_nowcasting/nowcasting_dataset_pipeline/NWP/UK_Met_Office/UKV/zarr/test.zarr\",\n",
    "        )"
   ]
  },
  {
   "cell_type": "code",
   "execution_count": 41,
   "id": "9f0de22b-6b5e-4079-8d55-6df24eee6d98",
   "metadata": {},
   "outputs": [],
   "source": [
    "#!rm -rf /home/jack/data/nwp.zarr"
   ]
  },
  {
   "cell_type": "code",
   "execution_count": 49,
   "id": "a967a032-3a23-43d4-be32-63842b911ac3",
   "metadata": {},
   "outputs": [],
   "source": [
    "#!ls -alh /home/jack/data/nwp.zarr/UKV"
   ]
  },
  {
   "cell_type": "code",
   "execution_count": 32,
   "id": "a8acaab4-cbfc-4618-8ef8-570893115179",
   "metadata": {},
   "outputs": [
    {
     "name": "stdout",
     "output_type": "stream",
     "text": [
      "<class 'pandas._libs.tslibs.timestamps.Timestamp'>\n"
     ]
    }
   ],
   "source": [
    "for group in map_datetime_to_grib_filename.groupby(level=0):\n",
    "    print(type(group[0]))\n",
    "    break"
   ]
  },
  {
   "cell_type": "markdown",
   "id": "b366603a-3421-4621-a6bb-33910956d893",
   "metadata": {},
   "source": [
    "## Load from Zarr"
   ]
  },
  {
   "cell_type": "code",
   "execution_count": 42,
   "id": "633fb9bd-da4b-4e06-acec-bc09bd41b214",
   "metadata": {},
   "outputs": [],
   "source": [
    "ds_from_zarr = xr.open_dataset(\"/home/jack/data/nwp.zarr\", engine=\"zarr\")"
   ]
  },
  {
   "cell_type": "code",
   "execution_count": 43,
   "id": "82e01ee2-c24e-44ed-a085-67cc35fbc06f",
   "metadata": {},
   "outputs": [
    {
     "data": {
      "text/html": [
       "<div><svg style=\"position: absolute; width: 0; height: 0; overflow: hidden\">\n",
       "<defs>\n",
       "<symbol id=\"icon-database\" viewBox=\"0 0 32 32\">\n",
       "<path d=\"M16 0c-8.837 0-16 2.239-16 5v4c0 2.761 7.163 5 16 5s16-2.239 16-5v-4c0-2.761-7.163-5-16-5z\"></path>\n",
       "<path d=\"M16 17c-8.837 0-16-2.239-16-5v6c0 2.761 7.163 5 16 5s16-2.239 16-5v-6c0 2.761-7.163 5-16 5z\"></path>\n",
       "<path d=\"M16 26c-8.837 0-16-2.239-16-5v6c0 2.761 7.163 5 16 5s16-2.239 16-5v-6c0 2.761-7.163 5-16 5z\"></path>\n",
       "</symbol>\n",
       "<symbol id=\"icon-file-text2\" viewBox=\"0 0 32 32\">\n",
       "<path d=\"M28.681 7.159c-0.694-0.947-1.662-2.053-2.724-3.116s-2.169-2.030-3.116-2.724c-1.612-1.182-2.393-1.319-2.841-1.319h-15.5c-1.378 0-2.5 1.121-2.5 2.5v27c0 1.378 1.122 2.5 2.5 2.5h23c1.378 0 2.5-1.122 2.5-2.5v-19.5c0-0.448-0.137-1.23-1.319-2.841zM24.543 5.457c0.959 0.959 1.712 1.825 2.268 2.543h-4.811v-4.811c0.718 0.556 1.584 1.309 2.543 2.268zM28 29.5c0 0.271-0.229 0.5-0.5 0.5h-23c-0.271 0-0.5-0.229-0.5-0.5v-27c0-0.271 0.229-0.5 0.5-0.5 0 0 15.499-0 15.5 0v7c0 0.552 0.448 1 1 1h7v19.5z\"></path>\n",
       "<path d=\"M23 26h-14c-0.552 0-1-0.448-1-1s0.448-1 1-1h14c0.552 0 1 0.448 1 1s-0.448 1-1 1z\"></path>\n",
       "<path d=\"M23 22h-14c-0.552 0-1-0.448-1-1s0.448-1 1-1h14c0.552 0 1 0.448 1 1s-0.448 1-1 1z\"></path>\n",
       "<path d=\"M23 18h-14c-0.552 0-1-0.448-1-1s0.448-1 1-1h14c0.552 0 1 0.448 1 1s-0.448 1-1 1z\"></path>\n",
       "</symbol>\n",
       "</defs>\n",
       "</svg>\n",
       "<style>/* CSS stylesheet for displaying xarray objects in jupyterlab.\n",
       " *\n",
       " */\n",
       "\n",
       ":root {\n",
       "  --xr-font-color0: var(--jp-content-font-color0, rgba(0, 0, 0, 1));\n",
       "  --xr-font-color2: var(--jp-content-font-color2, rgba(0, 0, 0, 0.54));\n",
       "  --xr-font-color3: var(--jp-content-font-color3, rgba(0, 0, 0, 0.38));\n",
       "  --xr-border-color: var(--jp-border-color2, #e0e0e0);\n",
       "  --xr-disabled-color: var(--jp-layout-color3, #bdbdbd);\n",
       "  --xr-background-color: var(--jp-layout-color0, white);\n",
       "  --xr-background-color-row-even: var(--jp-layout-color1, white);\n",
       "  --xr-background-color-row-odd: var(--jp-layout-color2, #eeeeee);\n",
       "}\n",
       "\n",
       "html[theme=dark],\n",
       "body.vscode-dark {\n",
       "  --xr-font-color0: rgba(255, 255, 255, 1);\n",
       "  --xr-font-color2: rgba(255, 255, 255, 0.54);\n",
       "  --xr-font-color3: rgba(255, 255, 255, 0.38);\n",
       "  --xr-border-color: #1F1F1F;\n",
       "  --xr-disabled-color: #515151;\n",
       "  --xr-background-color: #111111;\n",
       "  --xr-background-color-row-even: #111111;\n",
       "  --xr-background-color-row-odd: #313131;\n",
       "}\n",
       "\n",
       ".xr-wrap {\n",
       "  display: block;\n",
       "  min-width: 300px;\n",
       "  max-width: 700px;\n",
       "}\n",
       "\n",
       ".xr-text-repr-fallback {\n",
       "  /* fallback to plain text repr when CSS is not injected (untrusted notebook) */\n",
       "  display: none;\n",
       "}\n",
       "\n",
       ".xr-header {\n",
       "  padding-top: 6px;\n",
       "  padding-bottom: 6px;\n",
       "  margin-bottom: 4px;\n",
       "  border-bottom: solid 1px var(--xr-border-color);\n",
       "}\n",
       "\n",
       ".xr-header > div,\n",
       ".xr-header > ul {\n",
       "  display: inline;\n",
       "  margin-top: 0;\n",
       "  margin-bottom: 0;\n",
       "}\n",
       "\n",
       ".xr-obj-type,\n",
       ".xr-array-name {\n",
       "  margin-left: 2px;\n",
       "  margin-right: 10px;\n",
       "}\n",
       "\n",
       ".xr-obj-type {\n",
       "  color: var(--xr-font-color2);\n",
       "}\n",
       "\n",
       ".xr-sections {\n",
       "  padding-left: 0 !important;\n",
       "  display: grid;\n",
       "  grid-template-columns: 150px auto auto 1fr 20px 20px;\n",
       "}\n",
       "\n",
       ".xr-section-item {\n",
       "  display: contents;\n",
       "}\n",
       "\n",
       ".xr-section-item input {\n",
       "  display: none;\n",
       "}\n",
       "\n",
       ".xr-section-item input + label {\n",
       "  color: var(--xr-disabled-color);\n",
       "}\n",
       "\n",
       ".xr-section-item input:enabled + label {\n",
       "  cursor: pointer;\n",
       "  color: var(--xr-font-color2);\n",
       "}\n",
       "\n",
       ".xr-section-item input:enabled + label:hover {\n",
       "  color: var(--xr-font-color0);\n",
       "}\n",
       "\n",
       ".xr-section-summary {\n",
       "  grid-column: 1;\n",
       "  color: var(--xr-font-color2);\n",
       "  font-weight: 500;\n",
       "}\n",
       "\n",
       ".xr-section-summary > span {\n",
       "  display: inline-block;\n",
       "  padding-left: 0.5em;\n",
       "}\n",
       "\n",
       ".xr-section-summary-in:disabled + label {\n",
       "  color: var(--xr-font-color2);\n",
       "}\n",
       "\n",
       ".xr-section-summary-in + label:before {\n",
       "  display: inline-block;\n",
       "  content: '►';\n",
       "  font-size: 11px;\n",
       "  width: 15px;\n",
       "  text-align: center;\n",
       "}\n",
       "\n",
       ".xr-section-summary-in:disabled + label:before {\n",
       "  color: var(--xr-disabled-color);\n",
       "}\n",
       "\n",
       ".xr-section-summary-in:checked + label:before {\n",
       "  content: '▼';\n",
       "}\n",
       "\n",
       ".xr-section-summary-in:checked + label > span {\n",
       "  display: none;\n",
       "}\n",
       "\n",
       ".xr-section-summary,\n",
       ".xr-section-inline-details {\n",
       "  padding-top: 4px;\n",
       "  padding-bottom: 4px;\n",
       "}\n",
       "\n",
       ".xr-section-inline-details {\n",
       "  grid-column: 2 / -1;\n",
       "}\n",
       "\n",
       ".xr-section-details {\n",
       "  display: none;\n",
       "  grid-column: 1 / -1;\n",
       "  margin-bottom: 5px;\n",
       "}\n",
       "\n",
       ".xr-section-summary-in:checked ~ .xr-section-details {\n",
       "  display: contents;\n",
       "}\n",
       "\n",
       ".xr-array-wrap {\n",
       "  grid-column: 1 / -1;\n",
       "  display: grid;\n",
       "  grid-template-columns: 20px auto;\n",
       "}\n",
       "\n",
       ".xr-array-wrap > label {\n",
       "  grid-column: 1;\n",
       "  vertical-align: top;\n",
       "}\n",
       "\n",
       ".xr-preview {\n",
       "  color: var(--xr-font-color3);\n",
       "}\n",
       "\n",
       ".xr-array-preview,\n",
       ".xr-array-data {\n",
       "  padding: 0 5px !important;\n",
       "  grid-column: 2;\n",
       "}\n",
       "\n",
       ".xr-array-data,\n",
       ".xr-array-in:checked ~ .xr-array-preview {\n",
       "  display: none;\n",
       "}\n",
       "\n",
       ".xr-array-in:checked ~ .xr-array-data,\n",
       ".xr-array-preview {\n",
       "  display: inline-block;\n",
       "}\n",
       "\n",
       ".xr-dim-list {\n",
       "  display: inline-block !important;\n",
       "  list-style: none;\n",
       "  padding: 0 !important;\n",
       "  margin: 0;\n",
       "}\n",
       "\n",
       ".xr-dim-list li {\n",
       "  display: inline-block;\n",
       "  padding: 0;\n",
       "  margin: 0;\n",
       "}\n",
       "\n",
       ".xr-dim-list:before {\n",
       "  content: '(';\n",
       "}\n",
       "\n",
       ".xr-dim-list:after {\n",
       "  content: ')';\n",
       "}\n",
       "\n",
       ".xr-dim-list li:not(:last-child):after {\n",
       "  content: ',';\n",
       "  padding-right: 5px;\n",
       "}\n",
       "\n",
       ".xr-has-index {\n",
       "  font-weight: bold;\n",
       "}\n",
       "\n",
       ".xr-var-list,\n",
       ".xr-var-item {\n",
       "  display: contents;\n",
       "}\n",
       "\n",
       ".xr-var-item > div,\n",
       ".xr-var-item label,\n",
       ".xr-var-item > .xr-var-name span {\n",
       "  background-color: var(--xr-background-color-row-even);\n",
       "  margin-bottom: 0;\n",
       "}\n",
       "\n",
       ".xr-var-item > .xr-var-name:hover span {\n",
       "  padding-right: 5px;\n",
       "}\n",
       "\n",
       ".xr-var-list > li:nth-child(odd) > div,\n",
       ".xr-var-list > li:nth-child(odd) > label,\n",
       ".xr-var-list > li:nth-child(odd) > .xr-var-name span {\n",
       "  background-color: var(--xr-background-color-row-odd);\n",
       "}\n",
       "\n",
       ".xr-var-name {\n",
       "  grid-column: 1;\n",
       "}\n",
       "\n",
       ".xr-var-dims {\n",
       "  grid-column: 2;\n",
       "}\n",
       "\n",
       ".xr-var-dtype {\n",
       "  grid-column: 3;\n",
       "  text-align: right;\n",
       "  color: var(--xr-font-color2);\n",
       "}\n",
       "\n",
       ".xr-var-preview {\n",
       "  grid-column: 4;\n",
       "}\n",
       "\n",
       ".xr-var-name,\n",
       ".xr-var-dims,\n",
       ".xr-var-dtype,\n",
       ".xr-preview,\n",
       ".xr-attrs dt {\n",
       "  white-space: nowrap;\n",
       "  overflow: hidden;\n",
       "  text-overflow: ellipsis;\n",
       "  padding-right: 10px;\n",
       "}\n",
       "\n",
       ".xr-var-name:hover,\n",
       ".xr-var-dims:hover,\n",
       ".xr-var-dtype:hover,\n",
       ".xr-attrs dt:hover {\n",
       "  overflow: visible;\n",
       "  width: auto;\n",
       "  z-index: 1;\n",
       "}\n",
       "\n",
       ".xr-var-attrs,\n",
       ".xr-var-data {\n",
       "  display: none;\n",
       "  background-color: var(--xr-background-color) !important;\n",
       "  padding-bottom: 5px !important;\n",
       "}\n",
       "\n",
       ".xr-var-attrs-in:checked ~ .xr-var-attrs,\n",
       ".xr-var-data-in:checked ~ .xr-var-data {\n",
       "  display: block;\n",
       "}\n",
       "\n",
       ".xr-var-data > table {\n",
       "  float: right;\n",
       "}\n",
       "\n",
       ".xr-var-name span,\n",
       ".xr-var-data,\n",
       ".xr-attrs {\n",
       "  padding-left: 25px !important;\n",
       "}\n",
       "\n",
       ".xr-attrs,\n",
       ".xr-var-attrs,\n",
       ".xr-var-data {\n",
       "  grid-column: 1 / -1;\n",
       "}\n",
       "\n",
       "dl.xr-attrs {\n",
       "  padding: 0;\n",
       "  margin: 0;\n",
       "  display: grid;\n",
       "  grid-template-columns: 125px auto;\n",
       "}\n",
       "\n",
       ".xr-attrs dt,\n",
       ".xr-attrs dd {\n",
       "  padding: 0;\n",
       "  margin: 0;\n",
       "  float: left;\n",
       "  padding-right: 10px;\n",
       "  width: auto;\n",
       "}\n",
       "\n",
       ".xr-attrs dt {\n",
       "  font-weight: normal;\n",
       "  grid-column: 1;\n",
       "}\n",
       "\n",
       ".xr-attrs dt:hover span {\n",
       "  display: inline-block;\n",
       "  background: var(--xr-background-color);\n",
       "  padding-right: 10px;\n",
       "}\n",
       "\n",
       ".xr-attrs dd {\n",
       "  grid-column: 2;\n",
       "  white-space: pre-wrap;\n",
       "  word-break: break-all;\n",
       "}\n",
       "\n",
       ".xr-icon-database,\n",
       ".xr-icon-file-text2 {\n",
       "  display: inline-block;\n",
       "  vertical-align: middle;\n",
       "  width: 1em;\n",
       "  height: 1.5em !important;\n",
       "  stroke-width: 0;\n",
       "  stroke: currentColor;\n",
       "  fill: currentColor;\n",
       "}\n",
       "</style><pre class='xr-text-repr-fallback'>&lt;xarray.Dataset&gt;\n",
       "Dimensions:    (variable: 17, init_time: 7, step: 37, y: 704, x: 548)\n",
       "Coordinates:\n",
       "  * init_time  (init_time) datetime64[ns] 2016-03-22T21:00:00 ... 2021-09-30\n",
       "  * step       (step) timedelta64[ns] 00:00:00 01:00:00 ... 1 days 12:00:00\n",
       "  * variable   (variable) &lt;U6 &#x27;cdcb&#x27; &#x27;lcc&#x27; &#x27;mcc&#x27; ... &#x27;wdir10&#x27; &#x27;prmsl&#x27; &#x27;prate&#x27;\n",
       "  * x          (x) int64 -239000 -237000 -235000 ... 851000 853000 855000\n",
       "  * y          (y) int64 -183000 -181000 -179000 ... 1219000 1221000 1223000\n",
       "Data variables:\n",
       "    UKV        (variable, init_time, step, y, x) float32 ...</pre><div class='xr-wrap' hidden><div class='xr-header'><div class='xr-obj-type'>xarray.Dataset</div></div><ul class='xr-sections'><li class='xr-section-item'><input id='section-b5eedd5e-5cf3-498e-85f7-3638cd0c4cdf' class='xr-section-summary-in' type='checkbox' disabled ><label for='section-b5eedd5e-5cf3-498e-85f7-3638cd0c4cdf' class='xr-section-summary'  title='Expand/collapse section'>Dimensions:</label><div class='xr-section-inline-details'><ul class='xr-dim-list'><li><span class='xr-has-index'>variable</span>: 17</li><li><span class='xr-has-index'>init_time</span>: 7</li><li><span class='xr-has-index'>step</span>: 37</li><li><span class='xr-has-index'>y</span>: 704</li><li><span class='xr-has-index'>x</span>: 548</li></ul></div><div class='xr-section-details'></div></li><li class='xr-section-item'><input id='section-0a28c137-fdf6-40b9-b937-e06f37db99d3' class='xr-section-summary-in' type='checkbox'  checked><label for='section-0a28c137-fdf6-40b9-b937-e06f37db99d3' class='xr-section-summary' >Coordinates: <span>(5)</span></label><div class='xr-section-inline-details'></div><div class='xr-section-details'><ul class='xr-var-list'><li class='xr-var-item'><div class='xr-var-name'><span class='xr-has-index'>init_time</span></div><div class='xr-var-dims'>(init_time)</div><div class='xr-var-dtype'>datetime64[ns]</div><div class='xr-var-preview xr-preview'>2016-03-22T21:00:00 ... 2021-09-30</div><input id='attrs-7a5770f0-bd8f-4616-abab-97c544541ee6' class='xr-var-attrs-in' type='checkbox' ><label for='attrs-7a5770f0-bd8f-4616-abab-97c544541ee6' title='Show/Hide attributes'><svg class='icon xr-icon-file-text2'><use xlink:href='#icon-file-text2'></use></svg></label><input id='data-a75606e7-335d-48df-ad80-91794f0cbe91' class='xr-var-data-in' type='checkbox'><label for='data-a75606e7-335d-48df-ad80-91794f0cbe91' title='Show/Hide data repr'><svg class='icon xr-icon-database'><use xlink:href='#icon-database'></use></svg></label><div class='xr-var-attrs'><dl class='xr-attrs'><dt><span>long_name :</span></dt><dd>initial time of forecast</dd><dt><span>standard_name :</span></dt><dd>forecast_reference_time</dd></dl></div><div class='xr-var-data'><pre>array([&#x27;2016-03-22T21:00:00.000000000&#x27;, &#x27;2017-01-06T06:00:00.000000000&#x27;,\n",
       "       &#x27;2017-01-06T18:00:00.000000000&#x27;, &#x27;2018-12-31T06:00:00.000000000&#x27;,\n",
       "       &#x27;2018-12-31T18:00:00.000000000&#x27;, &#x27;2019-06-15T21:00:00.000000000&#x27;,\n",
       "       &#x27;2021-09-30T00:00:00.000000000&#x27;], dtype=&#x27;datetime64[ns]&#x27;)</pre></div></li><li class='xr-var-item'><div class='xr-var-name'><span class='xr-has-index'>step</span></div><div class='xr-var-dims'>(step)</div><div class='xr-var-dtype'>timedelta64[ns]</div><div class='xr-var-preview xr-preview'>00:00:00 ... 1 days 12:00:00</div><input id='attrs-4c7bb604-bb88-4fb3-bb24-f8cc01cec97b' class='xr-var-attrs-in' type='checkbox' ><label for='attrs-4c7bb604-bb88-4fb3-bb24-f8cc01cec97b' title='Show/Hide attributes'><svg class='icon xr-icon-file-text2'><use xlink:href='#icon-file-text2'></use></svg></label><input id='data-8121d576-8da7-46f3-acfd-08fe04fbd9cd' class='xr-var-data-in' type='checkbox'><label for='data-8121d576-8da7-46f3-acfd-08fe04fbd9cd' title='Show/Hide data repr'><svg class='icon xr-icon-database'><use xlink:href='#icon-database'></use></svg></label><div class='xr-var-attrs'><dl class='xr-attrs'><dt><span>long_name :</span></dt><dd>time since forecast_reference_time</dd><dt><span>standard_name :</span></dt><dd>forecast_period</dd></dl></div><div class='xr-var-data'><pre>array([              0,   3600000000000,   7200000000000,  10800000000000,\n",
       "        14400000000000,  18000000000000,  21600000000000,  25200000000000,\n",
       "        28800000000000,  32400000000000,  36000000000000,  39600000000000,\n",
       "        43200000000000,  46800000000000,  50400000000000,  54000000000000,\n",
       "        57600000000000,  61200000000000,  64800000000000,  68400000000000,\n",
       "        72000000000000,  75600000000000,  79200000000000,  82800000000000,\n",
       "        86400000000000,  90000000000000,  93600000000000,  97200000000000,\n",
       "       100800000000000, 104400000000000, 108000000000000, 111600000000000,\n",
       "       115200000000000, 118800000000000, 122400000000000, 126000000000000,\n",
       "       129600000000000], dtype=&#x27;timedelta64[ns]&#x27;)</pre></div></li><li class='xr-var-item'><div class='xr-var-name'><span class='xr-has-index'>variable</span></div><div class='xr-var-dims'>(variable)</div><div class='xr-var-dtype'>&lt;U6</div><div class='xr-var-preview xr-preview'>&#x27;cdcb&#x27; &#x27;lcc&#x27; ... &#x27;prmsl&#x27; &#x27;prate&#x27;</div><input id='attrs-04ed3c52-b724-4ebd-bf50-b5539c446b01' class='xr-var-attrs-in' type='checkbox' disabled><label for='attrs-04ed3c52-b724-4ebd-bf50-b5539c446b01' title='Show/Hide attributes'><svg class='icon xr-icon-file-text2'><use xlink:href='#icon-file-text2'></use></svg></label><input id='data-07ce0b17-bccf-40c3-a23b-2f6e9582c0be' class='xr-var-data-in' type='checkbox'><label for='data-07ce0b17-bccf-40c3-a23b-2f6e9582c0be' title='Show/Hide data repr'><svg class='icon xr-icon-database'><use xlink:href='#icon-database'></use></svg></label><div class='xr-var-attrs'><dl class='xr-attrs'></dl></div><div class='xr-var-data'><pre>array([&#x27;cdcb&#x27;, &#x27;lcc&#x27;, &#x27;mcc&#x27;, &#x27;hcc&#x27;, &#x27;sde&#x27;, &#x27;hcct&#x27;, &#x27;dswrf&#x27;, &#x27;dlwrf&#x27;, &#x27;h&#x27;, &#x27;t&#x27;,\n",
       "       &#x27;r&#x27;, &#x27;dpt&#x27;, &#x27;vis&#x27;, &#x27;si10&#x27;, &#x27;wdir10&#x27;, &#x27;prmsl&#x27;, &#x27;prate&#x27;], dtype=&#x27;&lt;U6&#x27;)</pre></div></li><li class='xr-var-item'><div class='xr-var-name'><span class='xr-has-index'>x</span></div><div class='xr-var-dims'>(x)</div><div class='xr-var-dtype'>int64</div><div class='xr-var-preview xr-preview'>-239000 -237000 ... 853000 855000</div><input id='attrs-2576e3a0-b9a0-4122-93f9-c77cf4976c5d' class='xr-var-attrs-in' type='checkbox' disabled><label for='attrs-2576e3a0-b9a0-4122-93f9-c77cf4976c5d' title='Show/Hide attributes'><svg class='icon xr-icon-file-text2'><use xlink:href='#icon-file-text2'></use></svg></label><input id='data-6f70e700-6872-4649-ae39-227d0780f2f5' class='xr-var-data-in' type='checkbox'><label for='data-6f70e700-6872-4649-ae39-227d0780f2f5' title='Show/Hide data repr'><svg class='icon xr-icon-database'><use xlink:href='#icon-database'></use></svg></label><div class='xr-var-attrs'><dl class='xr-attrs'></dl></div><div class='xr-var-data'><pre>array([-239000, -237000, -235000, ...,  851000,  853000,  855000])</pre></div></li><li class='xr-var-item'><div class='xr-var-name'><span class='xr-has-index'>y</span></div><div class='xr-var-dims'>(y)</div><div class='xr-var-dtype'>int64</div><div class='xr-var-preview xr-preview'>-183000 -181000 ... 1221000 1223000</div><input id='attrs-7d2484eb-41e0-4e92-838e-2c6f48b3d1a7' class='xr-var-attrs-in' type='checkbox' disabled><label for='attrs-7d2484eb-41e0-4e92-838e-2c6f48b3d1a7' title='Show/Hide attributes'><svg class='icon xr-icon-file-text2'><use xlink:href='#icon-file-text2'></use></svg></label><input id='data-4eebbb10-2ebf-4e59-8439-df3c1a899df4' class='xr-var-data-in' type='checkbox'><label for='data-4eebbb10-2ebf-4e59-8439-df3c1a899df4' title='Show/Hide data repr'><svg class='icon xr-icon-database'><use xlink:href='#icon-database'></use></svg></label><div class='xr-var-attrs'><dl class='xr-attrs'></dl></div><div class='xr-var-data'><pre>array([-183000, -181000, -179000, ..., 1219000, 1221000, 1223000])</pre></div></li></ul></div></li><li class='xr-section-item'><input id='section-b7bba462-9b1a-473c-8807-0674a11be476' class='xr-section-summary-in' type='checkbox'  checked><label for='section-b7bba462-9b1a-473c-8807-0674a11be476' class='xr-section-summary' >Data variables: <span>(1)</span></label><div class='xr-section-inline-details'></div><div class='xr-section-details'><ul class='xr-var-list'><li class='xr-var-item'><div class='xr-var-name'><span>UKV</span></div><div class='xr-var-dims'>(variable, init_time, step, y, x)</div><div class='xr-var-dtype'>float32</div><div class='xr-var-preview xr-preview'>...</div><input id='attrs-05c9a173-ec86-4c4f-93a2-11ad368d20a1' class='xr-var-attrs-in' type='checkbox' ><label for='attrs-05c9a173-ec86-4c4f-93a2-11ad368d20a1' title='Show/Hide attributes'><svg class='icon xr-icon-file-text2'><use xlink:href='#icon-file-text2'></use></svg></label><input id='data-d410483d-d6bf-49a0-8714-b26b1f6a0e4d' class='xr-var-data-in' type='checkbox'><label for='data-d410483d-d6bf-49a0-8714-b26b1f6a0e4d' title='Show/Hide data repr'><svg class='icon xr-icon-database'><use xlink:href='#icon-database'></use></svg></label><div class='xr-var-attrs'><dl class='xr-attrs'><dt><span>Conventions :</span></dt><dd>CF-1.7</dd><dt><span>GRIB_centre :</span></dt><dd>egrr</dd><dt><span>GRIB_centreDescription :</span></dt><dd>U.K. Met Office - Exeter</dd><dt><span>GRIB_edition :</span></dt><dd>2</dd><dt><span>GRIB_subCentre :</span></dt><dd>0</dd><dt><span>institution :</span></dt><dd>U.K. Met Office - Exeter</dd></dl></div><div class='xr-var-data'><pre>[1698642176 values with dtype=float32]</pre></div></li></ul></div></li><li class='xr-section-item'><input id='section-9cad873d-d11e-4991-aef2-fe4b8a03823e' class='xr-section-summary-in' type='checkbox' disabled ><label for='section-9cad873d-d11e-4991-aef2-fe4b8a03823e' class='xr-section-summary'  title='Expand/collapse section'>Attributes: <span>(0)</span></label><div class='xr-section-inline-details'></div><div class='xr-section-details'><dl class='xr-attrs'></dl></div></li></ul></div></div>"
      ],
      "text/plain": [
       "<xarray.Dataset>\n",
       "Dimensions:    (variable: 17, init_time: 7, step: 37, y: 704, x: 548)\n",
       "Coordinates:\n",
       "  * init_time  (init_time) datetime64[ns] 2016-03-22T21:00:00 ... 2021-09-30\n",
       "  * step       (step) timedelta64[ns] 00:00:00 01:00:00 ... 1 days 12:00:00\n",
       "  * variable   (variable) <U6 'cdcb' 'lcc' 'mcc' ... 'wdir10' 'prmsl' 'prate'\n",
       "  * x          (x) int64 -239000 -237000 -235000 ... 851000 853000 855000\n",
       "  * y          (y) int64 -183000 -181000 -179000 ... 1219000 1221000 1223000\n",
       "Data variables:\n",
       "    UKV        (variable, init_time, step, y, x) float32 ..."
      ]
     },
     "execution_count": 43,
     "metadata": {},
     "output_type": "execute_result"
    }
   ],
   "source": [
    "ds_from_zarr"
   ]
  },
  {
   "cell_type": "code",
   "execution_count": 46,
   "id": "3d48a95b-7b89-4ce4-8151-e5aef7a840fc",
   "metadata": {},
   "outputs": [
    {
     "data": {
      "text/plain": [
       "<matplotlib.image.AxesImage at 0x7f9fc0a52850>"
      ]
     },
     "execution_count": 46,
     "metadata": {},
     "output_type": "execute_result"
    },
    {
     "data": {
      "image/png": "[encoded data removed]",
      "text/plain": [
       "<Figure size 432x288 with 2 Axes>"
      ]
     },
     "metadata": {
      "needs_background": "light"
     },
     "output_type": "display_data"
    }
   ],
   "source": [
    "ds_from_zarr['UKV'].sel(variable='dswrf').isel(step=12, init_time=0).plot.imshow()"
   ]
  },
  {
   "cell_type": "code",
   "execution_count": 47,
   "id": "f00995ad-5c1f-41fe-87ba-7ab678258add",
   "metadata": {},
   "outputs": [
    {
     "data": {
      "text/plain": [
       "{'chunks': (17, 1, 1, 352, 274),\n",
       " 'preferred_chunks': {'variable': 17,\n",
       "  'init_time': 1,\n",
       "  'step': 1,\n",
       "  'y': 352,\n",
       "  'x': 274},\n",
       " 'compressor': Blosc(cname='zstd', clevel=5, shuffle=SHUFFLE, blocksize=0),\n",
       " 'filters': None,\n",
       " '_FillValue': nan,\n",
       " 'dtype': dtype('float32')}"
      ]
     },
     "execution_count": 47,
     "metadata": {},
     "output_type": "execute_result"
    }
   ],
   "source": [
    "ds_from_zarr['UKV'].encoding"
   ]
  },
  {
   "cell_type": "code",
   "execution_count": null,
   "id": "1e172c71-0222-47ab-a46d-f58078649962",
   "metadata": {},
   "outputs": [],
   "source": [
    "ds_from_zarr['t']"
   ]
  },
  {
   "cell_type": "code",
   "execution_count": null,
   "id": "cab8ba76-7aa3-4431-be48-1a561f56e3d4",
   "metadata": {},
   "outputs": [],
   "source": []
  }
 ],
 "metadata": {
  "kernelspec": {
   "display_name": "nowcasting_dataset",
   "language": "python",
   "name": "nowcasting_dataset"
  },
  "language_info": {
   "codemirror_mode": {
    "name": "ipython",
    "version": 3
   },
   "file_extension": ".py",
   "mimetype": "text/x-python",
   "name": "python",
   "nbconvert_exporter": "python",
   "pygments_lexer": "ipython3",
   "version": "3.9.7"
  }
 },
 "nbformat": 4,
 "nbformat_minor": 5
}
