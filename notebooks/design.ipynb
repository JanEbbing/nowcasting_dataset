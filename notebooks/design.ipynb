{
 "cells": [
  {
   "cell_type": "markdown",
   "id": "13655990-680c-4ae2-babd-de05d72b04f3",
   "metadata": {},
   "source": [
    "## How to use the library"
   ]
  },
  {
   "cell_type": "code",
   "execution_count": null,
   "id": "e6090315-4f1e-4b94-af2c-1f219745af16",
   "metadata": {},
   "outputs": [],
   "source": [
    "# This is a bit out of date!\n",
    "# See https://github.com/openclimatefix/nowcasting_dataset/issues/17\n",
    "# for a more up to date API example.\n",
    "\n",
    "dataset_params = dict(\n",
    "    n_history_timesteps=2,\n",
    "    n_forecast_timesteps=2,\n",
    "    image_size=128,\n",
    "    batch_size=8,\n",
    "    proportion_of_samples_with_pv=0.5,\n",
    "    data_sources=[\n",
    "        PVDataSource(select='all_panels_in_crop'),\n",
    "        SatelliteDataSource(channels=['HRV'], forecast=False),\n",
    "        NWPDataSource(params=['t'], single_point=True),\n",
    "    ],\n",
    "    optical_flow_predictions=True,\n",
    "    optical_flow_fields=True\n",
    ")\n",
    "\n",
    "\n",
    "training_dataset = NowcastingDataset(date_ranges=[], **dataset_params)\n",
    "validation_dataset = NowcastingDataset(date_ranges=[], **dataset_params)"
   ]
  },
  {
   "cell_type": "code",
   "execution_count": null,
   "id": "74a4304e-76b7-4d6b-a1b8-75d2fef81840",
   "metadata": {},
   "outputs": [],
   "source": []
  }
 ],
 "metadata": {
  "kernelspec": {
   "display_name": "nowcasting_dataset",
   "language": "python",
   "name": "nowcasting_dataset"
  },
  "language_info": {
   "codemirror_mode": {
    "name": "ipython",
    "version": 3
   },
   "file_extension": ".py",
   "mimetype": "text/x-python",
   "name": "python",
   "nbconvert_exporter": "python",
   "pygments_lexer": "ipython3",
   "version": "3.9.4"
  }
 },
 "nbformat": 4,
 "nbformat_minor": 5
}
