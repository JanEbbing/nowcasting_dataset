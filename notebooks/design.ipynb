{
 "cells": [
  {
   "cell_type": "markdown",
   "id": "13655990-680c-4ae2-babd-de05d72b04f3",
   "metadata": {},
   "source": [
    "## Design ambition"
   ]
  },
  {
   "cell_type": "code",
   "execution_count": null,
   "id": "e6090315-4f1e-4b94-af2c-1f219745af16",
   "metadata": {},
   "outputs": [],
   "source": [
    "HISTORY_LEN = 2\n",
    "FORECAST_LEN = 12\n",
    "IMAGE_SIZE_PIXELS = 128\n",
    "\n",
    "data_sources = [\n",
    "    PVDataSource(\n",
    "        history_len=HISTORY_LEN,\n",
    "        forecast_len=FORECAST_LEN,\n",
    "        pv_system_selection=DISJOINT_HISTORY_AND_FORECAST),\n",
    "    SatelliteDataSource(\n",
    "        history_len=HISTORY_LEN,\n",
    "        forecast_len=0,\n",
    "        image_size_pixels=int(IMAGE_SIZE_PIXELS * 1.2),\n",
    "        transform=OpticalFlow(\n",
    "            include_flow_in_example=False,\n",
    "            output_image_size_pixels=IMAGE_SIZE_PIXELS,\n",
    "            forecast_len=FORECAST_LEN)),\n",
    "    NWPDataSource(\n",
    "        history_len=HISTORY_LEN,\n",
    "        forecast_len=FORECAST_LEN,\n",
    "        image_size_pixels=1,  # Single point above PV system.\n",
    "        params=['t'])\n",
    "]\n",
    "\n",
    "\n",
    "common_dataset_params = dict(\n",
    "    batch_size=32,\n",
    "    data_sources=data_sources,\n",
    "    n_samples_per_timestep=4)\n",
    "\n",
    "self.train_dataset = NowcastingDataset(\n",
    "    t0_datetimes=train_t0_datetimes,\n",
    "    **common_dataset_params)\n",
    "\n",
    "self.val_dataset = NowcastingDataset(\n",
    "    t0_datetimes=val_t0_datetimes,\n",
    "    **common_dataset_params)\n"
   ]
  },
  {
   "cell_type": "code",
   "execution_count": null,
   "id": "d179b247-142a-49b6-af17-228d62afadee",
   "metadata": {},
   "outputs": [],
   "source": []
  }
 ],
 "metadata": {
  "kernelspec": {
   "display_name": "nowcasting_dataset",
   "language": "python",
   "name": "nowcasting_dataset"
  },
  "language_info": {
   "codemirror_mode": {
    "name": "ipython",
    "version": 3
   },
   "file_extension": ".py",
   "mimetype": "text/x-python",
   "name": "python",
   "nbconvert_exporter": "python",
   "pygments_lexer": "ipython3",
   "version": "3.9.4"
  }
 },
 "nbformat": 4,
 "nbformat_minor": 5
}
