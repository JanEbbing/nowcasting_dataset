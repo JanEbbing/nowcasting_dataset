{
 "cells": [
  {
   "cell_type": "code",
   "execution_count": 1,
   "id": "b646d669-1cfe-4f63-8df4-e1995d55cc95",
   "metadata": {},
   "outputs": [],
   "source": [
    "from nowcasting_dataset import data_sources\n",
    "from nowcasting_dataset import dataset\n",
    "import nowcasting_dataset.time as nd_time"
   ]
  },
  {
   "cell_type": "code",
   "execution_count": 2,
   "id": "fb0430bf-7df9-4da5-ba27-14b9e385aac7",
   "metadata": {},
   "outputs": [],
   "source": [
    "import torch\n",
    "from torch import nn\n",
    "import torch.nn.functional as F\n",
    "import pytorch_lightning as pl"
   ]
  },
  {
   "cell_type": "code",
   "execution_count": 3,
   "id": "b0c3c31a-86ed-493b-ab00-625fa4edb302",
   "metadata": {},
   "outputs": [],
   "source": [
    "FILENAME = 'gs://solar-pv-nowcasting-data/satellite/EUMETSAT/SEVIRI_RSS/OSGB36/all_zarr_int16_single_timestep.zarr'"
   ]
  },
  {
   "cell_type": "code",
   "execution_count": 4,
   "id": "e2331a6d-a1b6-44b2-aad9-2ca10290cd70",
   "metadata": {},
   "outputs": [],
   "source": [
    "HISTORY_LEN = 0\n",
    "FORECAST_LEN = 1\n",
    "TOTAL_SEQ_LEN = HISTORY_LEN + FORECAST_LEN + 1"
   ]
  },
  {
   "cell_type": "code",
   "execution_count": 5,
   "id": "01adc628-4823-4355-9989-01a77da89a31",
   "metadata": {},
   "outputs": [],
   "source": [
    "sat_data_source = data_sources.SatelliteDataSource(\n",
    "    filename=FILENAME,\n",
    "    consolidated=False,\n",
    "    channels=('HRV',),\n",
    "    image_size_pixels=128,\n",
    "    history_len=HISTORY_LEN,\n",
    "    forecast_len=FORECAST_LEN\n",
    ")"
   ]
  },
  {
   "cell_type": "code",
   "execution_count": 6,
   "id": "dcfe5cd3-42cd-452d-992b-48ec3740325a",
   "metadata": {},
   "outputs": [
    {
     "name": "stdout",
     "output_type": "stream",
     "text": [
      "CPU times: user 1.82 s, sys: 105 ms, total: 1.92 s\n",
      "Wall time: 4.13 s\n"
     ]
    }
   ],
   "source": [
    "%%time\n",
    "t0_datetimes = nd_time.get_t0_datetimes(\n",
    "    sat_data_source.datetime_index(),\n",
    "    total_seq_len=TOTAL_SEQ_LEN,\n",
    "    history_len=HISTORY_LEN)"
   ]
  },
  {
   "cell_type": "code",
   "execution_count": 7,
   "id": "a4266ba0-9319-460e-85c6-043ab6036853",
   "metadata": {},
   "outputs": [
    {
     "data": {
      "text/plain": [
       "162789"
      ]
     },
     "execution_count": 7,
     "metadata": {},
     "output_type": "execute_result"
    }
   ],
   "source": [
    "len(t0_datetimes)"
   ]
  },
  {
   "cell_type": "code",
   "execution_count": 8,
   "id": "534eef92-edf8-4072-898d-e1ab43292b7d",
   "metadata": {},
   "outputs": [],
   "source": [
    "ds = dataset.NowcastingDataset(\n",
    "    batch_size=32,\n",
    "    n_samples_per_timestep=4,\n",
    "    data_sources=[sat_data_source],\n",
    "    t0_datetimes=t0_datetimes)"
   ]
  },
  {
   "cell_type": "code",
   "execution_count": 9,
   "id": "93515c8f-5574-49b4-af62-bae4b192ad34",
   "metadata": {},
   "outputs": [],
   "source": [
    "dataloader = torch.utils.data.DataLoader(\n",
    "    ds,\n",
    "    pin_memory=True,\n",
    "    num_workers=16,\n",
    "    worker_init_fn=dataset.worker_init_fn,\n",
    "    prefetch_factor=256,\n",
    "    batch_size=None,\n",
    "    batch_sampler=None)"
   ]
  },
  {
   "cell_type": "markdown",
   "id": "c9cee088-d110-4e7f-a917-2ab3acaa5eff",
   "metadata": {},
   "source": [
    "## Define very simple ML model"
   ]
  },
  {
   "cell_type": "code",
   "execution_count": 10,
   "id": "2984ce1d-1655-41b2-b6d9-5d439e26806c",
   "metadata": {},
   "outputs": [],
   "source": [
    "def normalise_images_in_model(images, device):    \n",
    "    SAT_IMAGE_MEAN = torch.tensor(93.23458, dtype=torch.float, device=device)\n",
    "    SAT_IMAGE_STD = torch.tensor(115.34247, dtype=torch.float, device=device)\n",
    "    \n",
    "    images = images.float()\n",
    "    images -= SAT_IMAGE_MEAN\n",
    "    images /= SAT_IMAGE_STD\n",
    "    return images"
   ]
  },
  {
   "cell_type": "code",
   "execution_count": 11,
   "id": "26cfd2b8-8d2e-4823-b558-cc7c900f1a17",
   "metadata": {},
   "outputs": [],
   "source": [
    "CHANNELS = 32\n",
    "KERNEL = 3\n",
    "\n",
    "\n",
    "class LitAutoEncoder(pl.LightningModule):\n",
    "    def __init__(\n",
    "        self,\n",
    "        history_len: int=1\n",
    "    ):\n",
    "        super().__init__()\n",
    "        self.history_len = history_len\n",
    "        \n",
    "        self.encoder_conv1 = nn.Conv2d(in_channels=1, out_channels=CHANNELS//2, kernel_size=KERNEL)\n",
    "        self.encoder_conv2 = nn.Conv2d(in_channels=CHANNELS//2, out_channels=CHANNELS, kernel_size=KERNEL)\n",
    "        self.encoder_conv3 = nn.Conv2d(in_channels=CHANNELS, out_channels=CHANNELS, kernel_size=KERNEL)\n",
    "\n",
    "        self.maxpool = nn.MaxPool2d(kernel_size=KERNEL)\n",
    "        \n",
    "        self.fc1 = nn.Linear(\n",
    "            in_features=CHANNELS * 11 * 11, \n",
    "            out_features=256  # Minus 2 (2 for the NWP temperature above the PV system)\n",
    "        )\n",
    "        self.fc2 = nn.Linear(in_features=256, out_features=128)\n",
    "        self.fc3 = nn.Linear(in_features=128, out_features=128)\n",
    "        self.fc4 = nn.Linear(in_features=128, out_features=128)\n",
    "        self.fc5 = nn.Linear(in_features=128, out_features=1)\n",
    "\n",
    "        \n",
    "    def forward(self, x):\n",
    "        images = x['sat_data'][:, self.history_len:, :, :, 0]\n",
    "        images = normalise_images_in_model(images, self.device)\n",
    "        \n",
    "        # Pass data through the network :)\n",
    "        out = F.relu(self.encoder_conv1(images))\n",
    "        out = self.maxpool(out)\n",
    "        out = F.relu(self.encoder_conv2(out))\n",
    "        out = self.maxpool(out)\n",
    "        out = F.relu(self.encoder_conv3(out))\n",
    "        \n",
    "        out = out.view(-1, CHANNELS * 11 * 11)\n",
    "        out = F.relu(self.fc1(out))\n",
    "        \n",
    "        out = torch.cat(\n",
    "            (\n",
    "                out, \n",
    "                #(x['nwp_above_pv'][:, 0] - 130) / 5,  # TODO fix horrible standardisation of temperature!\n",
    "            ), dim=1)\n",
    "\n",
    "        out = F.relu(self.fc2(out))\n",
    "        out = F.relu(self.fc3(out))\n",
    "        out = F.relu(self.fc4(out))\n",
    "        out = self.fc5(out)\n",
    "\n",
    "        return out\n",
    "    \n",
    "    def _training_or_validation_step(self, batch, is_train_step):\n",
    "        y_hat = self(batch)\n",
    "        #y = batch['pv_yield'][:, self.history_len:]\n",
    "        y = torch.rand((32, 1), device=self.device)\n",
    "        #mse_loss = F.mse_loss(y_hat, y)\n",
    "        mae_loss = (y_hat - y).abs().mean()\n",
    "        tag = \"Train\" if is_train_step else \"Validation\"\n",
    "        #self.log_dict({'MSE/' + tag: mse_loss}, on_step=is_train_step, on_epoch=True)\n",
    "        self.log_dict({'MAE/' + tag: mae_loss}, on_step=is_train_step, on_epoch=True)\n",
    "        return mae_loss\n",
    "\n",
    "    def training_step(self, batch, batch_idx):\n",
    "        return self._training_or_validation_step(batch, is_train_step=True)\n",
    "    \n",
    "    def validation_step(self, batch, batch_idx):\n",
    "        return self._training_or_validation_step(batch, is_train_step=False)\n",
    "\n",
    "    def configure_optimizers(self):\n",
    "        optimizer = torch.optim.Adam(self.parameters(), lr=0.001)\n",
    "        return optimizer"
   ]
  },
  {
   "cell_type": "code",
   "execution_count": 12,
   "id": "eee05878-ad3e-46a9-9719-37eab1505997",
   "metadata": {},
   "outputs": [],
   "source": [
    "model = LitAutoEncoder()"
   ]
  },
  {
   "cell_type": "code",
   "execution_count": 13,
   "id": "d53ba3d3-e9a9-4948-829f-b6b2a6199d54",
   "metadata": {},
   "outputs": [
    {
     "name": "stderr",
     "output_type": "stream",
     "text": [
      "GPU available: True, used: True\n",
      "TPU available: False, using: 0 TPU cores\n"
     ]
    }
   ],
   "source": [
    "trainer = pl.Trainer(gpus=1)"
   ]
  },
  {
   "cell_type": "code",
   "execution_count": null,
   "id": "3eb05006-b2df-426c-a775-e41402abf7b0",
   "metadata": {},
   "outputs": [
    {
     "name": "stderr",
     "output_type": "stream",
     "text": [
      "/home/jack/miniconda3/envs/nowcasting_dataset/lib/python3.9/site-packages/pytorch_lightning/utilities/distributed.py:69: UserWarning: you defined a validation_step but have no val_dataloader. Skipping val loop\n",
      "  warnings.warn(*args, **kwargs)\n",
      "LOCAL_RANK: 0 - CUDA_VISIBLE_DEVICES: [0]\n",
      "\n",
      "  | Name          | Type      | Params\n",
      "--------------------------------------------\n",
      "0 | encoder_conv1 | Conv2d    | 160   \n",
      "1 | encoder_conv2 | Conv2d    | 4.6 K \n",
      "2 | encoder_conv3 | Conv2d    | 9.2 K \n",
      "3 | maxpool       | MaxPool2d | 0     \n",
      "4 | fc1           | Linear    | 991 K \n",
      "5 | fc2           | Linear    | 32.9 K\n",
      "6 | fc3           | Linear    | 16.5 K\n",
      "7 | fc4           | Linear    | 16.5 K\n",
      "8 | fc5           | Linear    | 129   \n",
      "--------------------------------------------\n",
      "1.1 M     Trainable params\n",
      "0         Non-trainable params\n",
      "1.1 M     Total params\n",
      "4.286     Total estimated model params size (MB)\n"
     ]
    },
    {
     "name": "stdout",
     "output_type": "stream",
     "text": [
      "Epoch 0: : 0it [00:00, ?it/s]              "
     ]
    },
    {
     "name": "stderr",
     "output_type": "stream",
     "text": [
      "Exception ignored in: <finalize object at 0x7f9120c0a700; dead>\n",
      "Traceback (most recent call last):\n",
      "  File \"/home/jack/miniconda3/envs/nowcasting_dataset/lib/python3.9/weakref.py\", line 580, in __call__\n",
      "    return info.func(*info.args, **(info.kwargs or {}))\n",
      "  File \"/home/jack/miniconda3/envs/nowcasting_dataset/lib/python3.9/site-packages/gcsfs/core.py\", line 245, in close_session\n",
      "    sync(loop, session.close, timeout=0.1)\n",
      "  File \"/home/jack/miniconda3/envs/nowcasting_dataset/lib/python3.9/site-packages/fsspec/asyn.py\", line 63, in sync\n",
      "    raise FSTimeoutError\n",
      "fsspec.exceptions.FSTimeoutError: \n",
      "Exception ignored in: <finalize object at 0x7f9120c0a700; dead>\n",
      "Traceback (most recent call last):\n",
      "  File \"/home/jack/miniconda3/envs/nowcasting_dataset/lib/python3.9/weakref.py\", line 580, in __call__\n",
      "    return info.func(*info.args, **(info.kwargs or {}))\n",
      "  File \"/home/jack/miniconda3/envs/nowcasting_dataset/lib/python3.9/site-packages/gcsfs/core.py\", line 245, in close_session\n",
      "    sync(loop, session.close, timeout=0.1)\n",
      "  File \"/home/jack/miniconda3/envs/nowcasting_dataset/lib/python3.9/site-packages/fsspec/asyn.py\", line 63, in sync\n",
      "    raise FSTimeoutError\n",
      "fsspec.exceptions.FSTimeoutError: \n",
      "Exception ignored in: <finalize object at 0x7f9120c0a700; dead>Exception ignored in: \n",
      "<finalize object at 0x7f9120c0a700; dead>Traceback (most recent call last):\n",
      "  File \"/home/jack/miniconda3/envs/nowcasting_dataset/lib/python3.9/weakref.py\", line 580, in __call__\n",
      "\n",
      "Traceback (most recent call last):\n",
      "      File \"/home/jack/miniconda3/envs/nowcasting_dataset/lib/python3.9/weakref.py\", line 580, in __call__\n",
      "return info.func(*info.args, **(info.kwargs or {}))\n",
      "    return info.func(*info.args, **(info.kwargs or {}))  File \"/home/jack/miniconda3/envs/nowcasting_dataset/lib/python3.9/site-packages/gcsfs/core.py\", line 245, in close_session\n",
      "\n",
      "      File \"/home/jack/miniconda3/envs/nowcasting_dataset/lib/python3.9/site-packages/gcsfs/core.py\", line 245, in close_session\n",
      "sync(loop, session.close, timeout=0.1)\n",
      "      File \"/home/jack/miniconda3/envs/nowcasting_dataset/lib/python3.9/site-packages/fsspec/asyn.py\", line 63, in sync\n",
      "sync(loop, session.close, timeout=0.1)    \n",
      "raise FSTimeoutError  File \"/home/jack/miniconda3/envs/nowcasting_dataset/lib/python3.9/site-packages/fsspec/asyn.py\", line 63, in sync\n",
      "\n",
      "    fsspec.exceptionsraise FSTimeoutError.\n",
      "FSTimeoutErrorfsspec.exceptions: .\n",
      "FSTimeoutError: \n",
      "Exception ignored in: <finalize object at 0x7f9120c0a700; dead>\n",
      "Traceback (most recent call last):\n",
      "  File \"/home/jack/miniconda3/envs/nowcasting_dataset/lib/python3.9/weakref.py\", line 580, in __call__\n",
      "    return info.func(*info.args, **(info.kwargs or {}))\n",
      "  File \"/home/jack/miniconda3/envs/nowcasting_dataset/lib/python3.9/site-packages/gcsfs/core.py\", line 245, in close_session\n",
      "    sync(loop, session.close, timeout=0.1)\n",
      "  File \"/home/jack/miniconda3/envs/nowcasting_dataset/lib/python3.9/site-packages/fsspec/asyn.py\", line 63, in sync\n",
      "    raise FSTimeoutError\n",
      "fsspec.exceptions.FSTimeoutError: \n",
      "Exception ignored in: <finalize object at 0x7f9120c0a700; dead>\n",
      "Traceback (most recent call last):\n",
      "  File \"/home/jack/miniconda3/envs/nowcasting_dataset/lib/python3.9/weakref.py\", line 580, in __call__\n",
      "    return info.func(*info.args, **(info.kwargs or {}))\n",
      "  File \"/home/jack/miniconda3/envs/nowcasting_dataset/lib/python3.9/site-packages/gcsfs/core.py\", line 245, in close_session\n",
      "    sync(loop, session.close, timeout=0.1)\n",
      "  File \"/home/jack/miniconda3/envs/nowcasting_dataset/lib/python3.9/site-packages/fsspec/asyn.py\", line 63, in sync\n",
      "    raise FSTimeoutError\n",
      "fsspec.exceptions.FSTimeoutError: \n",
      "Exception ignored in: <finalize object at 0x7f9120c0a700; dead>\n",
      "Traceback (most recent call last):\n",
      "  File \"/home/jack/miniconda3/envs/nowcasting_dataset/lib/python3.9/weakref.py\", line 580, in __call__\n",
      "    return info.func(*info.args, **(info.kwargs or {}))\n",
      "  File \"/home/jack/miniconda3/envs/nowcasting_dataset/lib/python3.9/site-packages/gcsfs/core.py\", line 245, in close_session\n",
      "    sync(loop, session.close, timeout=0.1)\n",
      "  File \"/home/jack/miniconda3/envs/nowcasting_dataset/lib/python3.9/site-packages/fsspec/asyn.py\", line 63, in sync\n",
      "    raise FSTimeoutError\n",
      "fsspec.exceptions.FSTimeoutError: \n",
      "Exception ignored in: <finalize object at 0x7f9120c0a700; dead>\n",
      "Traceback (most recent call last):\n",
      "  File \"/home/jack/miniconda3/envs/nowcasting_dataset/lib/python3.9/weakref.py\", line 580, in __call__\n",
      "    return info.func(*info.args, **(info.kwargs or {}))\n",
      "  File \"/home/jack/miniconda3/envs/nowcasting_dataset/lib/python3.9/site-packages/gcsfs/core.py\", line 245, in close_session\n",
      "    sync(loop, session.close, timeout=0.1)\n",
      "  File \"/home/jack/miniconda3/envs/nowcasting_dataset/lib/python3.9/site-packages/fsspec/asyn.py\", line 63, in sync\n",
      "    raise FSTimeoutError\n",
      "fsspec.exceptions.FSTimeoutError: \n",
      "Exception ignored in: <finalize object at 0x7f9120c0a700; dead>\n",
      "Traceback (most recent call last):\n",
      "  File \"/home/jack/miniconda3/envs/nowcasting_dataset/lib/python3.9/weakref.py\", line 580, in __call__\n",
      "    return info.func(*info.args, **(info.kwargs or {}))Exception ignored in: \n",
      "<finalize object at 0x7f9120c0a700; dead>  File \"/home/jack/miniconda3/envs/nowcasting_dataset/lib/python3.9/site-packages/gcsfs/core.py\", line 245, in close_session\n",
      "\n",
      "    Traceback (most recent call last):\n",
      "sync(loop, session.close, timeout=0.1)  File \"/home/jack/miniconda3/envs/nowcasting_dataset/lib/python3.9/weakref.py\", line 580, in __call__\n",
      "\n",
      "  File \"/home/jack/miniconda3/envs/nowcasting_dataset/lib/python3.9/site-packages/fsspec/asyn.py\", line 63, in sync\n",
      "    return info.func(*info.args, **(info.kwargs or {}))    \n",
      "raise FSTimeoutError\n",
      "  File \"/home/jack/miniconda3/envs/nowcasting_dataset/lib/python3.9/site-packages/gcsfs/core.py\", line 245, in close_session\n",
      "fsspec.exceptions    sync(loop, session.close, timeout=0.1).\n",
      "FSTimeoutError  File \"/home/jack/miniconda3/envs/nowcasting_dataset/lib/python3.9/site-packages/fsspec/asyn.py\", line 63, in sync\n",
      ":     Exception ignored in: \n",
      "<finalize object at 0x7f9120c0a700; dead>raise FSTimeoutError\n",
      "\n",
      "Traceback (most recent call last):\n",
      "fsspec.exceptions  File \"/home/jack/miniconda3/envs/nowcasting_dataset/lib/python3.9/weakref.py\", line 580, in __call__\n",
      ".    FSTimeoutErrorreturn info.func(*info.args, **(info.kwargs or {})): \n",
      "\n",
      "  File \"/home/jack/miniconda3/envs/nowcasting_dataset/lib/python3.9/site-packages/gcsfs/core.py\", line 245, in close_session\n",
      "    sync(loop, session.close, timeout=0.1)\n",
      "  File \"/home/jack/miniconda3/envs/nowcasting_dataset/lib/python3.9/site-packages/fsspec/asyn.py\", line 63, in sync\n",
      "    raise FSTimeoutError\n",
      "fsspec.exceptions.FSTimeoutError: \n",
      "Exception ignored in: <finalize object at 0x7f9120c0a700; dead>\n",
      "Traceback (most recent call last):\n",
      "  File \"/home/jack/miniconda3/envs/nowcasting_dataset/lib/python3.9/weakref.py\", line 580, in __call__\n",
      "    return info.func(*info.args, **(info.kwargs or {}))\n",
      "  File \"/home/jack/miniconda3/envs/nowcasting_dataset/lib/python3.9/site-packages/gcsfs/core.py\", line 245, in close_session\n",
      "    sync(loop, session.close, timeout=0.1)\n",
      "  File \"/home/jack/miniconda3/envs/nowcasting_dataset/lib/python3.9/site-packages/fsspec/asyn.py\", line 63, in sync\n",
      "    raise FSTimeoutError\n",
      "fsspec.exceptions.FSTimeoutError: \n",
      "Exception ignored in: Exception ignored in: <finalize object at 0x7f9120c0a700; dead><finalize object at 0x7f9120c0a700; dead>\n",
      "\n",
      "Traceback (most recent call last):\n",
      "Traceback (most recent call last):\n",
      "  File \"/home/jack/miniconda3/envs/nowcasting_dataset/lib/python3.9/weakref.py\", line 580, in __call__\n",
      "  File \"/home/jack/miniconda3/envs/nowcasting_dataset/lib/python3.9/weakref.py\", line 580, in __call__\n",
      "        return info.func(*info.args, **(info.kwargs or {}))\n",
      "return info.func(*info.args, **(info.kwargs or {}))  File \"/home/jack/miniconda3/envs/nowcasting_dataset/lib/python3.9/site-packages/gcsfs/core.py\", line 245, in close_session\n",
      "\n",
      "  File \"/home/jack/miniconda3/envs/nowcasting_dataset/lib/python3.9/site-packages/gcsfs/core.py\", line 245, in close_session\n",
      "        sync(loop, session.close, timeout=0.1)sync(loop, session.close, timeout=0.1)\n",
      "\n",
      "  File \"/home/jack/miniconda3/envs/nowcasting_dataset/lib/python3.9/site-packages/fsspec/asyn.py\", line 63, in sync\n",
      "  File \"/home/jack/miniconda3/envs/nowcasting_dataset/lib/python3.9/site-packages/fsspec/asyn.py\", line 63, in sync\n",
      "        raise FSTimeoutErrorraise FSTimeoutError\n",
      "\n",
      "fsspec.exceptionsfsspec.exceptions.FSTimeoutError.FSTimeoutError: : \n",
      "\n",
      "Exception ignored in: <finalize object at 0x7f9120c0a700; dead>\n",
      "Traceback (most recent call last):\n",
      "  File \"/home/jack/miniconda3/envs/nowcasting_dataset/lib/python3.9/weakref.py\", line 580, in __call__\n",
      "    return info.func(*info.args, **(info.kwargs or {}))\n",
      "  File \"/home/jack/miniconda3/envs/nowcasting_dataset/lib/python3.9/site-packages/gcsfs/core.py\", line 245, in close_session\n",
      "    sync(loop, session.close, timeout=0.1)\n",
      "  File \"/home/jack/miniconda3/envs/nowcasting_dataset/lib/python3.9/site-packages/fsspec/asyn.py\", line 63, in sync\n",
      "    raise FSTimeoutError\n",
      "fsspec.exceptionsException ignored in: .FSTimeoutError<finalize object at 0x7f9120c0a700; dead>: \n",
      "\n",
      "Traceback (most recent call last):\n",
      "  File \"/home/jack/miniconda3/envs/nowcasting_dataset/lib/python3.9/weakref.py\", line 580, in __call__\n",
      "    return info.func(*info.args, **(info.kwargs or {}))\n",
      "  File \"/home/jack/miniconda3/envs/nowcasting_dataset/lib/python3.9/site-packages/gcsfs/core.py\", line 245, in close_session\n",
      "    sync(loop, session.close, timeout=0.1)\n",
      "  File \"/home/jack/miniconda3/envs/nowcasting_dataset/lib/python3.9/site-packages/fsspec/asyn.py\", line 63, in sync\n",
      "    raise FSTimeoutError\n",
      "fsspec.exceptions.FSTimeoutError: \n"
     ]
    },
    {
     "name": "stdout",
     "output_type": "stream",
     "text": [
      "Epoch 0: : 5it [00:07,  1.51s/it, loss=0.468, v_num=77]"
     ]
    },
    {
     "name": "stderr",
     "output_type": "stream",
     "text": [
      "/home/jack/miniconda3/envs/nowcasting_dataset/lib/python3.9/site-packages/torch/nn/functional.py:718: UserWarning: Named tensors and all their associated APIs are an experimental feature and subject to change. Please do not use them for anything important until they are released as stable. (Triggered internally at  /opt/conda/conda-bld/pytorch_1623448255797/work/c10/core/TensorImpl.h:1156.)\n",
      "  return torch.max_pool2d(input, kernel_size, stride, padding, dilation, ceil_mode)\n"
     ]
    },
    {
     "name": "stdout",
     "output_type": "stream",
     "text": [
      "Epoch 0: : 4753it [03:03, 25.87it/s, loss=0.244, v_num=77]"
     ]
    }
   ],
   "source": [
    "trainer.fit(model, train_dataloader=dataloader)"
   ]
  },
  {
   "cell_type": "code",
   "execution_count": null,
   "id": "865bf466-8d1b-4b21-93d9-647cb388ac14",
   "metadata": {},
   "outputs": [],
   "source": []
  }
 ],
 "metadata": {
  "kernelspec": {
   "display_name": "nowcasting_dataset",
   "language": "python",
   "name": "nowcasting_dataset"
  },
  "language_info": {
   "codemirror_mode": {
    "name": "ipython",
    "version": 3
   },
   "file_extension": ".py",
   "mimetype": "text/x-python",
   "name": "python",
   "nbconvert_exporter": "python",
   "pygments_lexer": "ipython3",
   "version": "3.9.5"
  }
 },
 "nbformat": 4,
 "nbformat_minor": 5
}
