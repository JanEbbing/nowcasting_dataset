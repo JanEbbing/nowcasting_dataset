{
 "cells": [
  {
   "cell_type": "code",
   "execution_count": 1,
   "id": "0d39c43a-afae-4a54-b1ea-eb48f00f10ae",
   "metadata": {},
   "outputs": [],
   "source": [
    "from pathlib import Path\n",
    "import pandas as pd"
   ]
  },
  {
   "cell_type": "code",
   "execution_count": 2,
   "id": "41dcea91-eaab-4e46-ba83-fada36357067",
   "metadata": {},
   "outputs": [],
   "source": [
    "EUMETSAT_PATH = Path(\"/mnt/storage_a/data/ocf/solar_pv_nowcasting/nowcasting_dataset_pipeline/satellite/EUMETSAT/SEVIRI_RSS/native/\")"
   ]
  },
  {
   "cell_type": "markdown",
   "id": "2d98a0b4-e6dc-44d4-917b-fdc868303a6e",
   "metadata": {},
   "source": [
    "## Delete `.nat` files if a `.bz2` file already exists:"
   ]
  },
  {
   "cell_type": "code",
   "execution_count": 38,
   "id": "9a417012-d7b3-492b-bd15-aeaafb5e04e4",
   "metadata": {},
   "outputs": [
    {
     "name": "stdout",
     "output_type": "stream",
     "text": [
      "CPU times: user 249 ms, sys: 131 ms, total: 380 ms\n",
      "Wall time: 1.04 s\n"
     ]
    }
   ],
   "source": [
    "%%time\n",
    "nat_filenames = list(EUMETSAT_PATH.glob('*/*/*/*.nat'))"
   ]
  },
  {
   "cell_type": "code",
   "execution_count": 40,
   "id": "fb5fd181-4f96-4452-8902-2ed0cf06fdbf",
   "metadata": {},
   "outputs": [
    {
     "name": "stdout",
     "output_type": "stream",
     "text": [
      "Deleting /mnt/storage_a/data/ocf/solar_pv_nowcasting/nowcasting_dataset_pipeline/satellite/EUMETSAT/SEVIRI_RSS/native/2019/06/01/MSG3-SEVI-MSG15-0100-NA-20190601124416.900000000Z-20190601124434-1358336-1.nat\n",
      "Deleting /mnt/storage_a/data/ocf/solar_pv_nowcasting/nowcasting_dataset_pipeline/satellite/EUMETSAT/SEVIRI_RSS/native/2019/06/01/MSG3-SEVI-MSG15-0100-NA-20190601124916.989000000Z-20190601124935-1358336-1.nat\n",
      "Deleting /mnt/storage_a/data/ocf/solar_pv_nowcasting/nowcasting_dataset_pipeline/satellite/EUMETSAT/SEVIRI_RSS/native/2019/06/01/MSG3-SEVI-MSG15-0100-NA-20190601125417.078000000Z-20190601125504-1358336-1.nat\n",
      "Deleting /mnt/storage_a/data/ocf/solar_pv_nowcasting/nowcasting_dataset_pipeline/satellite/EUMETSAT/SEVIRI_RSS/native/2019/06/01/MSG3-SEVI-MSG15-0100-NA-20190601125917.167000000Z-20190601125935-1358336-1.nat\n",
      "Deleting /mnt/storage_a/data/ocf/solar_pv_nowcasting/nowcasting_dataset_pipeline/satellite/EUMETSAT/SEVIRI_RSS/native/2019/06/01/MSG3-SEVI-MSG15-0100-NA-20190601122416.544000000Z-20190601122433-1358336-1.nat\n",
      "Deleting /mnt/storage_a/data/ocf/solar_pv_nowcasting/nowcasting_dataset_pipeline/satellite/EUMETSAT/SEVIRI_RSS/native/2019/06/01/MSG3-SEVI-MSG15-0100-NA-20190601120416.190000000Z-20190601120433-1358336-1.nat\n",
      "Deleting /mnt/storage_a/data/ocf/solar_pv_nowcasting/nowcasting_dataset_pipeline/satellite/EUMETSAT/SEVIRI_RSS/native/2019/06/01/MSG3-SEVI-MSG15-0100-NA-20190601121916.456000000Z-20190601121934-1358336-1.nat\n",
      "Deleting /mnt/storage_a/data/ocf/solar_pv_nowcasting/nowcasting_dataset_pipeline/satellite/EUMETSAT/SEVIRI_RSS/native/2019/06/01/MSG3-SEVI-MSG15-0100-NA-20190601121416.367000000Z-20190601121434-1358336-1.nat\n",
      "Deleting /mnt/storage_a/data/ocf/solar_pv_nowcasting/nowcasting_dataset_pipeline/satellite/EUMETSAT/SEVIRI_RSS/native/2019/06/01/MSG3-SEVI-MSG15-0100-NA-20190601120916.279000000Z-20190601120933-1358336-1.nat\n",
      "Deleting /mnt/storage_a/data/ocf/solar_pv_nowcasting/nowcasting_dataset_pipeline/satellite/EUMETSAT/SEVIRI_RSS/native/2019/06/01/MSG3-SEVI-MSG15-0100-NA-20190601122916.633000000Z-20190601122934-1358336-1.nat\n",
      "Deleting /mnt/storage_a/data/ocf/solar_pv_nowcasting/nowcasting_dataset_pipeline/satellite/EUMETSAT/SEVIRI_RSS/native/2019/06/01/MSG3-SEVI-MSG15-0100-NA-20190601123916.811000000Z-20190601123935-1358336-1.nat\n",
      "Deleting /mnt/storage_a/data/ocf/solar_pv_nowcasting/nowcasting_dataset_pipeline/satellite/EUMETSAT/SEVIRI_RSS/native/2019/06/01/MSG3-SEVI-MSG15-0100-NA-20190601123416.722000000Z-20190601123434-1358336-1.nat\n",
      "Deleting /mnt/storage_a/data/ocf/solar_pv_nowcasting/nowcasting_dataset_pipeline/satellite/EUMETSAT/SEVIRI_RSS/native/2019/01/01/MSG3-SEVI-MSG15-0100-NA-20190101120416.383000000Z-20190101120434-1353166-1.nat\n"
     ]
    }
   ],
   "source": [
    "for nat_filename in nat_filenames:\n",
    "    bz2_filename = nat_filename.with_suffix(nat_filename.suffix + '.bz2')\n",
    "    if bz2_filename.exists():\n",
    "        print(f'Deleting {nat_filename}')\n",
    "        nat_filename.unlink()"
   ]
  },
  {
   "cell_type": "code",
   "execution_count": 43,
   "id": "3e168aff-149c-4105-9235-34beec84c204",
   "metadata": {},
   "outputs": [
    {
     "name": "stdout",
     "output_type": "stream",
     "text": [
      "0 nat filenames exist.\n"
     ]
    }
   ],
   "source": [
    "nat_filenames = list(EUMETSAT_PATH.glob('*/*/*/*.nat'))\n",
    "print(f'{len(nat_filenames)} nat filenames exist.')"
   ]
  },
  {
   "cell_type": "markdown",
   "id": "7f5c4557-a6d1-4408-9526-e40b0320755f",
   "metadata": {},
   "source": [
    "## Remove duplicate `.nat.bz2` files, when we accidentally ordered the same datetime twice"
   ]
  },
  {
   "cell_type": "code",
   "execution_count": 7,
   "id": "282efecb-6470-4eaa-a4b0-7fb6db7827b2",
   "metadata": {},
   "outputs": [],
   "source": [
    "def find_duplicate_files(year_month_day_directory: Path) -> list[Path]:\n",
    "    files_for_day = [x for x in year_month_day_directory.glob('*.nat.bz2')]\n",
    "    files_for_day = [x.name.replace('.nat.bz2', '') for x in files_for_day]\n",
    "    \n",
    "    # Split the filenames into <filename_without_order_number>, <order_number>\n",
    "    split_filenames = [x.split('-') for x in files_for_day]\n",
    "    filenames_without_order_number = ['-'.join(split_filename[:7]) for split_filename in split_filenames]\n",
    "    order_numbers = ['-'.join(split_filename[7:]) for split_filename in split_filenames]\n",
    "    df = pd.DataFrame(\n",
    "        {\n",
    "            'filename_without_order_number': filenames_without_order_number,\n",
    "            'order_number': order_numbers,\n",
    "        },\n",
    "    )\n",
    "    df = df.sort_values(by=['filename_without_order_number', 'order_number'])\n",
    "    \n",
    "    # Find duplicate filenames_without_order_number\n",
    "    dupe_mask = df.filename_without_order_number.duplicated(keep='last')\n",
    "    rows_to_delete = df[dupe_mask]\n",
    "    filenames_to_delete = ['-'.join(row.values) for _, row in rows_to_delete.iterrows()]\n",
    "    filenames_to_delete = [x + '.nat.bz2' for x in filenames_to_delete]\n",
    "    filenames_to_delete = [year_month_day_directory / x for x in filenames_to_delete]\n",
    "    \n",
    "    return filenames_to_delete"
   ]
  },
  {
   "cell_type": "code",
   "execution_count": 14,
   "id": "404e1f1a-e850-432c-988f-3e9612416b6a",
   "metadata": {},
   "outputs": [],
   "source": [
    "def list_directories(path: Path, pattern: str) -> list[Path]:\n",
    "    return [x for x in path.glob(pattern) if x.is_dir()]"
   ]
  },
  {
   "cell_type": "code",
   "execution_count": 16,
   "id": "1c9b8405-0167-422f-9565-bdf7c0bbd059",
   "metadata": {},
   "outputs": [
    {
     "name": "stdout",
     "output_type": "stream",
     "text": [
      "CPU times: user 16 ms, sys: 0 ns, total: 16 ms\n",
      "Wall time: 33.6 ms\n"
     ]
    },
    {
     "data": {
      "text/plain": [
       "613"
      ]
     },
     "execution_count": 16,
     "metadata": {},
     "output_type": "execute_result"
    }
   ],
   "source": [
    "%%time\n",
    "year_month_day_directories = list_directories(path=EUMETSAT_PATH, pattern='*/*/*')\n",
    "n = len(year_month_day_directories)\n",
    "n"
   ]
  },
  {
   "cell_type": "code",
   "execution_count": 21,
   "id": "a422f554-a8c1-4e48-9070-54d9a74cbf83",
   "metadata": {},
   "outputs": [
    {
     "name": "stdout",
     "output_type": "stream",
     "text": [
      "613/613: /mnt/storage_a/data/ocf/solar_pv_nowcasting/nowcasting_dataset_pipeline/satellite/EUMETSAT/SEVIRI_RSS/native/2020/02/09CPU times: user 3.09 s, sys: 304 ms, total: 3.4 s\n",
      "Wall time: 4.14 s\n"
     ]
    }
   ],
   "source": [
    "%%time\n",
    "\n",
    "total_bytes_to_remove = 0\n",
    "files_to_remove = []\n",
    "\n",
    "for i, year_month_day_directory in enumerate(year_month_day_directories):\n",
    "    print(f'\\r{i+1:3d}/{n:3d}: {year_month_day_directory}', end='', flush=True)\n",
    "    \n",
    "    filenames_to_delete = find_duplicate_files(year_month_day_directory)\n",
    "    \n",
    "    files_to_remove.extend(filenames_to_delete)\n",
    "    total_bytes_to_remove += sum([x.stat().st_size for x in filenames_to_delete])"
   ]
  },
  {
   "cell_type": "code",
   "execution_count": 27,
   "id": "a6dd90fc-a40f-4d9d-a2d9-5ff325534556",
   "metadata": {},
   "outputs": [
    {
     "data": {
      "text/plain": [
       "14646"
      ]
     },
     "execution_count": 27,
     "metadata": {},
     "output_type": "execute_result"
    }
   ],
   "source": [
    "n_files_to_remove = len(files_removed)\n",
    "n_files_to_remove"
   ]
  },
  {
   "cell_type": "code",
   "execution_count": 23,
   "id": "cc917d15-45df-4caf-8276-79df66e8b26a",
   "metadata": {},
   "outputs": [
    {
     "data": {
      "text/plain": [
       "533.745391468"
      ]
     },
     "execution_count": 23,
     "metadata": {},
     "output_type": "execute_result"
    }
   ],
   "source": [
    "total_bytes_removed / 1E9"
   ]
  },
  {
   "cell_type": "code",
   "execution_count": 29,
   "id": "d0452ada-498a-482a-a040-515fd4f3f914",
   "metadata": {},
   "outputs": [
    {
     "name": "stdout",
     "output_type": "stream",
     "text": [
      "14646/14646: /mnt/storage_a/data/ocf/solar_pv_nowcasting/nowcasting_dataset_pipeline/satellite/EUMETSAT/SEVIRI_RSS/native/2020/02/09/MSG3-SEVI-MSG15-0100-NA-20200209235916.881000000Z-20200209235934-1402904-10.nat.bz2CPU times: user 10.3 s, sys: 2.24 s, total: 12.5 s\n",
      "Wall time: 2min 9s\n"
     ]
    }
   ],
   "source": [
    "%%time\n",
    "\n",
    "# Actually remove the files\n",
    "for i, filename in enumerate(files_removed):\n",
    "    if i % 100:\n",
    "        print(f'\\r{i+1:5d}/{n_files_to_remove:5d}: {filename}', end='', flush=True)\n",
    "    filename.unlink()"
   ]
  },
  {
   "cell_type": "code",
   "execution_count": null,
   "id": "1c7cda9b-248f-436c-9a29-89669fa55ffc",
   "metadata": {},
   "outputs": [],
   "source": []
  }
 ],
 "metadata": {
  "kernelspec": {
   "display_name": "nowcasting_dataset",
   "language": "python",
   "name": "nowcasting_dataset"
  },
  "language_info": {
   "codemirror_mode": {
    "name": "ipython",
    "version": 3
   },
   "file_extension": ".py",
   "mimetype": "text/x-python",
   "name": "python",
   "nbconvert_exporter": "python",
   "pygments_lexer": "ipython3",
   "version": "3.9.7"
  }
 },
 "nbformat": 4,
 "nbformat_minor": 5
}
